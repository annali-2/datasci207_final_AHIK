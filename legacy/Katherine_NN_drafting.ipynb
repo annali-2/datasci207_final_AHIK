{
 "cells": [
  {
   "cell_type": "markdown",
   "metadata": {
    "id": "U8Cs8_h8Vx_U"
   },
   "source": [
    "# References"
   ]
  },
  {
   "cell_type": "code",
   "execution_count": 1,
   "metadata": {
    "id": "zOFdxeNMRUVm"
   },
   "outputs": [],
   "source": [
    "# References\n",
    "\n",
    "# week11 - Demo_async (functional vs sequential API)\n",
    "# week06 - FFNN_DiabeticRetinopathy (building a FFNN)\n",
    "# week05 - imbalanced_data (standardization)\n",
    "# week03 - linear_regression (keras linear regression model)"
   ]
  },
  {
   "cell_type": "markdown",
   "metadata": {
    "id": "h7f83S3UV2DH"
   },
   "source": [
    "# Import packages and data"
   ]
  },
  {
   "cell_type": "code",
   "execution_count": 2,
   "metadata": {
    "id": "xqhLIiDoVxHO"
   },
   "outputs": [
    {
     "name": "stderr",
     "output_type": "stream",
     "text": [
      "2023-11-26 18:49:10.298437: I tensorflow/core/platform/cpu_feature_guard.cc:182] This TensorFlow binary is optimized to use available CPU instructions in performance-critical operations.\n",
      "To enable the following instructions: SSE4.1 SSE4.2, in other operations, rebuild TensorFlow with the appropriate compiler flags.\n"
     ]
    }
   ],
   "source": [
    "# standard\n",
    "import pandas as pd\n",
    "import numpy as np\n",
    "import random\n",
    "import os\n",
    "import math\n",
    "\n",
    "# tf and keras\n",
    "import tensorflow as tf\n",
    "from tensorflow.keras.preprocessing.image import ImageDataGenerator, array_to_img, img_to_array, load_img\n",
    "from keras import models\n",
    "from keras import layers\n",
    "\n",
    "# plots and images\n",
    "import seaborn as sns\n",
    "import matplotlib.pyplot as plt\n",
    "from IPython.display import Image\n",
    "%matplotlib inline\n",
    "\n",
    "#silence TF\n",
    "os.environ['TF_CPP_MIN_LOG_LEVEL'] = '3'\n",
    "\n",
    "# Setting random seeds\n",
    "random.seed(0)\n",
    "np.random.seed(0)\n",
    "tf.keras.backend.clear_session()\n",
    "tf.random.set_seed(0)"
   ]
  },
  {
   "cell_type": "markdown",
   "metadata": {},
   "source": [
    "## Google Data Import"
   ]
  },
  {
   "cell_type": "markdown",
   "metadata": {
    "colab": {
     "base_uri": "https://localhost:8080/"
    },
    "id": "V0KWOovScOBO",
    "outputId": "0bd53fb1-8e00-4e00-dffb-2ac88a207c7f"
   },
   "source": [
    "# Run to access your drive from google colab\n",
    "from google.colab import drive\n",
    "drive.mount('/content/drive', force_remount=False)"
   ]
  },
  {
   "cell_type": "markdown",
   "metadata": {
    "id": "VAaeVcqKcAEr"
   },
   "source": [
    "X_train = pd.read_csv('drive/MyDrive/data/X_train.csv')\n",
    "Y_train = pd.read_csv('drive/MyDrive/data/Y_train.csv')\n",
    "X_val = pd.read_csv('drive/MyDrive/data/X_val.csv')\n",
    "Y_val = pd.read_csv('drive/MyDrive/data/Y_val.csv')"
   ]
  },
  {
   "cell_type": "markdown",
   "metadata": {},
   "source": [
    "## Local Data Import"
   ]
  },
  {
   "cell_type": "code",
   "execution_count": 3,
   "metadata": {},
   "outputs": [],
   "source": [
    "X_train = pd.read_csv('X_train.csv')\n",
    "Y_train = pd.read_csv('Y_train.csv')\n",
    "X_val = pd.read_csv('X_val.csv')\n",
    "Y_val = pd.read_csv('Y_val.csv')"
   ]
  },
  {
   "cell_type": "markdown",
   "metadata": {},
   "source": [
    "## Required in Both"
   ]
  },
  {
   "cell_type": "code",
   "execution_count": 4,
   "metadata": {
    "id": "Qqk2h0YKlybU"
   },
   "outputs": [],
   "source": [
    "X_train.drop(columns=['Unnamed: 0'], inplace=True)\n",
    "Y_train.drop(columns=['Unnamed: 0'], inplace=True)\n",
    "X_val.drop(columns=['Unnamed: 0'], inplace=True)\n",
    "Y_val.drop(columns=['Unnamed: 0'], inplace=True)"
   ]
  },
  {
   "cell_type": "markdown",
   "metadata": {
    "id": "fVyClQxWXtX-"
   },
   "source": [
    "# Making a linear regression model"
   ]
  },
  {
   "cell_type": "code",
   "execution_count": 5,
   "metadata": {
    "id": "wYifl8qjcBw2"
   },
   "outputs": [],
   "source": [
    "# Specifying the inputs - only edits needed in this cell are in this first section\n",
    "columns = ['season_mapping', 'player_team_name_mapping', 'opp_team_name_mapping',\n",
    "          'opp_diff_ind_mapping', 'position_mapping', 'gw_mapping', 'was_home_mapping',\n",
    "         'assists_lag_5', 'bonus_lag_5', 'bps_lag_5', 'clean_sheets_lag_5',\n",
    "          'creativity_lag_5', 'goals_conceded_lag_5', 'goals_scored_lag_5',\n",
    "          'ict_index_lag_5', 'influence_lag_5', 'minutes_lag_5',\n",
    "          'own_goals_lag_5', 'penalties_missed_lag_5', 'penalties_saved_lag_5',\n",
    "          'red_cards_lag_5', 'saves_lag_5', 'selected_lag_5',\n",
    "          'player_team_score_lag_5', 'opp_team_score_lag_5', 'threat_lag_5',\n",
    "          'total_points_lag_5', 'value_lag_5', 'yellow_cards_lag_5']\n",
    "learning_rate = 0.001\n",
    "epoch_count = 5\n",
    "\n",
    "# Getting the subset of columns\n",
    "X_train_sub = X_train[columns]\n",
    "X_val_sub = X_val[columns]\n",
    "\n",
    "# Converting inputs into tensors\n",
    "X_train_tf = tf.convert_to_tensor(X_train_sub)\n",
    "X_val_tf = tf.convert_to_tensor(X_val_sub)\n",
    "Y_train_tf = tf.convert_to_tensor(Y_train)\n",
    "Y_val_tf = tf.convert_to_tensor(Y_val)\n",
    "\n",
    "# Getting number of features\n",
    "num_features = X_train_sub.shape[1]"
   ]
  },
  {
   "cell_type": "code",
   "execution_count": 6,
   "metadata": {
    "id": "Lg-I4TfLViAA"
   },
   "outputs": [],
   "source": [
    "# Building and compiling the model\n",
    "\n",
    "model = tf.keras.Sequential()\n",
    "\n",
    "# Create input layer\n",
    "model.add(tf.keras.Input(shape=(num_features,), name='Input'\n",
    "          ))\n",
    "\n",
    "# Create output layer\n",
    "model.add(tf.keras.layers.Dense(\n",
    "          activation = None,    # linear activation is used\n",
    "          units = 1,            # output dim - need to make sure this is correct\n",
    "          use_bias = True             \n",
    "          ))\n",
    "\n",
    "# Select optimizer\n",
    "optimizer = tf.keras.optimizers.Adam(learning_rate=learning_rate)\n",
    "\n",
    "# Compile the model\n",
    "model.compile(\n",
    "    optimizer=optimizer,\n",
    "    loss='mse',\n",
    "    metrics=['accuracy']\n",
    "    )"
   ]
  },
  {
   "cell_type": "code",
   "execution_count": 7,
   "metadata": {
    "colab": {
     "base_uri": "https://localhost:8080/"
    },
    "id": "MZE2WS5GjCIO",
    "outputId": "27ddc0c6-d29d-4fff-bf04-e1e56ee7bf33"
   },
   "outputs": [
    {
     "name": "stdout",
     "output_type": "stream",
     "text": [
      "Epoch 1/5\n",
      "2150/2150 [==============================] - 2s 666us/step - loss: 8.4454 - accuracy: 0.4087 - val_loss: 4.7439 - val_accuracy: 0.3128\n",
      "Epoch 2/5\n",
      "2150/2150 [==============================] - 1s 632us/step - loss: 4.8328 - accuracy: 0.4364 - val_loss: 4.5902 - val_accuracy: 0.5006\n",
      "Epoch 3/5\n",
      "2150/2150 [==============================] - 1s 607us/step - loss: 4.8062 - accuracy: 0.4387 - val_loss: 4.5893 - val_accuracy: 0.5439\n",
      "Epoch 4/5\n",
      "2150/2150 [==============================] - 1s 621us/step - loss: 4.7982 - accuracy: 0.4409 - val_loss: 4.5715 - val_accuracy: 0.4628\n",
      "Epoch 5/5\n",
      "2150/2150 [==============================] - 1s 693us/step - loss: 4.7888 - accuracy: 0.4469 - val_loss: 4.5698 - val_accuracy: 0.5280\n"
     ]
    }
   ],
   "source": [
    "# Fitting the model\n",
    "history = model.fit(\n",
    "    x = X_train_tf,\n",
    "    y = Y_train_tf,\n",
    "    epochs = epoch_count,\n",
    "    validation_data = (X_val_tf, Y_val_tf)\n",
    "    )"
   ]
  },
  {
   "cell_type": "code",
   "execution_count": 8,
   "metadata": {
    "colab": {
     "base_uri": "https://localhost:8080/",
     "height": 399
    },
    "id": "Wo270EAhj-0P",
    "outputId": "ab2fd116-4eb7-4a45-ecab-d51356e17a39"
   },
   "outputs": [
    {
     "data": {
      "image/png": "[encoded data removed]",
      "text/plain": [
       "<Figure size 1200x400 with 2 Axes>"
      ]
     },
     "metadata": {},
     "output_type": "display_data"
    }
   ],
   "source": [
    "# Plotting loss and accuracy for training and validation sets\n",
    "hist = history.history\n",
    "x_arr = np.arange(len(hist['loss'])) + 1\n",
    "\n",
    "fig = plt.figure(figsize=(12, 4))\n",
    "ax = fig.add_subplot(1, 2, 1)\n",
    "ax.plot(x_arr, hist['loss'], '-o', label='Train loss')\n",
    "ax.plot(x_arr, hist['val_loss'], '--<', label='Validation loss')\n",
    "ax.legend(fontsize=12)\n",
    "ax.set_xlabel('Epoch', size=12)\n",
    "ax.set_ylabel('Loss', size=12)\n",
    "ax.set_title('Loss by Epoch')\n",
    "\n",
    "ax = fig.add_subplot(1, 2, 2)\n",
    "ax.plot(x_arr, hist['accuracy'], '-o', label='Train acc.')\n",
    "ax.plot(x_arr, hist['val_accuracy'], '--<', label='Validation acc.')\n",
    "ax.legend(fontsize=12)\n",
    "ax.set_xlabel('Epoch', size=12)\n",
    "ax.set_ylabel('Accuracy', size=12)\n",
    "ax.set_ylim(0,1)\n",
    "ax.set_title('Accuracy by Epoch')\n",
    "plt.show()"
   ]
  },
  {
   "cell_type": "code",
   "execution_count": 9,
   "metadata": {
    "id": "p7nLNprRhld0"
   },
   "outputs": [],
   "source": [
    "# Need to make sure the model interprets the categorical variables correctly"
   ]
  },
  {
   "cell_type": "markdown",
   "metadata": {},
   "source": [
    "# Making a Baseline"
   ]
  },
  {
   "cell_type": "code",
   "execution_count": 10,
   "metadata": {},
   "outputs": [],
   "source": [
    "# Setting up necessary functions\n",
    "\n",
    "# Making a vector of predictions as long as the actuals\n",
    "def pred_vect(true_values, prediction=2):\n",
    "    predictions = []\n",
    "    count = 0\n",
    "    pred = prediction # Can pass baseline or 2\n",
    "    while count < len(true_values):\n",
    "        predictions.append(pred)\n",
    "        count += 1\n",
    "        \n",
    "    return predictions\n",
    "\n",
    "# Defining an MSE function\n",
    "def MSE(true_values, predicted_values):\n",
    "    \"\"\"Return the RMSE between true_values and predicted values.\"\"\"\n",
    "    tot = 0\n",
    "    count = 0\n",
    "    \n",
    "    # Calculating the SE for each data point\n",
    "    while count < len(true_values):\n",
    "        tot += (true_values[count] - predicted_values[count])**2\n",
    "        count += 1\n",
    "    \n",
    "    # Returning the MSE\n",
    "    return tot / len(true_values)\n",
    "\n",
    "def accuracy(true_values, predicted_values):\n",
    "    unique, counts = np.unique(true_values==predicted_values, return_counts=True)\n",
    "\n",
    "    acc_dict = dict(zip(unique, counts))\n",
    "\n",
    "    if True in acc_dict.keys():\n",
    "        acc = counts[-1] / np.sum(counts)\n",
    "    else:\n",
    "        acc = 0       \n",
    "\n",
    "    return f'Accuracy is {round(acc,2)*100}%'"
   ]
  },
  {
   "cell_type": "code",
   "execution_count": 11,
   "metadata": {},
   "outputs": [
    {
     "data": {
      "text/plain": [
       "1.3593784070590629"
      ]
     },
     "execution_count": 11,
     "metadata": {},
     "output_type": "execute_result"
    }
   ],
   "source": [
    "# Creating a baseline with the average value\n",
    "baseline = Y_train['total_points'].mean()\n",
    "baseline\n",
    "# Can't really use this, because partial values will have an accuracy of 0"
   ]
  },
  {
   "cell_type": "code",
   "execution_count": 21,
   "metadata": {},
   "outputs": [
    {
     "name": "stdout",
     "output_type": "stream",
     "text": [
      "Accuracy is 15.0%\n",
      "6.4320332601648476\n"
     ]
    }
   ],
   "source": [
    "true = np.array(Y_train['total_points'])\n",
    "pred = np.array(pred_vect(Y_train['total_points'],1))\n",
    "\n",
    "print(accuracy(true, pred))\n",
    "print(MSE(true, pred))"
   ]
  },
  {
   "cell_type": "markdown",
   "metadata": {},
   "source": [
    "# Making a NN"
   ]
  },
  {
   "cell_type": "code",
   "execution_count": 13,
   "metadata": {},
   "outputs": [],
   "source": [
    "# Column combination possibilities\n",
    "\n",
    "all_cols = X_train.columns\n",
    "\n",
    "lag_1 = ['assists_lag_1', 'bonus_lag_1', 'bps_lag_1', 'clean_sheets_lag_1',\n",
    "       'creativity_lag_1', 'goals_conceded_lag_1', 'goals_scored_lag_1',\n",
    "       'ict_index_lag_1', 'influence_lag_1', 'minutes_lag_1',\n",
    "       'own_goals_lag_1', 'penalties_missed_lag_1', 'penalties_saved_lag_1',\n",
    "       'red_cards_lag_1', 'saves_lag_1', 'selected_lag_1',\n",
    "       'player_team_score_lag_1', 'opp_team_score_lag_1', 'threat_lag_1',\n",
    "       'total_points_lag_1', 'value_lag_1', 'yellow_cards_lag_1']\n",
    "\n",
    "lag_3 = ['assists_lag_3', 'bonus_lag_3', 'bps_lag_3', 'clean_sheets_lag_3',\n",
    "       'creativity_lag_3', 'goals_conceded_lag_3', 'goals_scored_lag_3',\n",
    "       'ict_index_lag_3', 'influence_lag_3', 'minutes_lag_3',\n",
    "       'own_goals_lag_3', 'penalties_missed_lag_3', 'penalties_saved_lag_3',\n",
    "       'red_cards_lag_3', 'saves_lag_3', 'selected_lag_3',\n",
    "       'player_team_score_lag_3', 'opp_team_score_lag_3', 'threat_lag_3',\n",
    "       'total_points_lag_3', 'value_lag_3', 'yellow_cards_lag_3']\n",
    "\n",
    "lag_5 = ['assists_lag_5', 'bonus_lag_5', 'bps_lag_5', 'clean_sheets_lag_5',\n",
    "       'creativity_lag_5', 'goals_conceded_lag_5', 'goals_scored_lag_5',\n",
    "       'ict_index_lag_5', 'influence_lag_5', 'minutes_lag_5',\n",
    "       'own_goals_lag_5', 'penalties_missed_lag_5', 'penalties_saved_lag_5',\n",
    "       'red_cards_lag_5', 'saves_lag_5', 'selected_lag_5',\n",
    "       'player_team_score_lag_5', 'opp_team_score_lag_5', 'threat_lag_5',\n",
    "       'total_points_lag_5', 'value_lag_5', 'yellow_cards_lag_5']\n",
    "\n",
    "cat = ['season_mapping', 'player_team_name_mapping', 'opp_team_name_mapping',\n",
    "       'opp_diff_ind_mapping', 'position_mapping', 'gw_mapping', 'was_home_mapping']\n",
    "\n",
    "judgmental_imp = ['player_team_name_mapping', 'opp_team_name_mapping',\n",
    "       'opp_diff_ind_mapping', 'position_mapping', 'was_home_mapping',\n",
    "       'assists_lag_3', 'bonus_lag_3', 'goals_scored_lag_3', 'ict_index_lag_3', \n",
    "       'minutes_lag_3', 'red_cards_lag_3', 'selected_lag_3', 'player_team_score_lag_3', \n",
    "       'opp_team_score_lag_3', 'total_points_lag_3', 'value_lag_3', 'yellow_cards_lag_3'] # Uses lag 3 as a default"
   ]
  },
  {
   "cell_type": "code",
   "execution_count": 14,
   "metadata": {},
   "outputs": [],
   "source": [
    "def loss_acc_plots(history):\n",
    "    '''\n",
    "    Takes in history from model fitting and plots loss and accuracy by epoch for both train and val\n",
    "    '''\n",
    "    hist = history.history\n",
    "    x_arr = np.arange(len(hist['loss'])) + 1\n",
    "    \n",
    "    fig = plt.figure(figsize=(12, 4))\n",
    "    ax = fig.add_subplot(1, 2, 1)\n",
    "    ax.plot(x_arr, hist['loss'], '-o', label='Train loss')\n",
    "    ax.plot(x_arr, hist['val_loss'], '--<', label='Validation loss')\n",
    "    ax.legend(fontsize=12)\n",
    "    ax.set_xlabel('Epoch', size=12)\n",
    "    ax.set_ylabel('Loss', size=12)\n",
    "    ax.set_title('Loss by Epoch')\n",
    "    \n",
    "    ax = fig.add_subplot(1, 2, 2)\n",
    "    ax.plot(x_arr, hist['accuracy'], '-o', label='Train acc.')\n",
    "    ax.plot(x_arr, hist['val_accuracy'], '--<', label='Validation acc.')\n",
    "    ax.legend(fontsize=12)\n",
    "    ax.set_xlabel('Epoch', size=12)\n",
    "    ax.set_ylabel('Accuracy', size=12)\n",
    "    ax.set_ylim(0,1)\n",
    "    ax.set_title('Accuracy by Epoch')\n",
    "    plt.show()"
   ]
  },
  {
   "cell_type": "code",
   "execution_count": 26,
   "metadata": {},
   "outputs": [],
   "source": [
    "# Setup for testing different configurations\n",
    "\n",
    "def create_nn(columns=all_cols, learning_rate=0.01, epoch_count=5, hidden_layer_sizes=[], \n",
    "              hl_act_func='relu', oput_act_func=None, optimizer='Adam', plot_flag=True,\n",
    "              verbosity_flag=True):\n",
    "    \n",
    "    ############################################################################################## 1\n",
    "    # Preparing the data\n",
    "    \n",
    "    # Getting the subset of columns\n",
    "    X_train_sub = X_train[columns]\n",
    "    X_val_sub = X_val[columns]\n",
    "    \n",
    "    # Converting inputs into tensors\n",
    "    X_train_tf = tf.convert_to_tensor(X_train_sub)\n",
    "    X_val_tf = tf.convert_to_tensor(X_val_sub)\n",
    "    Y_train_tf = tf.convert_to_tensor(Y_train)\n",
    "    Y_val_tf = tf.convert_to_tensor(Y_val)\n",
    "    \n",
    "    # Getting number of features\n",
    "    num_features = X_train_sub.shape[1]\n",
    "\n",
    "    ############################################################################################## 2\n",
    "    # Building the model\n",
    "    model = tf.keras.Sequential()\n",
    "\n",
    "    # Create input layer\n",
    "    model.add(tf.keras.Input(shape=(num_features,), name='Input'\n",
    "              ))\n",
    "\n",
    "    # (Optional) Create hidden layers\n",
    "    for i, hidden_layer_size in enumerate(hidden_layer_sizes):\n",
    "      model.add(tf.keras.layers.Dense(units=hidden_layer_size,\n",
    "                                     activation=hl_act_func,\n",
    "                                     name = f'Hidden_{i+1}'))\n",
    "\n",
    "    # (Optional) Create dropout\n",
    "    \n",
    "    # Create output layer\n",
    "    model.add(tf.keras.layers.Dense(\n",
    "              activation = oput_act_func,    # linear activation is used\n",
    "              units = 1,                # output dim - need to make sure this is correct\n",
    "              use_bias = True             \n",
    "              ))\n",
    "    \n",
    "    # Select optimizer\n",
    "    if optimizer == 'SGD':\n",
    "      opt = tf.keras.optimizers.SGD(learning_rate=learning_rate)\n",
    "    elif optimizer == 'Adam':\n",
    "      opt = tf.keras.optimizers.Adam(learning_rate=learning_rate)\n",
    "    else:\n",
    "      raise 'Unsupported optimizer: %s' %optimizer\n",
    "\n",
    "    ############################################################################################## 3\n",
    "    # Compiling the model\n",
    "    model.compile(\n",
    "        optimizer=opt,\n",
    "        loss='mse', # Do we want RMSE?\n",
    "        metrics=['accuracy']\n",
    "        )\n",
    "\n",
    "    ############################################################################################## 4\n",
    "    # Fitting the model\n",
    "    history = model.fit(\n",
    "        x = X_train_tf,\n",
    "        y = Y_train_tf,\n",
    "        epochs = epoch_count,\n",
    "        validation_data = (X_val_tf, Y_val_tf),\n",
    "        verbose=verbosity_flag\n",
    "    )\n",
    "\n",
    "    ############################################################################################## 5\n",
    "    # Displaying learning rates\n",
    "    if plot_flag == True:\n",
    "        loss_acc_plots(history)"
   ]
  },
  {
   "cell_type": "code",
   "execution_count": 29,
   "metadata": {},
   "outputs": [
    {
     "name": "stdout",
     "output_type": "stream",
     "text": [
      "Epoch 1/5\n",
      "2150/2150 [==============================] - 2s 841us/step - loss: 4.7992 - accuracy: 0.4748 - val_loss: 4.5132 - val_accuracy: 0.5744\n",
      "Epoch 2/5\n",
      "2150/2150 [==============================] - 2s 811us/step - loss: 4.6812 - accuracy: 0.4966 - val_loss: 4.4537 - val_accuracy: 0.5550\n",
      "Epoch 3/5\n",
      "2150/2150 [==============================] - 2s 781us/step - loss: 4.6651 - accuracy: 0.5013 - val_loss: 4.4509 - val_accuracy: 0.5602\n",
      "Epoch 4/5\n",
      "2150/2150 [==============================] - 2s 787us/step - loss: 4.6501 - accuracy: 0.5063 - val_loss: 4.4442 - val_accuracy: 0.5212\n",
      "Epoch 5/5\n",
      "2150/2150 [==============================] - 2s 784us/step - loss: 4.6360 - accuracy: 0.5069 - val_loss: 4.4689 - val_accuracy: 0.5459\n"
     ]
    },
    {
     "data": {
      "image/png": "[encoded data removed]",
      "text/plain": [
       "<Figure size 1200x400 with 2 Axes>"
      ]
     },
     "metadata": {},
     "output_type": "display_data"
    }
   ],
   "source": [
    "create_nn(learning_rate=0.001, columns=judgmental_imp, hidden_layer_sizes=[32, 64, 128], oput_act_func='relu')"
   ]
  },
  {
   "cell_type": "code",
   "execution_count": null,
   "metadata": {},
   "outputs": [],
   "source": [
    "# Make a DF with columns for all the possible things you can change (AKA everything you pass into the function) outside the NN fucntion\n",
    "# For every new NN model, append a row with these things and the final train and val loss and accuracy\n",
    "# Make a range of scenarios to test (with multiple options for each potential change point)\n",
    "# Test them and complete the table\n",
    "# Sort the table by train loss (ascending) to select the most promising scenarios"
   ]
  }
 ],
 "metadata": {
  "colab": {
   "provenance": []
  },
  "kernelspec": {
   "display_name": "Python 3 (ipykernel)",
   "language": "python",
   "name": "python3"
  },
  "language_info": {
   "codemirror_mode": {
    "name": "ipython",
    "version": 3
   },
   "file_extension": ".py",
   "mimetype": "text/x-python",
   "name": "python",
   "nbconvert_exporter": "python",
   "pygments_lexer": "ipython3",
   "version": "3.9.18"
  }
 },
 "nbformat": 4,
 "nbformat_minor": 4
}
