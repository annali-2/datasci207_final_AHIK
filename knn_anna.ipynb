{
 "cells": [
  {
   "cell_type": "code",
   "execution_count": 1,
   "id": "5421e232-c9c3-455a-8967-0500f1218e1c",
   "metadata": {},
   "outputs": [],
   "source": [
    "# standard\n",
    "import pandas as pd\n",
    "import numpy as np\n",
    "import random\n",
    "import os\n",
    "import math\n",
    "\n",
    "# tf and keras\n",
    "import tensorflow as tf\n",
    "from tensorflow.keras.preprocessing.image import ImageDataGenerator, array_to_img, img_to_array, load_img\n",
    "from keras import models\n",
    "from keras import layers\n",
    "\n",
    "from sklearn.neighbors import KNeighborsRegressor\n",
    "from sklearn.model_selection  import train_test_split, cross_val_score\n",
    "from sklearn.metrics import accuracy_score, mean_squared_error\n",
    "\n",
    "# plots and images\n",
    "import seaborn as sns\n",
    "import matplotlib.pyplot as plt\n",
    "from IPython.display import Image\n",
    "%matplotlib inline\n",
    "\n",
    "#silence TF\n",
    "os.environ['TF_CPP_MIN_LOG_LEVEL'] = '3'\n",
    "\n",
    "# Setting random seeds\n",
    "random.seed(0)\n",
    "np.random.seed(0)\n",
    "tf.keras.backend.clear_session()\n",
    "tf.random.set_seed(0)"
   ]
  },
  {
   "cell_type": "markdown",
   "id": "eca6d9bc-0a85-424a-b256-c8577a9c16ee",
   "metadata": {},
   "source": [
    "### new section with player names"
   ]
  },
  {
   "cell_type": "markdown",
   "id": "c429070c-7d0a-4c8b-8780-bffa15033619",
   "metadata": {},
   "source": [
    "#### read in data from data4 (just X and Y) and split into train/val/test"
   ]
  },
  {
   "cell_type": "code",
   "execution_count": 83,
   "id": "9e84c0a2-e656-4a83-8862-30639c7963ae",
   "metadata": {},
   "outputs": [],
   "source": [
    "# read in data\n",
    "x = pd.read_csv(\"data4/X.csv\").drop(columns=['Unnamed: 0'])\n",
    "y = pd.read_csv(\"data4/Y.csv\").drop(columns=['Unnamed: 0'])\n",
    "\n",
    "# get dummies for all categorical variables\n",
    "cat_columns = ['season', 'player_team_name', 'opp_team_name', 'opp_diff_ind', 'position', 'GW', 'was_home', 'name_normalized']\n",
    "x_encoded = pd.get_dummies(x, columns = cat_columns)\n",
    "\n",
    "# get index for 2018-21 train, 2021-22 val, 2022-23 test split\n",
    "x_2018_2021_index = x.index[x['season'].isin(['2018-19','2019-20','2020-21'])].tolist()\n",
    "x_2021_2022_index = x.index[x['season'].isin(['2021-22'])].tolist()\n",
    "x_2022_2023_index = x.index[x['season'].isin(['2022-23'])].tolist()\n",
    "\n",
    "# get data for 2018-21 train, 2021-22 val, 2022-23 test split\n",
    "x_train_2018_21 = x_encoded.iloc[x_2018_2021_index]\n",
    "x_val_2021_22 = x_encoded.iloc[x_2021_2022_index]\n",
    "x_test_2022_23 = x_encoded.iloc[x_2022_2023_index]\n",
    "y_train_2018_21 = y.iloc[x_2018_2021_index].drop(columns=['season'])\n",
    "y_val_2021_22 = y.iloc[x_2021_2022_index].drop(columns=['season'])\n",
    "y_test_2022_23 = y.iloc[x_2022_2023_index].drop(columns=['season'])"
   ]
  },
  {
   "cell_type": "markdown",
   "id": "eb8f6a57-2f2b-4299-ae81-8998063e939a",
   "metadata": {},
   "source": [
    "#### no validation split needed for KNN actually, so just split into train/test\n",
    "maybe can delete section right above later"
   ]
  },
  {
   "cell_type": "code",
   "execution_count": 92,
   "id": "f8bdd34e-58d5-4967-996a-da0dff3f2ec9",
   "metadata": {},
   "outputs": [],
   "source": [
    "# read in data\n",
    "x = pd.read_csv(\"data4/X.csv\").drop(columns=['Unnamed: 0'])\n",
    "y = pd.read_csv(\"data4/Y.csv\").drop(columns=['Unnamed: 0'])\n",
    "\n",
    "# get dummies for all categorical variables\n",
    "cat_columns = ['season', 'player_team_name', 'opp_team_name', 'opp_diff_ind', 'position', 'GW', 'was_home', 'name_normalized']\n",
    "x_encoded = pd.get_dummies(x, columns = cat_columns)\n",
    "\n",
    "# get index for 2018-21 train, 2021-22 val, 2022-23 test split\n",
    "x_2018_2022_index = x.index[x['season'].isin(['2018-19','2019-20','2020-21','2021-22'])].tolist()\n",
    "x_2022_2023_index = x.index[x['season'].isin(['2022-23'])].tolist()\n",
    "\n",
    "# get data for 2018-21 train, 2021-22 val, 2022-23 test split\n",
    "x_train_2018_22 = x_encoded.iloc[x_2018_2022_index]\n",
    "x_test_2022_23 = x_encoded.iloc[x_2022_2023_index]\n",
    "y_train_2018_22 = y.iloc[x_2018_2022_index].drop(columns=['season'])\n",
    "y_test_2022_23 = y.iloc[x_2022_2023_index].drop(columns=['season'])"
   ]
  },
  {
   "cell_type": "markdown",
   "id": "f4543bc4-321a-4547-af21-f9e98eaf54eb",
   "metadata": {},
   "source": [
    "#### baseline"
   ]
  },
  {
   "cell_type": "code",
   "execution_count": 91,
   "id": "8c438c21-6451-40b2-8381-90180893d12f",
   "metadata": {},
   "outputs": [
    {
     "name": "stdout",
     "output_type": "stream",
     "text": [
      "train MSE: 6.302880420704537\n",
      "val MSE: 6.02675090957298\n",
      "test MSE: 5.573325945935219\n"
     ]
    }
   ],
   "source": [
    "# calculate baseline\n",
    "baseline = y_train_2018_21.total_points.mean()\n",
    "\n",
    "# compute RMSE of baseline on test and train data\n",
    "mse_train = np.square(np.subtract(y_train_2018_21.total_points , baseline)).mean()\n",
    "mse_val = np.square(np.subtract(y_val_2021_22.total_points , baseline)).mean()\n",
    "mse_test = np.square(np.subtract(y_test_2022_23.total_points , baseline)).mean()\n",
    "\n",
    "print(f\"train MSE: {mse_train}\")\n",
    "print(f\"val MSE: {mse_val}\")\n",
    "print(f\"test MSE: {mse_test}\")"
   ]
  },
  {
   "cell_type": "markdown",
   "id": "b06066ec-7a83-417c-b0d0-969b78a0d88b",
   "metadata": {},
   "source": [
    "#### different variable combination possibilities"
   ]
  },
  {
   "cell_type": "code",
   "execution_count": 109,
   "id": "18308172-4c08-4562-ac44-65e8dcea4ecf",
   "metadata": {},
   "outputs": [],
   "source": [
    "# Column combination possibilities\n",
    "all_cols = x_train_2018_22.columns\n",
    "\n",
    "lag_1 = ['assists_lag_1', 'bonus_lag_1', 'bps_lag_1', 'clean_sheets_lag_1',\n",
    "       'creativity_lag_1', 'goals_conceded_lag_1', 'goals_scored_lag_1',\n",
    "       'ict_index_lag_1', 'influence_lag_1', 'minutes_lag_1',\n",
    "       'own_goals_lag_1', 'penalties_missed_lag_1', 'penalties_saved_lag_1',\n",
    "       'red_cards_lag_1', 'saves_lag_1', 'selected_lag_1',\n",
    "       'player_team_score_lag_1', 'opp_team_score_lag_1', 'threat_lag_1',\n",
    "       'total_points_lag_1', 'value_lag_1', 'yellow_cards_lag_1']\n",
    "\n",
    "lag_3 = ['assists_lag_3', 'bonus_lag_3', 'bps_lag_3', 'clean_sheets_lag_3',\n",
    "       'creativity_lag_3', 'goals_conceded_lag_3', 'goals_scored_lag_3',\n",
    "       'ict_index_lag_3', 'influence_lag_3', 'minutes_lag_3',\n",
    "       'own_goals_lag_3', 'penalties_missed_lag_3', 'penalties_saved_lag_3',\n",
    "       'red_cards_lag_3', 'saves_lag_3', 'selected_lag_3',\n",
    "       'player_team_score_lag_3', 'opp_team_score_lag_3', 'threat_lag_3',\n",
    "       'total_points_lag_3', 'value_lag_3', 'yellow_cards_lag_3']\n",
    "\n",
    "lag_5 = ['assists_lag_5', 'bonus_lag_5', 'bps_lag_5', 'clean_sheets_lag_5',\n",
    "       'creativity_lag_5', 'goals_conceded_lag_5', 'goals_scored_lag_5',\n",
    "       'ict_index_lag_5', 'influence_lag_5', 'minutes_lag_5',\n",
    "       'own_goals_lag_5', 'penalties_missed_lag_5', 'penalties_saved_lag_5',\n",
    "       'red_cards_lag_5', 'saves_lag_5', 'selected_lag_5',\n",
    "       'player_team_score_lag_5', 'opp_team_score_lag_5', 'threat_lag_5',\n",
    "       'total_points_lag_5', 'value_lag_5', 'yellow_cards_lag_5']\n",
    "\n",
    "# Create subset of features based on lag\n",
    "lag1_features = list(set(all_cols) - set(lag_3) - set(lag_5))\n",
    "lag3_features = list(set(all_cols) - set(lag_1) - set(lag_5))\n",
    "lag5_features = list(set(all_cols) - set(lag_1) - set(lag_3))\n",
    "\n",
    "# create different possibilities of train and test based on which lag is chosen\n",
    "x_train_lag1 = x_train_2018_22[lag1_features]\n",
    "x_train_lag3 = x_train_2018_22[lag3_features]\n",
    "x_train_lag5 = x_train_2018_22[lag5_features]\n",
    "\n",
    "x_test_lag1 = x_test_2022_23[lag1_features]\n",
    "x_test_lag3 = x_test_2022_23[lag3_features]\n",
    "x_test_lag5 = x_test_2022_23[lag5_features]"
   ]
  },
  {
   "cell_type": "markdown",
   "id": "b6641f5c-5327-4f52-8bf5-d97be0581d67",
   "metadata": {},
   "source": [
    "#### knn modeling"
   ]
  },
  {
   "cell_type": "code",
   "execution_count": 123,
   "id": "254ea39c-d3f0-4341-b789-08a88b947c8a",
   "metadata": {},
   "outputs": [],
   "source": [
    "def run_knn(k, df_x_train, df_x_test, y_train, y_test, cv=10):\n",
    "    \n",
    "    # running for different K values to know which yields the max accuracy.\n",
    "    scores=[]\n",
    "    for K in range(k):   \n",
    "        K = K+1\n",
    "        clf = KNeighborsRegressor(n_neighbors = K)\n",
    "        clf.fit(df_x_train, y_train)\n",
    "        score = cross_val_score(clf, df_x_train, y_train, cv=10)\n",
    "        scores.append(score.mean())\n",
    "        print(f\"k={K} mse: {1 - score.mean()}\")\n",
    "    \n",
    "    mse = [1-x for x in scores]\n",
    "    optimal_k = mse.index(min(mse)) + 1\n",
    "    print(\"Optimal K: \", optimal_k)\n",
    "    \n",
    "    # Training the model on Optimal K.\n",
    "    clf_optimal = KNeighborsRegressor(n_neighbors = optimal_k)\n",
    "    clf_optimal.fit(df_x_train, y_train)\n",
    "    y_pred = clf_optimal.predict(df_x_test)\n",
    "    print(\"MSE Error: \", mean_squared_error(y_test, y_pred))\n",
    "\n",
    "    return mse"
   ]
  },
  {
   "cell_type": "markdown",
   "id": "382680b5-7ff5-4688-b240-60a054f0d692",
   "metadata": {},
   "source": [
    "#### trial of function"
   ]
  },
  {
   "cell_type": "code",
   "execution_count": 124,
   "id": "bd5f691a-b735-40fc-919b-94795c07ea95",
   "metadata": {},
   "outputs": [
    {
     "name": "stdout",
     "output_type": "stream",
     "text": [
      "k=1 mse: 1.3205967046037645\n",
      "Optimal K:  1\n",
      "MSE Error:  8.093906810035842\n"
     ]
    },
    {
     "data": {
      "text/plain": [
       "[1.3205967046037645]"
      ]
     },
     "execution_count": 124,
     "metadata": {},
     "output_type": "execute_result"
    }
   ],
   "source": [
    "run_knn(1, x_train_lag1, x_test_lag1, y_train_2018_22, y_test_2022_23)"
   ]
  },
  {
   "cell_type": "code",
   "execution_count": null,
   "id": "b4c724f2-ae0e-4427-9c76-d24ab8bd880b",
   "metadata": {},
   "outputs": [
    {
     "name": "stdout",
     "output_type": "stream",
     "text": [
      "lag 1 results: \n",
      "k=1 mse: 1.3205967046037645\n",
      "k=2 mse: 1.006487195622321\n",
      "k=3 mse: 0.9103415570474163\n"
     ]
    }
   ],
   "source": [
    "print(\"lag 1 results: \")\n",
    "mse_lag1 = run_knn(20, x_train_lag1, x_test_lag1, y_train_2018_22, y_test_2022_23)"
   ]
  },
  {
   "cell_type": "code",
   "execution_count": null,
   "id": "af1f32f1-837c-4dea-9a8a-29469d2d8f17",
   "metadata": {},
   "outputs": [],
   "source": [
    "print(\"lag 3 results: \\n\")\n",
    "mse_lag2 = run_knn(20, x_train_lag3, x_test_lag3, y_train_2018_22, y_test_2022_23)"
   ]
  },
  {
   "cell_type": "code",
   "execution_count": null,
   "id": "c14ec81f-4487-41ac-8e9f-528bb88cb6be",
   "metadata": {},
   "outputs": [],
   "source": [
    "print(\"lag 5 results: \\n\")\n",
    "mse_lag3 = run_knn(20, x_train_lag5, x_test_lag5, y_train_2018_22, y_test_2022_23)"
   ]
  },
  {
   "cell_type": "markdown",
   "id": "0e7dd06d-8200-4054-9c79-016dd2a7e810",
   "metadata": {},
   "source": [
    "#### read in data"
   ]
  },
  {
   "cell_type": "code",
   "execution_count": 67,
   "id": "8fd49809-7284-4f97-b825-cbb1e23278be",
   "metadata": {},
   "outputs": [],
   "source": [
    "# read in data\n",
    "x_train = pd.read_csv(\"data3/X_train.csv\").drop(columns=['Unnamed: 0'])\n",
    "y_train = pd.read_csv(\"data3/Y_train.csv\").drop(columns=['Unnamed: 0'])\n",
    "x_val = pd.read_csv(\"data3/X_val.csv\").drop(columns=['Unnamed: 0'])\n",
    "y_val = pd.read_csv(\"data3/Y_val.csv\").drop(columns=['Unnamed: 0'])\n",
    "x_test = pd.read_csv(\"data3/X_test.csv\").drop(columns=['Unnamed: 0'])\n",
    "y_test = pd.read_csv(\"data3/Y_test.csv\").drop(columns=['Unnamed: 0'])"
   ]
  },
  {
   "cell_type": "code",
   "execution_count": 69,
   "id": "13ddffb5-7666-498d-bdd5-936212a3569b",
   "metadata": {},
   "outputs": [
    {
     "data": {
      "text/html": [
       "<div>\n",
       "<style scoped>\n",
       "    .dataframe tbody tr th:only-of-type {\n",
       "        vertical-align: middle;\n",
       "    }\n",
       "\n",
       "    .dataframe tbody tr th {\n",
       "        vertical-align: top;\n",
       "    }\n",
       "\n",
       "    .dataframe thead th {\n",
       "        text-align: right;\n",
       "    }\n",
       "</style>\n",
       "<table border=\"1\" class=\"dataframe\">\n",
       "  <thead>\n",
       "    <tr style=\"text-align: right;\">\n",
       "      <th></th>\n",
       "      <th>season</th>\n",
       "      <th>player_team_name</th>\n",
       "      <th>opp_team_name</th>\n",
       "      <th>opp_diff_ind</th>\n",
       "      <th>position</th>\n",
       "      <th>GW</th>\n",
       "      <th>was_home</th>\n",
       "      <th>name_normalized</th>\n",
       "      <th>assists_lag_1</th>\n",
       "      <th>bonus_lag_1</th>\n",
       "      <th>...</th>\n",
       "      <th>penalties_saved_lag_5</th>\n",
       "      <th>red_cards_lag_5</th>\n",
       "      <th>saves_lag_5</th>\n",
       "      <th>selected_lag_5</th>\n",
       "      <th>player_team_score_lag_5</th>\n",
       "      <th>opp_team_score_lag_5</th>\n",
       "      <th>threat_lag_5</th>\n",
       "      <th>total_points_lag_5</th>\n",
       "      <th>value_lag_5</th>\n",
       "      <th>yellow_cards_lag_5</th>\n",
       "    </tr>\n",
       "  </thead>\n",
       "  <tbody>\n",
       "    <tr>\n",
       "      <th>0</th>\n",
       "      <td>2018-19</td>\n",
       "      <td>West Ham</td>\n",
       "      <td>Liverpool</td>\n",
       "      <td>4</td>\n",
       "      <td>DEF</td>\n",
       "      <td>1</td>\n",
       "      <td>False</td>\n",
       "      <td>aaron cresswell</td>\n",
       "      <td>-0.184964</td>\n",
       "      <td>-0.215403</td>\n",
       "      <td>...</td>\n",
       "      <td>-0.048352</td>\n",
       "      <td>-0.093734</td>\n",
       "      <td>-0.177503</td>\n",
       "      <td>-0.409936</td>\n",
       "      <td>-1.808301</td>\n",
       "      <td>-1.899736</td>\n",
       "      <td>-0.529878</td>\n",
       "      <td>-0.752585</td>\n",
       "      <td>-3.373454</td>\n",
       "      <td>-0.430582</td>\n",
       "    </tr>\n",
       "    <tr>\n",
       "      <th>1</th>\n",
       "      <td>2018-19</td>\n",
       "      <td>West Ham</td>\n",
       "      <td>Bournemouth</td>\n",
       "      <td>1</td>\n",
       "      <td>DEF</td>\n",
       "      <td>2</td>\n",
       "      <td>True</td>\n",
       "      <td>aaron cresswell</td>\n",
       "      <td>-0.184964</td>\n",
       "      <td>-0.215403</td>\n",
       "      <td>...</td>\n",
       "      <td>-0.048352</td>\n",
       "      <td>-0.093734</td>\n",
       "      <td>-0.177503</td>\n",
       "      <td>-0.155985</td>\n",
       "      <td>-1.808301</td>\n",
       "      <td>3.816565</td>\n",
       "      <td>-0.529878</td>\n",
       "      <td>-0.752585</td>\n",
       "      <td>0.329490</td>\n",
       "      <td>-0.430582</td>\n",
       "    </tr>\n",
       "    <tr>\n",
       "      <th>2</th>\n",
       "      <td>2018-19</td>\n",
       "      <td>West Ham</td>\n",
       "      <td>Arsenal</td>\n",
       "      <td>4</td>\n",
       "      <td>DEF</td>\n",
       "      <td>3</td>\n",
       "      <td>False</td>\n",
       "      <td>aaron cresswell</td>\n",
       "      <td>-0.184964</td>\n",
       "      <td>-0.215403</td>\n",
       "      <td>...</td>\n",
       "      <td>-0.048352</td>\n",
       "      <td>-0.093734</td>\n",
       "      <td>-0.177503</td>\n",
       "      <td>-0.170799</td>\n",
       "      <td>-1.121215</td>\n",
       "      <td>2.387490</td>\n",
       "      <td>-0.529878</td>\n",
       "      <td>-0.752585</td>\n",
       "      <td>0.329490</td>\n",
       "      <td>-0.430582</td>\n",
       "    </tr>\n",
       "    <tr>\n",
       "      <th>3</th>\n",
       "      <td>2018-19</td>\n",
       "      <td>West Ham</td>\n",
       "      <td>Wolves</td>\n",
       "      <td>2</td>\n",
       "      <td>DEF</td>\n",
       "      <td>4</td>\n",
       "      <td>True</td>\n",
       "      <td>aaron cresswell</td>\n",
       "      <td>-0.184964</td>\n",
       "      <td>-0.215403</td>\n",
       "      <td>...</td>\n",
       "      <td>-0.048352</td>\n",
       "      <td>-0.093734</td>\n",
       "      <td>-0.177503</td>\n",
       "      <td>-0.193770</td>\n",
       "      <td>-0.892187</td>\n",
       "      <td>2.387490</td>\n",
       "      <td>-0.529878</td>\n",
       "      <td>-0.752585</td>\n",
       "      <td>0.307048</td>\n",
       "      <td>-0.430582</td>\n",
       "    </tr>\n",
       "    <tr>\n",
       "      <th>4</th>\n",
       "      <td>2018-19</td>\n",
       "      <td>West Ham</td>\n",
       "      <td>Everton</td>\n",
       "      <td>2</td>\n",
       "      <td>DEF</td>\n",
       "      <td>5</td>\n",
       "      <td>False</td>\n",
       "      <td>aaron cresswell</td>\n",
       "      <td>-0.184964</td>\n",
       "      <td>-0.215403</td>\n",
       "      <td>...</td>\n",
       "      <td>-0.048352</td>\n",
       "      <td>-0.093734</td>\n",
       "      <td>-0.177503</td>\n",
       "      <td>-0.212392</td>\n",
       "      <td>-1.121215</td>\n",
       "      <td>1.672952</td>\n",
       "      <td>-0.529878</td>\n",
       "      <td>-0.611039</td>\n",
       "      <td>0.278995</td>\n",
       "      <td>1.677694</td>\n",
       "    </tr>\n",
       "    <tr>\n",
       "      <th>...</th>\n",
       "      <td>...</td>\n",
       "      <td>...</td>\n",
       "      <td>...</td>\n",
       "      <td>...</td>\n",
       "      <td>...</td>\n",
       "      <td>...</td>\n",
       "      <td>...</td>\n",
       "      <td>...</td>\n",
       "      <td>...</td>\n",
       "      <td>...</td>\n",
       "      <td>...</td>\n",
       "      <td>...</td>\n",
       "      <td>...</td>\n",
       "      <td>...</td>\n",
       "      <td>...</td>\n",
       "      <td>...</td>\n",
       "      <td>...</td>\n",
       "      <td>...</td>\n",
       "      <td>...</td>\n",
       "      <td>...</td>\n",
       "      <td>...</td>\n",
       "    </tr>\n",
       "    <tr>\n",
       "      <th>68786</th>\n",
       "      <td>2020-21</td>\n",
       "      <td>Aston Villa</td>\n",
       "      <td>Man Utd</td>\n",
       "      <td>3</td>\n",
       "      <td>GK</td>\n",
       "      <td>35</td>\n",
       "      <td>True</td>\n",
       "      <td>rjan nyland</td>\n",
       "      <td>-0.184964</td>\n",
       "      <td>-0.215403</td>\n",
       "      <td>...</td>\n",
       "      <td>-0.048352</td>\n",
       "      <td>-0.093734</td>\n",
       "      <td>-0.177503</td>\n",
       "      <td>0.287310</td>\n",
       "      <td>0.665207</td>\n",
       "      <td>0.386784</td>\n",
       "      <td>-0.529878</td>\n",
       "      <td>-0.752585</td>\n",
       "      <td>-0.680404</td>\n",
       "      <td>-0.430582</td>\n",
       "    </tr>\n",
       "    <tr>\n",
       "      <th>68787</th>\n",
       "      <td>2020-21</td>\n",
       "      <td>Aston Villa</td>\n",
       "      <td>Everton</td>\n",
       "      <td>2</td>\n",
       "      <td>GK</td>\n",
       "      <td>35</td>\n",
       "      <td>True</td>\n",
       "      <td>rjan nyland</td>\n",
       "      <td>-0.184964</td>\n",
       "      <td>-0.215403</td>\n",
       "      <td>...</td>\n",
       "      <td>-0.048352</td>\n",
       "      <td>-0.093734</td>\n",
       "      <td>-0.177503</td>\n",
       "      <td>0.281039</td>\n",
       "      <td>0.115539</td>\n",
       "      <td>0.958415</td>\n",
       "      <td>-0.529878</td>\n",
       "      <td>-0.752585</td>\n",
       "      <td>-0.680404</td>\n",
       "      <td>-0.430582</td>\n",
       "    </tr>\n",
       "    <tr>\n",
       "      <th>68788</th>\n",
       "      <td>2020-21</td>\n",
       "      <td>Aston Villa</td>\n",
       "      <td>Crystal Palace</td>\n",
       "      <td>2</td>\n",
       "      <td>GK</td>\n",
       "      <td>36</td>\n",
       "      <td>False</td>\n",
       "      <td>rjan nyland</td>\n",
       "      <td>-0.184964</td>\n",
       "      <td>-0.215403</td>\n",
       "      <td>...</td>\n",
       "      <td>-0.048352</td>\n",
       "      <td>-0.093734</td>\n",
       "      <td>-0.177503</td>\n",
       "      <td>0.276369</td>\n",
       "      <td>-0.159296</td>\n",
       "      <td>0.386784</td>\n",
       "      <td>-0.529878</td>\n",
       "      <td>-0.752585</td>\n",
       "      <td>-0.680404</td>\n",
       "      <td>-0.430582</td>\n",
       "    </tr>\n",
       "    <tr>\n",
       "      <th>68789</th>\n",
       "      <td>2020-21</td>\n",
       "      <td>Aston Villa</td>\n",
       "      <td>Spurs</td>\n",
       "      <td>3</td>\n",
       "      <td>GK</td>\n",
       "      <td>37</td>\n",
       "      <td>False</td>\n",
       "      <td>rjan nyland</td>\n",
       "      <td>-0.184964</td>\n",
       "      <td>-0.215403</td>\n",
       "      <td>...</td>\n",
       "      <td>-0.048352</td>\n",
       "      <td>-0.093734</td>\n",
       "      <td>-0.177503</td>\n",
       "      <td>0.272210</td>\n",
       "      <td>0.115539</td>\n",
       "      <td>0.672600</td>\n",
       "      <td>-0.529878</td>\n",
       "      <td>-0.752585</td>\n",
       "      <td>-0.680404</td>\n",
       "      <td>-0.430582</td>\n",
       "    </tr>\n",
       "    <tr>\n",
       "      <th>68790</th>\n",
       "      <td>2020-21</td>\n",
       "      <td>Aston Villa</td>\n",
       "      <td>Chelsea</td>\n",
       "      <td>3</td>\n",
       "      <td>GK</td>\n",
       "      <td>38</td>\n",
       "      <td>True</td>\n",
       "      <td>rjan nyland</td>\n",
       "      <td>-0.184964</td>\n",
       "      <td>-0.215403</td>\n",
       "      <td>...</td>\n",
       "      <td>-0.048352</td>\n",
       "      <td>-0.093734</td>\n",
       "      <td>-0.177503</td>\n",
       "      <td>0.268574</td>\n",
       "      <td>0.115539</td>\n",
       "      <td>0.386784</td>\n",
       "      <td>-0.529878</td>\n",
       "      <td>-0.752585</td>\n",
       "      <td>-0.680404</td>\n",
       "      <td>-0.430582</td>\n",
       "    </tr>\n",
       "  </tbody>\n",
       "</table>\n",
       "<p>68791 rows × 74 columns</p>\n",
       "</div>"
      ],
      "text/plain": [
       "        season player_team_name   opp_team_name  opp_diff_ind position  GW  \\\n",
       "0      2018-19         West Ham       Liverpool             4      DEF   1   \n",
       "1      2018-19         West Ham     Bournemouth             1      DEF   2   \n",
       "2      2018-19         West Ham         Arsenal             4      DEF   3   \n",
       "3      2018-19         West Ham          Wolves             2      DEF   4   \n",
       "4      2018-19         West Ham         Everton             2      DEF   5   \n",
       "...        ...              ...             ...           ...      ...  ..   \n",
       "68786  2020-21      Aston Villa         Man Utd             3       GK  35   \n",
       "68787  2020-21      Aston Villa         Everton             2       GK  35   \n",
       "68788  2020-21      Aston Villa  Crystal Palace             2       GK  36   \n",
       "68789  2020-21      Aston Villa           Spurs             3       GK  37   \n",
       "68790  2020-21      Aston Villa         Chelsea             3       GK  38   \n",
       "\n",
       "       was_home  name_normalized  assists_lag_1  bonus_lag_1  ...  \\\n",
       "0         False  aaron cresswell      -0.184964    -0.215403  ...   \n",
       "1          True  aaron cresswell      -0.184964    -0.215403  ...   \n",
       "2         False  aaron cresswell      -0.184964    -0.215403  ...   \n",
       "3          True  aaron cresswell      -0.184964    -0.215403  ...   \n",
       "4         False  aaron cresswell      -0.184964    -0.215403  ...   \n",
       "...         ...              ...            ...          ...  ...   \n",
       "68786      True      rjan nyland      -0.184964    -0.215403  ...   \n",
       "68787      True      rjan nyland      -0.184964    -0.215403  ...   \n",
       "68788     False      rjan nyland      -0.184964    -0.215403  ...   \n",
       "68789     False      rjan nyland      -0.184964    -0.215403  ...   \n",
       "68790      True      rjan nyland      -0.184964    -0.215403  ...   \n",
       "\n",
       "       penalties_saved_lag_5  red_cards_lag_5  saves_lag_5  selected_lag_5  \\\n",
       "0                  -0.048352        -0.093734    -0.177503       -0.409936   \n",
       "1                  -0.048352        -0.093734    -0.177503       -0.155985   \n",
       "2                  -0.048352        -0.093734    -0.177503       -0.170799   \n",
       "3                  -0.048352        -0.093734    -0.177503       -0.193770   \n",
       "4                  -0.048352        -0.093734    -0.177503       -0.212392   \n",
       "...                      ...              ...          ...             ...   \n",
       "68786              -0.048352        -0.093734    -0.177503        0.287310   \n",
       "68787              -0.048352        -0.093734    -0.177503        0.281039   \n",
       "68788              -0.048352        -0.093734    -0.177503        0.276369   \n",
       "68789              -0.048352        -0.093734    -0.177503        0.272210   \n",
       "68790              -0.048352        -0.093734    -0.177503        0.268574   \n",
       "\n",
       "       player_team_score_lag_5  opp_team_score_lag_5  threat_lag_5  \\\n",
       "0                    -1.808301             -1.899736     -0.529878   \n",
       "1                    -1.808301              3.816565     -0.529878   \n",
       "2                    -1.121215              2.387490     -0.529878   \n",
       "3                    -0.892187              2.387490     -0.529878   \n",
       "4                    -1.121215              1.672952     -0.529878   \n",
       "...                        ...                   ...           ...   \n",
       "68786                 0.665207              0.386784     -0.529878   \n",
       "68787                 0.115539              0.958415     -0.529878   \n",
       "68788                -0.159296              0.386784     -0.529878   \n",
       "68789                 0.115539              0.672600     -0.529878   \n",
       "68790                 0.115539              0.386784     -0.529878   \n",
       "\n",
       "       total_points_lag_5  value_lag_5  yellow_cards_lag_5  \n",
       "0               -0.752585    -3.373454           -0.430582  \n",
       "1               -0.752585     0.329490           -0.430582  \n",
       "2               -0.752585     0.329490           -0.430582  \n",
       "3               -0.752585     0.307048           -0.430582  \n",
       "4               -0.611039     0.278995            1.677694  \n",
       "...                   ...          ...                 ...  \n",
       "68786           -0.752585    -0.680404           -0.430582  \n",
       "68787           -0.752585    -0.680404           -0.430582  \n",
       "68788           -0.752585    -0.680404           -0.430582  \n",
       "68789           -0.752585    -0.680404           -0.430582  \n",
       "68790           -0.752585    -0.680404           -0.430582  \n",
       "\n",
       "[68791 rows x 74 columns]"
      ]
     },
     "execution_count": 69,
     "metadata": {},
     "output_type": "execute_result"
    }
   ],
   "source": [
    "x_train"
   ]
  },
  {
   "cell_type": "code",
   "execution_count": null,
   "id": "90090971-96cf-4a3d-bdcb-adbb0f6830e8",
   "metadata": {},
   "outputs": [],
   "source": [
    "x_all = pd.concat([x_train, x_val, x_test])\n",
    "cat_columns = ['season', 'player_team_name', 'opp_team_name', 'opp_diff_ind', 'position', 'GW', 'was_home', 'name_normalized']\n",
    "x_all_encoded = pd.get_dummies(x_all, columns = cat_columns)"
   ]
  },
  {
   "cell_type": "markdown",
   "id": "32fea73b-3d54-401b-941c-dc766f2a55b6",
   "metadata": {},
   "source": [
    "#### read in data\n",
    "data1 directory has dense one-hot encodings <br>\n",
    "data2 directory has sparse one-hot encodings <br>\n",
    "data3 directory is same as data2 but with player name <br>\n",
    "data4 directory has just X and Y so that we can split train/val/test by different seasons"
   ]
  },
  {
   "cell_type": "code",
   "execution_count": 2,
   "id": "cf2b9814-4499-42ad-a1b0-c57ec024f2d0",
   "metadata": {},
   "outputs": [],
   "source": [
    "# read in data\n",
    "x_train = pd.read_csv(\"data2/X_train.csv\").drop(columns=['Unnamed: 0'])\n",
    "y_train = pd.read_csv(\"data2/Y_train.csv\").drop(columns=['Unnamed: 0'])\n",
    "x_val = pd.read_csv(\"data2/X_val.csv\").drop(columns=['Unnamed: 0'])\n",
    "y_val = pd.read_csv(\"data2/Y_val.csv\").drop(columns=['Unnamed: 0'])\n",
    "x_test = pd.read_csv(\"data2/X_test.csv\").drop(columns=['Unnamed: 0'])\n",
    "y_test = pd.read_csv(\"data2/Y_test.csv\").drop(columns=['Unnamed: 0'])"
   ]
  },
  {
   "cell_type": "code",
   "execution_count": 66,
   "id": "89f574d7-0894-450f-b88c-60b198b1e413",
   "metadata": {},
   "outputs": [
    {
     "data": {
      "text/plain": [
       "(120743, 73)"
      ]
     },
     "execution_count": 66,
     "metadata": {},
     "output_type": "execute_result"
    }
   ],
   "source": [
    "x_all = pd.concat([x_train, x_val, x_test])\n",
    "cat_columns = ['season', 'player_team_name', 'opp_team_name', 'opp_diff_ind', 'position', 'GW', 'was_home']\n",
    "x_all_encoded = pd.get_dummies(x_all, columns = cat_columns)"
   ]
  },
  {
   "cell_type": "markdown",
   "id": "5211fc58-fbb7-4839-ba57-054decf272da",
   "metadata": {},
   "source": [
    "#### Baseline"
   ]
  },
  {
   "cell_type": "code",
   "execution_count": 3,
   "id": "475b8385-d817-4d26-b338-ae7e535f4977",
   "metadata": {},
   "outputs": [
    {
     "name": "stdout",
     "output_type": "stream",
     "text": [
      "train MSE: 6.302880420704537\n",
      "test MSE: 5.573325945935219\n"
     ]
    }
   ],
   "source": [
    "# calculate baseline\n",
    "baseline = y_train.total_points.mean()\n",
    "\n",
    "# compute RMSE of baseline on test and train data\n",
    "mse_train = np.square(np.subtract(y_train.total_points , baseline)).mean()\n",
    "mse_test = np.square(np.subtract(y_test.total_points , baseline)).mean()\n",
    "\n",
    "print(f\"train MSE: {mse_train}\")\n",
    "print(f\"test MSE: {mse_test}\")"
   ]
  },
  {
   "cell_type": "markdown",
   "id": "380c8f22-2af7-468f-98bf-24ebdc4b927a",
   "metadata": {},
   "source": [
    "#### KNN Model"
   ]
  },
  {
   "cell_type": "code",
   "execution_count": 11,
   "id": "038b374a-4fcb-4427-807e-492e9d6c0bdc",
   "metadata": {},
   "outputs": [],
   "source": [
    "# Column combination possibilities\n",
    "\n",
    "all_cols = x_train.columns\n",
    "\n",
    "lag_1 = ['assists_lag_1', 'bonus_lag_1', 'bps_lag_1', 'clean_sheets_lag_1',\n",
    "       'creativity_lag_1', 'goals_conceded_lag_1', 'goals_scored_lag_1',\n",
    "       'ict_index_lag_1', 'influence_lag_1', 'minutes_lag_1',\n",
    "       'own_goals_lag_1', 'penalties_missed_lag_1', 'penalties_saved_lag_1',\n",
    "       'red_cards_lag_1', 'saves_lag_1', 'selected_lag_1',\n",
    "       'player_team_score_lag_1', 'opp_team_score_lag_1', 'threat_lag_1',\n",
    "       'total_points_lag_1', 'value_lag_1', 'yellow_cards_lag_1']\n",
    "\n",
    "lag_3 = ['assists_lag_3', 'bonus_lag_3', 'bps_lag_3', 'clean_sheets_lag_3',\n",
    "       'creativity_lag_3', 'goals_conceded_lag_3', 'goals_scored_lag_3',\n",
    "       'ict_index_lag_3', 'influence_lag_3', 'minutes_lag_3',\n",
    "       'own_goals_lag_3', 'penalties_missed_lag_3', 'penalties_saved_lag_3',\n",
    "       'red_cards_lag_3', 'saves_lag_3', 'selected_lag_3',\n",
    "       'player_team_score_lag_3', 'opp_team_score_lag_3', 'threat_lag_3',\n",
    "       'total_points_lag_3', 'value_lag_3', 'yellow_cards_lag_3']\n",
    "\n",
    "lag_5 = ['assists_lag_5', 'bonus_lag_5', 'bps_lag_5', 'clean_sheets_lag_5',\n",
    "       'creativity_lag_5', 'goals_conceded_lag_5', 'goals_scored_lag_5',\n",
    "       'ict_index_lag_5', 'influence_lag_5', 'minutes_lag_5',\n",
    "       'own_goals_lag_5', 'penalties_missed_lag_5', 'penalties_saved_lag_5',\n",
    "       'red_cards_lag_5', 'saves_lag_5', 'selected_lag_5',\n",
    "       'player_team_score_lag_5', 'opp_team_score_lag_5', 'threat_lag_5',\n",
    "       'total_points_lag_5', 'value_lag_5', 'yellow_cards_lag_5']\n",
    "\n",
    "cat = ['season', 'player_team_name', 'opp_team_name',\n",
    "       'opp_diff_ind', 'position', 'GW', 'was_home']\n",
    "\n",
    "judgmental_imp = ['player_team_name_mapping', 'opp_team_name_mapping',\n",
    "       'opp_diff_ind_mapping', 'position_mapping', 'was_home_mapping',\n",
    "       'assists_lag_3', 'bonus_lag_3', 'goals_scored_lag_3', 'ict_index_lag_3',\n",
    "       'minutes_lag_3', 'red_cards_lag_3', 'selected_lag_3', 'player_team_score_lag_3',\n",
    "       'opp_team_score_lag_3', 'total_points_lag_3', 'value_lag_3', 'yellow_cards_lag_3'] # Uses lag 3 as a default"
   ]
  },
  {
   "cell_type": "code",
   "execution_count": null,
   "id": "ce0b182c-7e86-43d6-97d4-5ba4bf902e88",
   "metadata": {},
   "outputs": [],
   "source": [
    "cat_columns = ['season', 'player_team_name', 'opp_team_name',\n",
    "       'opp_diff_ind', 'position', 'GW', 'was_home']\n",
    "df_encoded = pd.get_dummies(x_train, columns = cat_columns)"
   ]
  },
  {
   "cell_type": "markdown",
   "id": "9f2713a4-6172-4bec-84d0-a922bdadc1b4",
   "metadata": {},
   "source": [
    "#### run KNN model using CV to choose best K"
   ]
  },
  {
   "cell_type": "code",
   "execution_count": 56,
   "id": "bab0f77d-1a8d-4a2f-8adc-cf0be5b62d0e",
   "metadata": {},
   "outputs": [],
   "source": [
    "def run_knn(df_x_train, df_x_test, cv=10):\n",
    "    \n",
    "    # running for different K values to know which yields the max accuracy.\n",
    "    scores=[]\n",
    "    for K in range(20):   \n",
    "        K = K+1\n",
    "        clf = KNeighborsRegressor(n_neighbors = K)\n",
    "        clf.fit(df_x_train, y_train)\n",
    "        score = cross_val_score(clf, df_x_train, y_train, cv=10)\n",
    "        scores.append(score.mean())\n",
    "    \n",
    "    mse = [1-x for x in scores]\n",
    "    optimal_k = mse.index(min(mse)) + 1\n",
    "    print(\"Optimal K: \", optimal_k)\n",
    "    \n",
    "    # Training the model on Optimal K.\n",
    "    clf_optimal = KNeighborsRegressor(n_neighbors = optimal_k)\n",
    "    clf_optimal.fit(df_x_train, y_train)\n",
    "    y_pred = clf_optimal.predict(df_x_test)\n",
    "    print(\"MSE Error: \", mean_squared_error(y_test, y_pred))"
   ]
  },
  {
   "cell_type": "markdown",
   "id": "6ff5d6fe-e807-4a50-b5b8-6fc15dbf6fb5",
   "metadata": {},
   "source": [
    "#### this is ideal model, adding lagged variables with the categorical variables\n",
    "however, right now, it's throwing an error because there's categorical variables in the test data that aren't seen in the training data..."
   ]
  },
  {
   "cell_type": "code",
   "execution_count": null,
   "id": "158b0917-eb96-42ee-a9b3-1d0dca8e860a",
   "metadata": {},
   "outputs": [],
   "source": [
    "cat_columns = ['season', 'player_team_name', 'opp_team_name',\n",
    "       'opp_diff_ind', 'position', 'GW', 'was_home']\n",
    "\n",
    "df_xtrain_1 = x_train[lag_1 + cat]\n",
    "df_xtest_1 = x_test[lag_1 + cat]\n",
    "df_xtrain_1_encoded = pd.get_dummies(df_xtrain_1, columns = cat_columns)\n",
    "df_xtest_1_encoded = pd.get_dummies(df_xtest_1, columns = cat_columns)\n",
    "run_knn(df_xtrain_1, df_xtest_1, cv=10)"
   ]
  },
  {
   "cell_type": "markdown",
   "id": "d0ebf975-18e2-4a23-844a-8ac028a8c451",
   "metadata": {},
   "source": [
    "#### lag1 model"
   ]
  },
  {
   "cell_type": "code",
   "execution_count": 52,
   "id": "7560d261-0d0c-48c4-9b0f-028908915d86",
   "metadata": {},
   "outputs": [
    {
     "name": "stdout",
     "output_type": "stream",
     "text": [
      "Optimal K:  19\n",
      "RMS Error:  4.155893859988786\n"
     ]
    }
   ],
   "source": [
    "df_xtrain_1 = x_train[lag_1]\n",
    "df_xtest_1 = x_test[lag_1]\n",
    "run_knn(df_xtrain_1, df_xtest_1, cv=10)"
   ]
  },
  {
   "cell_type": "markdown",
   "id": "ea46677b-f78b-426f-8ac4-c147b4289e73",
   "metadata": {},
   "source": [
    "#### lag3 model"
   ]
  },
  {
   "cell_type": "code",
   "execution_count": 53,
   "id": "d008c7a7-f125-4ed1-8adc-a6d2083d80eb",
   "metadata": {},
   "outputs": [
    {
     "name": "stdout",
     "output_type": "stream",
     "text": [
      "Optimal K:  19\n",
      "RMS Error:  4.136794970478052\n"
     ]
    }
   ],
   "source": [
    "df_xtrain_3 = x_train[lag_3]\n",
    "df_xtest_3 = x_test[lag_3]\n",
    "run_knn(df_xtrain_3, df_xtest_3, cv=10)"
   ]
  },
  {
   "cell_type": "markdown",
   "id": "0a5fcea0-b646-4e0b-8e6f-72fe46d3e0c6",
   "metadata": {},
   "source": [
    "#### lag5 model"
   ]
  },
  {
   "cell_type": "code",
   "execution_count": 54,
   "id": "7a3506dd-e93d-4894-a999-b56f5915e347",
   "metadata": {},
   "outputs": [
    {
     "name": "stdout",
     "output_type": "stream",
     "text": [
      "Optimal K:  19\n",
      "RMS Error:  4.247562342546564\n"
     ]
    }
   ],
   "source": [
    "df_xtrain_5 = x_train[lag_5]\n",
    "df_xtest_5 = x_test[lag_5]\n",
    "run_knn(df_xtrain_5, df_xtest_5, cv=10)"
   ]
  },
  {
   "cell_type": "markdown",
   "id": "0b27f5fd-bdb6-47c1-8e58-8ae78585dfb5",
   "metadata": {},
   "source": [
    "#### all the data"
   ]
  },
  {
   "cell_type": "code",
   "execution_count": 58,
   "id": "78397f86-3b9c-4036-b008-92b58edce2be",
   "metadata": {},
   "outputs": [
    {
     "name": "stdout",
     "output_type": "stream",
     "text": [
      "Optimal K:  20\n",
      "MSE Error:  4.072635068854933\n"
     ]
    }
   ],
   "source": [
    "df_xtrain_all = x_train[lag_1 + lag_3 + lag_5]\n",
    "df_xtest_all = x_test[lag_1 + lag_3 + lag_5]\n",
    "run_knn(df_xtrain_all, df_xtest_all, cv=10)"
   ]
  },
  {
   "cell_type": "markdown",
   "id": "425c5812-ac5b-4e4e-aafa-34562e7f05a3",
   "metadata": {},
   "source": [
    "#### OLD: run KNN model for lag3 data "
   ]
  },
  {
   "cell_type": "code",
   "execution_count": null,
   "id": "238c1304-37e2-41de-9738-a6fe318b0ad7",
   "metadata": {},
   "outputs": [],
   "source": [
    "mse_val = [] #to store mse values for different k\n",
    "for K in range(20):\n",
    "    K = K+1\n",
    "    model = KNeighborsRegressor(n_neighbors = K)\n",
    "    model.fit(x_train, y_train)  #fit the model\n",
    "    pred=model.predict(x_test) #make prediction on test set\n",
    "    error = mean_squared_error(y_test,pred) #calculate rmse\n",
    "    mse_val.append(error) #store mse values\n",
    "    \n",
    "min_mse_index = mse_val.index(min(mse_val))\n",
    "min_mse = min(mse_val)\n",
    "print('Min mse: k=', min_mse_index , 'is:', min_mse)"
   ]
  },
  {
   "cell_type": "code",
   "execution_count": null,
   "id": "5fceb685-6b38-43c3-b8bf-b2d9eac11d91",
   "metadata": {},
   "outputs": [],
   "source": []
  }
 ],
 "metadata": {
  "kernelspec": {
   "display_name": "Python 3 (ipykernel)",
   "language": "python",
   "name": "python3"
  },
  "language_info": {
   "codemirror_mode": {
    "name": "ipython",
    "version": 3
   },
   "file_extension": ".py",
   "mimetype": "text/x-python",
   "name": "python",
   "nbconvert_exporter": "python",
   "pygments_lexer": "ipython3",
   "version": "3.9.18"
  }
 },
 "nbformat": 4,
 "nbformat_minor": 5
}
