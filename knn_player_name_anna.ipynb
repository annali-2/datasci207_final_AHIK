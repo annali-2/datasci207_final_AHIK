{
 "cells": [
  {
   "cell_type": "code",
   "execution_count": 178,
   "id": "5421e232-c9c3-455a-8967-0500f1218e1c",
   "metadata": {},
   "outputs": [],
   "source": [
    "# standard\n",
    "import pandas as pd\n",
    "import numpy as np\n",
    "import random\n",
    "import os\n",
    "import math\n",
    "\n",
    "# tf and keras\n",
    "import tensorflow as tf\n",
    "from tensorflow.keras.preprocessing.image import ImageDataGenerator, array_to_img, img_to_array, load_img\n",
    "from keras import models\n",
    "from keras import layers\n",
    "\n",
    "from sklearn.neighbors import KNeighborsRegressor\n",
    "from sklearn.model_selection  import train_test_split, cross_val_score\n",
    "from sklearn.metrics import accuracy_score, mean_squared_error, mean_absolute_error\n",
    "\n",
    "# plots and images\n",
    "import seaborn as sns\n",
    "import matplotlib.pyplot as plt\n",
    "from IPython.display import Image\n",
    "%matplotlib inline\n",
    "\n",
    "#silence TF\n",
    "os.environ['TF_CPP_MIN_LOG_LEVEL'] = '3'\n",
    "\n",
    "# Setting random seeds\n",
    "random.seed(0)\n",
    "np.random.seed(0)\n",
    "tf.keras.backend.clear_session()\n",
    "tf.random.set_seed(0)"
   ]
  },
  {
   "cell_type": "markdown",
   "id": "eca6d9bc-0a85-424a-b256-c8577a9c16ee",
   "metadata": {},
   "source": [
    "### new section with player names"
   ]
  },
  {
   "cell_type": "markdown",
   "id": "c429070c-7d0a-4c8b-8780-bffa15033619",
   "metadata": {},
   "source": [
    "#### read in data from data4 (just X and Y) and split into train/val/test"
   ]
  },
  {
   "cell_type": "code",
   "execution_count": 83,
   "id": "9e84c0a2-e656-4a83-8862-30639c7963ae",
   "metadata": {},
   "outputs": [],
   "source": [
    "# read in data\n",
    "x = pd.read_csv(\"data4/X.csv\").drop(columns=['Unnamed: 0'])\n",
    "y = pd.read_csv(\"data4/Y.csv\").drop(columns=['Unnamed: 0'])\n",
    "\n",
    "# get dummies for all categorical variables\n",
    "cat_columns = ['season', 'player_team_name', 'opp_team_name', 'opp_diff_ind', 'position', 'GW', 'was_home', 'name_normalized']\n",
    "x_encoded = pd.get_dummies(x, columns = cat_columns)\n",
    "\n",
    "# get index for 2018-21 train, 2021-22 val, 2022-23 test split\n",
    "x_2018_2021_index = x.index[x['season'].isin(['2018-19','2019-20','2020-21'])].tolist()\n",
    "x_2021_2022_index = x.index[x['season'].isin(['2021-22'])].tolist()\n",
    "x_2022_2023_index = x.index[x['season'].isin(['2022-23'])].tolist()\n",
    "\n",
    "# get data for 2018-21 train, 2021-22 val, 2022-23 test split\n",
    "x_train_2018_21 = x_encoded.iloc[x_2018_2021_index]\n",
    "x_val_2021_22 = x_encoded.iloc[x_2021_2022_index]\n",
    "x_test_2022_23 = x_encoded.iloc[x_2022_2023_index]\n",
    "y_train_2018_21 = y.iloc[x_2018_2021_index].drop(columns=['season'])\n",
    "y_val_2021_22 = y.iloc[x_2021_2022_index].drop(columns=['season'])\n",
    "y_test_2022_23 = y.iloc[x_2022_2023_index].drop(columns=['season'])"
   ]
  },
  {
   "cell_type": "markdown",
   "id": "eb8f6a57-2f2b-4299-ae81-8998063e939a",
   "metadata": {},
   "source": [
    "#### no validation split needed for KNN actually, so just split into train/test\n",
    "maybe can delete section right above later"
   ]
  },
  {
   "cell_type": "code",
   "execution_count": 92,
   "id": "f8bdd34e-58d5-4967-996a-da0dff3f2ec9",
   "metadata": {},
   "outputs": [],
   "source": [
    "# read in data\n",
    "x = pd.read_csv(\"data4/X.csv\").drop(columns=['Unnamed: 0'])\n",
    "y = pd.read_csv(\"data4/Y.csv\").drop(columns=['Unnamed: 0'])\n",
    "\n",
    "# get dummies for all categorical variables\n",
    "cat_columns = ['season', 'player_team_name', 'opp_team_name', 'opp_diff_ind', 'position', 'GW', 'was_home', 'name_normalized']\n",
    "x_encoded = pd.get_dummies(x, columns = cat_columns)\n",
    "\n",
    "# get index for 2018-21 train, 2021-22 val, 2022-23 test split\n",
    "x_2018_2022_index = x.index[x['season'].isin(['2018-19','2019-20','2020-21','2021-22'])].tolist()\n",
    "x_2022_2023_index = x.index[x['season'].isin(['2022-23'])].tolist()\n",
    "\n",
    "# get data for 2018-21 train, 2021-22 val, 2022-23 test split\n",
    "x_train_2018_22 = x_encoded.iloc[x_2018_2022_index]\n",
    "x_test_2022_23 = x_encoded.iloc[x_2022_2023_index]\n",
    "y_train_2018_22 = y.iloc[x_2018_2022_index].drop(columns=['season'])\n",
    "y_test_2022_23 = y.iloc[x_2022_2023_index].drop(columns=['season'])"
   ]
  },
  {
   "cell_type": "markdown",
   "id": "f4543bc4-321a-4547-af21-f9e98eaf54eb",
   "metadata": {},
   "source": [
    "#### baseline"
   ]
  },
  {
   "cell_type": "code",
   "execution_count": 91,
   "id": "8c438c21-6451-40b2-8381-90180893d12f",
   "metadata": {},
   "outputs": [
    {
     "name": "stdout",
     "output_type": "stream",
     "text": [
      "train MSE: 6.302880420704537\n",
      "val MSE: 6.02675090957298\n",
      "test MSE: 5.573325945935219\n"
     ]
    }
   ],
   "source": [
    "# calculate baseline\n",
    "baseline = y_train_2018_21.total_points.mean()\n",
    "\n",
    "# compute RMSE of baseline on test and train data\n",
    "mse_train = np.square(np.subtract(y_train_2018_21.total_points , baseline)).mean()\n",
    "mse_val = np.square(np.subtract(y_val_2021_22.total_points , baseline)).mean()\n",
    "mse_test = np.square(np.subtract(y_test_2022_23.total_points , baseline)).mean()\n",
    "\n",
    "print(f\"train MSE: {mse_train}\")\n",
    "print(f\"val MSE: {mse_val}\")\n",
    "print(f\"test MSE: {mse_test}\")"
   ]
  },
  {
   "cell_type": "markdown",
   "id": "b06066ec-7a83-417c-b0d0-969b78a0d88b",
   "metadata": {},
   "source": [
    "#### different variable combination possibilities"
   ]
  },
  {
   "cell_type": "code",
   "execution_count": 109,
   "id": "18308172-4c08-4562-ac44-65e8dcea4ecf",
   "metadata": {},
   "outputs": [],
   "source": [
    "# Column combination possibilities\n",
    "all_cols = x_train_2018_22.columns\n",
    "\n",
    "lag_1 = ['assists_lag_1', 'bonus_lag_1', 'bps_lag_1', 'clean_sheets_lag_1',\n",
    "       'creativity_lag_1', 'goals_conceded_lag_1', 'goals_scored_lag_1',\n",
    "       'ict_index_lag_1', 'influence_lag_1', 'minutes_lag_1',\n",
    "       'own_goals_lag_1', 'penalties_missed_lag_1', 'penalties_saved_lag_1',\n",
    "       'red_cards_lag_1', 'saves_lag_1', 'selected_lag_1',\n",
    "       'player_team_score_lag_1', 'opp_team_score_lag_1', 'threat_lag_1',\n",
    "       'total_points_lag_1', 'value_lag_1', 'yellow_cards_lag_1']\n",
    "\n",
    "lag_3 = ['assists_lag_3', 'bonus_lag_3', 'bps_lag_3', 'clean_sheets_lag_3',\n",
    "       'creativity_lag_3', 'goals_conceded_lag_3', 'goals_scored_lag_3',\n",
    "       'ict_index_lag_3', 'influence_lag_3', 'minutes_lag_3',\n",
    "       'own_goals_lag_3', 'penalties_missed_lag_3', 'penalties_saved_lag_3',\n",
    "       'red_cards_lag_3', 'saves_lag_3', 'selected_lag_3',\n",
    "       'player_team_score_lag_3', 'opp_team_score_lag_3', 'threat_lag_3',\n",
    "       'total_points_lag_3', 'value_lag_3', 'yellow_cards_lag_3']\n",
    "\n",
    "lag_5 = ['assists_lag_5', 'bonus_lag_5', 'bps_lag_5', 'clean_sheets_lag_5',\n",
    "       'creativity_lag_5', 'goals_conceded_lag_5', 'goals_scored_lag_5',\n",
    "       'ict_index_lag_5', 'influence_lag_5', 'minutes_lag_5',\n",
    "       'own_goals_lag_5', 'penalties_missed_lag_5', 'penalties_saved_lag_5',\n",
    "       'red_cards_lag_5', 'saves_lag_5', 'selected_lag_5',\n",
    "       'player_team_score_lag_5', 'opp_team_score_lag_5', 'threat_lag_5',\n",
    "       'total_points_lag_5', 'value_lag_5', 'yellow_cards_lag_5']\n",
    "\n",
    "# Create subset of features based on lag\n",
    "lag1_features = list(set(all_cols) - set(lag_3) - set(lag_5))\n",
    "lag3_features = list(set(all_cols) - set(lag_1) - set(lag_5))\n",
    "lag5_features = list(set(all_cols) - set(lag_1) - set(lag_3))\n",
    "\n",
    "# create different possibilities of train and test based on which lag is chosen\n",
    "x_train_lag1 = x_train_2018_22[lag1_features]\n",
    "x_train_lag3 = x_train_2018_22[lag3_features]\n",
    "x_train_lag5 = x_train_2018_22[lag5_features]\n",
    "\n",
    "x_test_lag1 = x_test_2022_23[lag1_features]\n",
    "x_test_lag3 = x_test_2022_23[lag3_features]\n",
    "x_test_lag5 = x_test_2022_23[lag5_features]"
   ]
  },
  {
   "cell_type": "markdown",
   "id": "b6641f5c-5327-4f52-8bf5-d97be0581d67",
   "metadata": {},
   "source": [
    "#### knn modeling"
   ]
  },
  {
   "cell_type": "code",
   "execution_count": 123,
   "id": "254ea39c-d3f0-4341-b789-08a88b947c8a",
   "metadata": {},
   "outputs": [],
   "source": [
    "def run_knn(k, df_x_train, df_x_test, y_train, y_test, cv=10):\n",
    "    \n",
    "    # running for different K values to know which yields the max accuracy.\n",
    "    scores=[]\n",
    "    for K in range(k):   \n",
    "        K = K+1\n",
    "        clf = KNeighborsRegressor(n_neighbors = K)\n",
    "        clf.fit(df_x_train, y_train)\n",
    "        score = cross_val_score(clf, df_x_train, y_train, cv=10)\n",
    "        scores.append(score.mean())\n",
    "        print(f\"k={K} mse: {1 - score.mean()}\")\n",
    "    \n",
    "    mse = [1-x for x in scores]\n",
    "    optimal_k = mse.index(min(mse)) + 1\n",
    "    print(\"Optimal K: \", optimal_k)\n",
    "    \n",
    "    # Training the model on Optimal K.\n",
    "    clf_optimal = KNeighborsRegressor(n_neighbors = optimal_k)\n",
    "    clf_optimal.fit(df_x_train, y_train)\n",
    "    y_pred = clf_optimal.predict(df_x_test)\n",
    "    print(\"MSE Error: \", mean_squared_error(y_test, y_pred))\n",
    "\n",
    "    return mse"
   ]
  },
  {
   "cell_type": "markdown",
   "id": "382680b5-7ff5-4688-b240-60a054f0d692",
   "metadata": {},
   "source": [
    "#### trial of function"
   ]
  },
  {
   "cell_type": "code",
   "execution_count": 124,
   "id": "bd5f691a-b735-40fc-919b-94795c07ea95",
   "metadata": {},
   "outputs": [
    {
     "name": "stdout",
     "output_type": "stream",
     "text": [
      "k=1 mse: 1.3205967046037645\n",
      "Optimal K:  1\n",
      "MSE Error:  8.093906810035842\n"
     ]
    },
    {
     "data": {
      "text/plain": [
       "[1.3205967046037645]"
      ]
     },
     "execution_count": 124,
     "metadata": {},
     "output_type": "execute_result"
    }
   ],
   "source": [
    "run_knn(1, x_train_lag1, x_test_lag1, y_train_2018_22, y_test_2022_23)"
   ]
  },
  {
   "cell_type": "markdown",
   "id": "78aa8c9c-0ccb-4619-9a2a-f9bddc30496e",
   "metadata": {},
   "source": [
    "#### run function for the different datasets"
   ]
  },
  {
   "cell_type": "code",
   "execution_count": 127,
   "id": "b4c724f2-ae0e-4427-9c76-d24ab8bd880b",
   "metadata": {},
   "outputs": [
    {
     "name": "stdout",
     "output_type": "stream",
     "text": [
      "lag 1 results: \n",
      "k=1 mse: 1.3205967046037645\n",
      "k=2 mse: 1.006487195622321\n",
      "k=3 mse: 0.9103415570474163\n",
      "k=4 mse: 0.8649854432234526\n",
      "k=5 mse: 0.8373378857913416\n",
      "k=6 mse: 0.818495981024069\n",
      "k=7 mse: 0.8056512820799687\n",
      "k=8 mse: 0.798924663504905\n",
      "k=9 mse: 0.7935161616282979\n",
      "k=10 mse: 0.7883684235367434\n",
      "k=11 mse: 0.7826660393139011\n",
      "k=12 mse: 0.7797402180061004\n",
      "k=13 mse: 0.7760438071121845\n",
      "k=14 mse: 0.7729816441268472\n",
      "k=15 mse: 0.7707369643775319\n",
      "k=16 mse: 0.7678452385088453\n",
      "k=17 mse: 0.7662204338197056\n",
      "k=18 mse: 0.7639150030090925\n",
      "k=19 mse: 0.761926516996524\n",
      "k=20 mse: 0.7601296185895565\n",
      "Optimal K:  20\n",
      "MSE Error:  4.159767213733258\n"
     ]
    }
   ],
   "source": [
    "# run for lag 1 data\n",
    "print(\"lag 1 results: \")\n",
    "mse_lag1 = run_knn(20, x_train_lag1, x_test_lag1, y_train_2018_22, y_test_2022_23)"
   ]
  },
  {
   "cell_type": "code",
   "execution_count": 128,
   "id": "af1f32f1-837c-4dea-9a8a-29469d2d8f17",
   "metadata": {},
   "outputs": [
    {
     "name": "stdout",
     "output_type": "stream",
     "text": [
      "lag 3 results: \n",
      "\n",
      "k=1 mse: 1.368850855402974\n",
      "k=2 mse: 1.0352891326665636\n",
      "k=3 mse: 0.9301800583005557\n",
      "k=4 mse: 0.8786106957568237\n",
      "k=5 mse: 0.8491166411331876\n",
      "k=6 mse: 0.8278443777421614\n",
      "k=7 mse: 0.8127799191010556\n",
      "k=8 mse: 0.8029356876099526\n",
      "k=9 mse: 0.7943097544633055\n",
      "k=10 mse: 0.7878740308419111\n",
      "k=11 mse: 0.7817815914757552\n",
      "k=12 mse: 0.7780690002093527\n",
      "k=13 mse: 0.7739216737337982\n",
      "k=14 mse: 0.7704594959924048\n",
      "k=15 mse: 0.7678803026564831\n",
      "k=16 mse: 0.7660642325383\n",
      "k=17 mse: 0.7644783896674971\n",
      "k=18 mse: 0.76288455172829\n",
      "k=19 mse: 0.7610111517551357\n",
      "k=20 mse: 0.759929397410826\n",
      "Optimal K:  20\n",
      "MSE Error:  4.140466704395397\n"
     ]
    }
   ],
   "source": [
    "# run for lag 3 data\n",
    "print(\"lag 3 results: \\n\")\n",
    "mse_lag2 = run_knn(20, x_train_lag3, x_test_lag3, y_train_2018_22, y_test_2022_23)"
   ]
  },
  {
   "cell_type": "code",
   "execution_count": 129,
   "id": "c14ec81f-4487-41ac-8e9f-528bb88cb6be",
   "metadata": {},
   "outputs": [
    {
     "name": "stdout",
     "output_type": "stream",
     "text": [
      "lag 5 results: \n",
      "\n",
      "k=1 mse: 1.3730471358012908\n",
      "k=2 mse: 1.0462445278165722\n",
      "k=3 mse: 0.9427051326037452\n",
      "k=4 mse: 0.8869957642364827\n",
      "k=5 mse: 0.8543918386235595\n",
      "k=6 mse: 0.8326526346905732\n",
      "k=7 mse: 0.8181703078348874\n",
      "k=8 mse: 0.8079844866705106\n",
      "k=9 mse: 0.8009712364209229\n",
      "k=10 mse: 0.7947893097755729\n",
      "k=11 mse: 0.7902647179431904\n",
      "k=12 mse: 0.785948283227794\n",
      "k=13 mse: 0.7811138731179007\n",
      "k=14 mse: 0.7786088071985982\n",
      "k=15 mse: 0.7763402163755881\n",
      "k=16 mse: 0.7743751618913154\n",
      "k=17 mse: 0.7722665541308886\n",
      "k=18 mse: 0.7707897791448188\n",
      "k=19 mse: 0.7686642569272989\n",
      "k=20 mse: 0.7674547382858276\n",
      "Optimal K:  20\n",
      "MSE Error:  4.210868326730806\n"
     ]
    }
   ],
   "source": [
    "# run for lag 5 data\n",
    "print(\"lag 5 results: \\n\")\n",
    "mse_lag3 = run_knn(20, x_train_lag5, x_test_lag5, y_train_2018_22, y_test_2022_23)"
   ]
  },
  {
   "cell_type": "code",
   "execution_count": 133,
   "id": "b432cf64-e2df-42f2-9bcf-4623c4dcad62",
   "metadata": {},
   "outputs": [
    {
     "name": "stdout",
     "output_type": "stream",
     "text": [
      "all lag results: \n",
      "\n",
      "k=1 mse: 1.3570350970379108\n",
      "k=2 mse: 1.0336211373934396\n",
      "k=3 mse: 0.9250616371078758\n",
      "k=4 mse: 0.8717853562975727\n",
      "k=5 mse: 0.8433798480227248\n",
      "k=6 mse: 0.8241115677007951\n",
      "k=7 mse: 0.8096374292645377\n",
      "k=8 mse: 0.8003899581407745\n",
      "k=9 mse: 0.7942524983180195\n",
      "k=10 mse: 0.7863527825254495\n",
      "k=11 mse: 0.7809282571595415\n",
      "k=12 mse: 0.7771634963237991\n",
      "k=13 mse: 0.7744695442913383\n",
      "k=14 mse: 0.7713396330086956\n",
      "k=15 mse: 0.7679912938933602\n",
      "k=16 mse: 0.7653627233838673\n",
      "k=17 mse: 0.7632592859953237\n",
      "k=18 mse: 0.761130919883367\n",
      "k=19 mse: 0.7593867735008113\n",
      "k=20 mse: 0.7574478373169767\n",
      "Optimal K:  20\n",
      "MSE Error:  4.082206376155442\n"
     ]
    }
   ],
   "source": [
    "# run for all data\n",
    "print(\"all lag results: \\n\")\n",
    "mse_lag_all = run_knn(20, x_train_2018_22, x_test_2022_23, y_train_2018_22, y_test_2022_23)"
   ]
  },
  {
   "cell_type": "markdown",
   "id": "6fc8b9dc-abee-44c6-85e7-56ad84b6f864",
   "metadata": {},
   "source": [
    "#### get MAE as well as MSE"
   ]
  },
  {
   "cell_type": "code",
   "execution_count": 182,
   "id": "57d0dd79-687a-48e9-a630-12b7a8f2a1bd",
   "metadata": {},
   "outputs": [
    {
     "name": "stdout",
     "output_type": "stream",
     "text": [
      "lag_1 data: \n",
      "MSE Error:  4.159767213733258\n",
      "MAE Error:  1.1247387285417845\n",
      "\n",
      "lag_3 data: \n",
      "MSE Error:  4.140466704395397\n",
      "MAE Error:  1.0954725523486135\n",
      "\n",
      "lag_5 data: \n",
      "MSE Error:  4.210868326730806\n",
      "MAE Error:  1.104731182795699\n",
      "\n",
      "all data: \n",
      "MSE Error:  4.082206376155442\n",
      "MAE Error:  1.0676400679117148\n"
     ]
    }
   ],
   "source": [
    "# k=20 performed the best for all of them\n",
    "clf_optimal = KNeighborsRegressor(n_neighbors = 20)\n",
    "\n",
    "# get mse and mae of lag1 data\n",
    "print(\"lag_1 data: \")\n",
    "clf_optimal.fit(x_train_lag1, y_train_2018_22)\n",
    "y_pred = clf_optimal.predict(x_test_lag1)\n",
    "print(\"MSE Error: \", mean_squared_error(y_test_2022_23, y_pred))\n",
    "print(\"MAE Error: \", mean_absolute_error(y_test_2022_23, y_pred))\n",
    "\n",
    "# get mse and mae of lag3 data\n",
    "print(\"\\nlag_3 data: \")\n",
    "clf_optimal.fit(x_train_lag3, y_train_2018_22)\n",
    "y_pred = clf_optimal.predict(x_test_lag3)\n",
    "print(\"MSE Error: \", mean_squared_error(y_test_2022_23, y_pred))\n",
    "print(\"MAE Error: \", mean_absolute_error(y_test_2022_23, y_pred))\n",
    "\n",
    "# get mse and mae of lag5 data\n",
    "print(\"\\nlag_5 data: \")\n",
    "clf_optimal.fit(x_train_lag5, y_train_2018_22)\n",
    "y_pred = clf_optimal.predict(x_test_lag5)\n",
    "print(\"MSE Error: \", mean_squared_error(y_test_2022_23, y_pred))\n",
    "print(\"MAE Error: \", mean_absolute_error(y_test_2022_23, y_pred))\n",
    "\n",
    "# get mse and mae of all data\n",
    "print(\"\\nall data: \")\n",
    "clf_optimal.fit(x_train_2018_22, y_train_2018_22)\n",
    "y_pred = clf_optimal.predict(x_test_2022_23)\n",
    "print(\"MSE Error: \", mean_squared_error(y_test_2022_23, y_pred))\n",
    "print(\"MAE Error: \", mean_absolute_error(y_test_2022_23, y_pred))"
   ]
  },
  {
   "cell_type": "markdown",
   "id": "3a253468-d6b0-4f4d-a661-746f7e63e98e",
   "metadata": {},
   "source": [
    "#### Train MSE by K"
   ]
  },
  {
   "cell_type": "code",
   "execution_count": 172,
   "id": "d93e168f-42e0-4438-9d0c-0fffdaf8a63e",
   "metadata": {},
   "outputs": [
    {
     "data": {
      "text/html": [
       "<div>\n",
       "<style scoped>\n",
       "    .dataframe tbody tr th:only-of-type {\n",
       "        vertical-align: middle;\n",
       "    }\n",
       "\n",
       "    .dataframe tbody tr th {\n",
       "        vertical-align: top;\n",
       "    }\n",
       "\n",
       "    .dataframe thead th {\n",
       "        text-align: right;\n",
       "    }\n",
       "</style>\n",
       "<table border=\"1\" class=\"dataframe\">\n",
       "  <thead>\n",
       "    <tr style=\"text-align: right;\">\n",
       "      <th></th>\n",
       "      <th>k</th>\n",
       "      <th>lag1 mse</th>\n",
       "      <th>lag3 mse</th>\n",
       "      <th>lag5 mse</th>\n",
       "      <th>all mse</th>\n",
       "    </tr>\n",
       "  </thead>\n",
       "  <tbody>\n",
       "    <tr>\n",
       "      <th>0</th>\n",
       "      <td>1</td>\n",
       "      <td>1.320597</td>\n",
       "      <td>1.368851</td>\n",
       "      <td>1.373047</td>\n",
       "      <td>1.357035</td>\n",
       "    </tr>\n",
       "    <tr>\n",
       "      <th>1</th>\n",
       "      <td>2</td>\n",
       "      <td>1.006487</td>\n",
       "      <td>1.035289</td>\n",
       "      <td>1.046245</td>\n",
       "      <td>1.033621</td>\n",
       "    </tr>\n",
       "    <tr>\n",
       "      <th>2</th>\n",
       "      <td>3</td>\n",
       "      <td>0.910342</td>\n",
       "      <td>0.930180</td>\n",
       "      <td>0.942705</td>\n",
       "      <td>0.925062</td>\n",
       "    </tr>\n",
       "    <tr>\n",
       "      <th>3</th>\n",
       "      <td>4</td>\n",
       "      <td>0.864985</td>\n",
       "      <td>0.878611</td>\n",
       "      <td>0.886996</td>\n",
       "      <td>0.871785</td>\n",
       "    </tr>\n",
       "    <tr>\n",
       "      <th>4</th>\n",
       "      <td>5</td>\n",
       "      <td>0.837338</td>\n",
       "      <td>0.849117</td>\n",
       "      <td>0.854392</td>\n",
       "      <td>0.843380</td>\n",
       "    </tr>\n",
       "    <tr>\n",
       "      <th>5</th>\n",
       "      <td>6</td>\n",
       "      <td>0.818496</td>\n",
       "      <td>0.827844</td>\n",
       "      <td>0.832653</td>\n",
       "      <td>0.824112</td>\n",
       "    </tr>\n",
       "    <tr>\n",
       "      <th>6</th>\n",
       "      <td>7</td>\n",
       "      <td>0.805651</td>\n",
       "      <td>0.812780</td>\n",
       "      <td>0.818170</td>\n",
       "      <td>0.809637</td>\n",
       "    </tr>\n",
       "    <tr>\n",
       "      <th>7</th>\n",
       "      <td>8</td>\n",
       "      <td>0.798925</td>\n",
       "      <td>0.802936</td>\n",
       "      <td>0.807984</td>\n",
       "      <td>0.800390</td>\n",
       "    </tr>\n",
       "    <tr>\n",
       "      <th>8</th>\n",
       "      <td>9</td>\n",
       "      <td>0.793516</td>\n",
       "      <td>0.794310</td>\n",
       "      <td>0.800971</td>\n",
       "      <td>0.794252</td>\n",
       "    </tr>\n",
       "    <tr>\n",
       "      <th>9</th>\n",
       "      <td>10</td>\n",
       "      <td>0.788368</td>\n",
       "      <td>0.787874</td>\n",
       "      <td>0.794789</td>\n",
       "      <td>0.786353</td>\n",
       "    </tr>\n",
       "    <tr>\n",
       "      <th>10</th>\n",
       "      <td>11</td>\n",
       "      <td>0.782666</td>\n",
       "      <td>0.781782</td>\n",
       "      <td>0.790265</td>\n",
       "      <td>0.780928</td>\n",
       "    </tr>\n",
       "    <tr>\n",
       "      <th>11</th>\n",
       "      <td>12</td>\n",
       "      <td>0.779740</td>\n",
       "      <td>0.778069</td>\n",
       "      <td>0.785948</td>\n",
       "      <td>0.777163</td>\n",
       "    </tr>\n",
       "    <tr>\n",
       "      <th>12</th>\n",
       "      <td>13</td>\n",
       "      <td>0.776044</td>\n",
       "      <td>0.773922</td>\n",
       "      <td>0.781114</td>\n",
       "      <td>0.774470</td>\n",
       "    </tr>\n",
       "    <tr>\n",
       "      <th>13</th>\n",
       "      <td>14</td>\n",
       "      <td>0.772982</td>\n",
       "      <td>0.770459</td>\n",
       "      <td>0.778609</td>\n",
       "      <td>0.771340</td>\n",
       "    </tr>\n",
       "    <tr>\n",
       "      <th>14</th>\n",
       "      <td>15</td>\n",
       "      <td>0.770737</td>\n",
       "      <td>0.767880</td>\n",
       "      <td>0.776340</td>\n",
       "      <td>0.767991</td>\n",
       "    </tr>\n",
       "    <tr>\n",
       "      <th>15</th>\n",
       "      <td>16</td>\n",
       "      <td>0.767845</td>\n",
       "      <td>0.766064</td>\n",
       "      <td>0.774375</td>\n",
       "      <td>0.765363</td>\n",
       "    </tr>\n",
       "    <tr>\n",
       "      <th>16</th>\n",
       "      <td>17</td>\n",
       "      <td>0.766220</td>\n",
       "      <td>0.764478</td>\n",
       "      <td>0.772267</td>\n",
       "      <td>0.763259</td>\n",
       "    </tr>\n",
       "    <tr>\n",
       "      <th>17</th>\n",
       "      <td>18</td>\n",
       "      <td>0.763915</td>\n",
       "      <td>0.762885</td>\n",
       "      <td>0.770790</td>\n",
       "      <td>0.761131</td>\n",
       "    </tr>\n",
       "    <tr>\n",
       "      <th>18</th>\n",
       "      <td>19</td>\n",
       "      <td>0.761927</td>\n",
       "      <td>0.761011</td>\n",
       "      <td>0.768664</td>\n",
       "      <td>0.759387</td>\n",
       "    </tr>\n",
       "    <tr>\n",
       "      <th>19</th>\n",
       "      <td>20</td>\n",
       "      <td>0.760130</td>\n",
       "      <td>0.759929</td>\n",
       "      <td>0.767455</td>\n",
       "      <td>0.757448</td>\n",
       "    </tr>\n",
       "  </tbody>\n",
       "</table>\n",
       "</div>"
      ],
      "text/plain": [
       "     k  lag1 mse  lag3 mse  lag5 mse   all mse\n",
       "0    1  1.320597  1.368851  1.373047  1.357035\n",
       "1    2  1.006487  1.035289  1.046245  1.033621\n",
       "2    3  0.910342  0.930180  0.942705  0.925062\n",
       "3    4  0.864985  0.878611  0.886996  0.871785\n",
       "4    5  0.837338  0.849117  0.854392  0.843380\n",
       "5    6  0.818496  0.827844  0.832653  0.824112\n",
       "6    7  0.805651  0.812780  0.818170  0.809637\n",
       "7    8  0.798925  0.802936  0.807984  0.800390\n",
       "8    9  0.793516  0.794310  0.800971  0.794252\n",
       "9   10  0.788368  0.787874  0.794789  0.786353\n",
       "10  11  0.782666  0.781782  0.790265  0.780928\n",
       "11  12  0.779740  0.778069  0.785948  0.777163\n",
       "12  13  0.776044  0.773922  0.781114  0.774470\n",
       "13  14  0.772982  0.770459  0.778609  0.771340\n",
       "14  15  0.770737  0.767880  0.776340  0.767991\n",
       "15  16  0.767845  0.766064  0.774375  0.765363\n",
       "16  17  0.766220  0.764478  0.772267  0.763259\n",
       "17  18  0.763915  0.762885  0.770790  0.761131\n",
       "18  19  0.761927  0.761011  0.768664  0.759387\n",
       "19  20  0.760130  0.759929  0.767455  0.757448"
      ]
     },
     "execution_count": 172,
     "metadata": {},
     "output_type": "execute_result"
    }
   ],
   "source": [
    "#range_k = range(1,21)\n",
    "dict = {'k': list(range(1,21)), 'lag1 mse': mse_lag1, 'lag3 mse': mse_lag2, 'lag5 mse': mse_lag3, 'all mse': mse_lag_all}\n",
    "pd.DataFrame(dict)"
   ]
  },
  {
   "cell_type": "markdown",
   "id": "64986781-968a-46cf-8cd0-b91d3f3362f6",
   "metadata": {},
   "source": [
    "#### test mse and mae for best k in training"
   ]
  },
  {
   "cell_type": "code",
   "execution_count": 181,
   "id": "3ea5a346-773f-4252-9f14-838024430c0a",
   "metadata": {},
   "outputs": [
    {
     "data": {
      "text/html": [
       "<div>\n",
       "<style scoped>\n",
       "    .dataframe tbody tr th:only-of-type {\n",
       "        vertical-align: middle;\n",
       "    }\n",
       "\n",
       "    .dataframe tbody tr th {\n",
       "        vertical-align: top;\n",
       "    }\n",
       "\n",
       "    .dataframe thead th {\n",
       "        text-align: right;\n",
       "    }\n",
       "</style>\n",
       "<table border=\"1\" class=\"dataframe\">\n",
       "  <thead>\n",
       "    <tr style=\"text-align: right;\">\n",
       "      <th></th>\n",
       "      <th>data</th>\n",
       "      <th>test mse</th>\n",
       "      <th>test mae</th>\n",
       "    </tr>\n",
       "  </thead>\n",
       "  <tbody>\n",
       "    <tr>\n",
       "      <th>0</th>\n",
       "      <td>lag_1</td>\n",
       "      <td>4.159767</td>\n",
       "      <td>1.124739</td>\n",
       "    </tr>\n",
       "    <tr>\n",
       "      <th>1</th>\n",
       "      <td>lag_3</td>\n",
       "      <td>4.140467</td>\n",
       "      <td>1.095473</td>\n",
       "    </tr>\n",
       "    <tr>\n",
       "      <th>2</th>\n",
       "      <td>lag_5</td>\n",
       "      <td>4.210868</td>\n",
       "      <td>1.104731</td>\n",
       "    </tr>\n",
       "    <tr>\n",
       "      <th>3</th>\n",
       "      <td>all</td>\n",
       "      <td>4.082206</td>\n",
       "      <td>1.067640</td>\n",
       "    </tr>\n",
       "  </tbody>\n",
       "</table>\n",
       "</div>"
      ],
      "text/plain": [
       "    data  test mse  test mae\n",
       "0  lag_1  4.159767  1.124739\n",
       "1  lag_3  4.140467  1.095473\n",
       "2  lag_5  4.210868  1.104731\n",
       "3    all  4.082206  1.067640"
      ]
     },
     "execution_count": 181,
     "metadata": {},
     "output_type": "execute_result"
    }
   ],
   "source": [
    "data = ['lag_1', 'lag_3', 'lag_5', 'all']\n",
    "mse = [4.159767213733258, 4.140466704395397, 4.210868326730806, 4.082206376155442]\n",
    "mae = [1.1247387285417845, 1.0954725523486135, 1.104731182795699, 1.0676400679117148]\n",
    "\n",
    "dict = {'data': data, 'test mse': mse, 'test mae': mae} \n",
    "df_2018_23_player_name = pd.DataFrame(dict)\n",
    "df_2018_23_player_name"
   ]
  },
  {
   "cell_type": "markdown",
   "id": "9b37b6a0-2f8e-4e0a-b3d6-3c6e76f62d76",
   "metadata": {},
   "source": [
    "#### Graph out MSE vs K for different datasets for training"
   ]
  },
  {
   "cell_type": "code",
   "execution_count": 155,
   "id": "678c7762-7783-4e4a-8ed9-0952d77a8f86",
   "metadata": {},
   "outputs": [
    {
     "data": {
      "image/png": "[encoded data removed]",
      "text/plain": [
       "<Figure size 640x480 with 1 Axes>"
      ]
     },
     "metadata": {},
     "output_type": "display_data"
    }
   ],
   "source": [
    "plt.plot(range(1,21), mse_lag1, label='lag1')\n",
    "plt.plot(range(1,21), mse_lag2, label='lag3')\n",
    "plt.plot(range(1,21), mse_lag3, label='lag5')\n",
    "plt.plot(range(1,21), mse_lag_all, label='all')\n",
    "plt.title(\"MSE for different K\")\n",
    "plt.xlabel(\"K\")\n",
    "plt.ylabel(\"MSE\")\n",
    "plt.legend()\n",
    "plt.savefig('MSE_player_names_included.png')\n",
    "plt.show()"
   ]
  },
  {
   "cell_type": "markdown",
   "id": "ae79fed3-26f7-4332-abfb-7e35007f2a86",
   "metadata": {},
   "source": [
    "## section for modeling done on all player names ends here"
   ]
  },
  {
   "cell_type": "markdown",
   "id": "0e7dd06d-8200-4054-9c79-016dd2a7e810",
   "metadata": {},
   "source": [
    "#### read in data"
   ]
  },
  {
   "cell_type": "code",
   "execution_count": 67,
   "id": "8fd49809-7284-4f97-b825-cbb1e23278be",
   "metadata": {},
   "outputs": [],
   "source": [
    "# read in data\n",
    "x_train = pd.read_csv(\"data3/X_train.csv\").drop(columns=['Unnamed: 0'])\n",
    "y_train = pd.read_csv(\"data3/Y_train.csv\").drop(columns=['Unnamed: 0'])\n",
    "x_val = pd.read_csv(\"data3/X_val.csv\").drop(columns=['Unnamed: 0'])\n",
    "y_val = pd.read_csv(\"data3/Y_val.csv\").drop(columns=['Unnamed: 0'])\n",
    "x_test = pd.read_csv(\"data3/X_test.csv\").drop(columns=['Unnamed: 0'])\n",
    "y_test = pd.read_csv(\"data3/Y_test.csv\").drop(columns=['Unnamed: 0'])"
   ]
  },
  {
   "cell_type": "code",
   "execution_count": 69,
   "id": "13ddffb5-7666-498d-bdd5-936212a3569b",
   "metadata": {},
   "outputs": [
    {
     "data": {
      "text/html": [
       "<div>\n",
       "<style scoped>\n",
       "    .dataframe tbody tr th:only-of-type {\n",
       "        vertical-align: middle;\n",
       "    }\n",
       "\n",
       "    .dataframe tbody tr th {\n",
       "        vertical-align: top;\n",
       "    }\n",
       "\n",
       "    .dataframe thead th {\n",
       "        text-align: right;\n",
       "    }\n",
       "</style>\n",
       "<table border=\"1\" class=\"dataframe\">\n",
       "  <thead>\n",
       "    <tr style=\"text-align: right;\">\n",
       "      <th></th>\n",
       "      <th>season</th>\n",
       "      <th>player_team_name</th>\n",
       "      <th>opp_team_name</th>\n",
       "      <th>opp_diff_ind</th>\n",
       "      <th>position</th>\n",
       "      <th>GW</th>\n",
       "      <th>was_home</th>\n",
       "      <th>name_normalized</th>\n",
       "      <th>assists_lag_1</th>\n",
       "      <th>bonus_lag_1</th>\n",
       "      <th>...</th>\n",
       "      <th>penalties_saved_lag_5</th>\n",
       "      <th>red_cards_lag_5</th>\n",
       "      <th>saves_lag_5</th>\n",
       "      <th>selected_lag_5</th>\n",
       "      <th>player_team_score_lag_5</th>\n",
       "      <th>opp_team_score_lag_5</th>\n",
       "      <th>threat_lag_5</th>\n",
       "      <th>total_points_lag_5</th>\n",
       "      <th>value_lag_5</th>\n",
       "      <th>yellow_cards_lag_5</th>\n",
       "    </tr>\n",
       "  </thead>\n",
       "  <tbody>\n",
       "    <tr>\n",
       "      <th>0</th>\n",
       "      <td>2018-19</td>\n",
       "      <td>West Ham</td>\n",
       "      <td>Liverpool</td>\n",
       "      <td>4</td>\n",
       "      <td>DEF</td>\n",
       "      <td>1</td>\n",
       "      <td>False</td>\n",
       "      <td>aaron cresswell</td>\n",
       "      <td>-0.184964</td>\n",
       "      <td>-0.215403</td>\n",
       "      <td>...</td>\n",
       "      <td>-0.048352</td>\n",
       "      <td>-0.093734</td>\n",
       "      <td>-0.177503</td>\n",
       "      <td>-0.409936</td>\n",
       "      <td>-1.808301</td>\n",
       "      <td>-1.899736</td>\n",
       "      <td>-0.529878</td>\n",
       "      <td>-0.752585</td>\n",
       "      <td>-3.373454</td>\n",
       "      <td>-0.430582</td>\n",
       "    </tr>\n",
       "    <tr>\n",
       "      <th>1</th>\n",
       "      <td>2018-19</td>\n",
       "      <td>West Ham</td>\n",
       "      <td>Bournemouth</td>\n",
       "      <td>1</td>\n",
       "      <td>DEF</td>\n",
       "      <td>2</td>\n",
       "      <td>True</td>\n",
       "      <td>aaron cresswell</td>\n",
       "      <td>-0.184964</td>\n",
       "      <td>-0.215403</td>\n",
       "      <td>...</td>\n",
       "      <td>-0.048352</td>\n",
       "      <td>-0.093734</td>\n",
       "      <td>-0.177503</td>\n",
       "      <td>-0.155985</td>\n",
       "      <td>-1.808301</td>\n",
       "      <td>3.816565</td>\n",
       "      <td>-0.529878</td>\n",
       "      <td>-0.752585</td>\n",
       "      <td>0.329490</td>\n",
       "      <td>-0.430582</td>\n",
       "    </tr>\n",
       "    <tr>\n",
       "      <th>2</th>\n",
       "      <td>2018-19</td>\n",
       "      <td>West Ham</td>\n",
       "      <td>Arsenal</td>\n",
       "      <td>4</td>\n",
       "      <td>DEF</td>\n",
       "      <td>3</td>\n",
       "      <td>False</td>\n",
       "      <td>aaron cresswell</td>\n",
       "      <td>-0.184964</td>\n",
       "      <td>-0.215403</td>\n",
       "      <td>...</td>\n",
       "      <td>-0.048352</td>\n",
       "      <td>-0.093734</td>\n",
       "      <td>-0.177503</td>\n",
       "      <td>-0.170799</td>\n",
       "      <td>-1.121215</td>\n",
       "      <td>2.387490</td>\n",
       "      <td>-0.529878</td>\n",
       "      <td>-0.752585</td>\n",
       "      <td>0.329490</td>\n",
       "      <td>-0.430582</td>\n",
       "    </tr>\n",
       "    <tr>\n",
       "      <th>3</th>\n",
       "      <td>2018-19</td>\n",
       "      <td>West Ham</td>\n",
       "      <td>Wolves</td>\n",
       "      <td>2</td>\n",
       "      <td>DEF</td>\n",
       "      <td>4</td>\n",
       "      <td>True</td>\n",
       "      <td>aaron cresswell</td>\n",
       "      <td>-0.184964</td>\n",
       "      <td>-0.215403</td>\n",
       "      <td>...</td>\n",
       "      <td>-0.048352</td>\n",
       "      <td>-0.093734</td>\n",
       "      <td>-0.177503</td>\n",
       "      <td>-0.193770</td>\n",
       "      <td>-0.892187</td>\n",
       "      <td>2.387490</td>\n",
       "      <td>-0.529878</td>\n",
       "      <td>-0.752585</td>\n",
       "      <td>0.307048</td>\n",
       "      <td>-0.430582</td>\n",
       "    </tr>\n",
       "    <tr>\n",
       "      <th>4</th>\n",
       "      <td>2018-19</td>\n",
       "      <td>West Ham</td>\n",
       "      <td>Everton</td>\n",
       "      <td>2</td>\n",
       "      <td>DEF</td>\n",
       "      <td>5</td>\n",
       "      <td>False</td>\n",
       "      <td>aaron cresswell</td>\n",
       "      <td>-0.184964</td>\n",
       "      <td>-0.215403</td>\n",
       "      <td>...</td>\n",
       "      <td>-0.048352</td>\n",
       "      <td>-0.093734</td>\n",
       "      <td>-0.177503</td>\n",
       "      <td>-0.212392</td>\n",
       "      <td>-1.121215</td>\n",
       "      <td>1.672952</td>\n",
       "      <td>-0.529878</td>\n",
       "      <td>-0.611039</td>\n",
       "      <td>0.278995</td>\n",
       "      <td>1.677694</td>\n",
       "    </tr>\n",
       "    <tr>\n",
       "      <th>...</th>\n",
       "      <td>...</td>\n",
       "      <td>...</td>\n",
       "      <td>...</td>\n",
       "      <td>...</td>\n",
       "      <td>...</td>\n",
       "      <td>...</td>\n",
       "      <td>...</td>\n",
       "      <td>...</td>\n",
       "      <td>...</td>\n",
       "      <td>...</td>\n",
       "      <td>...</td>\n",
       "      <td>...</td>\n",
       "      <td>...</td>\n",
       "      <td>...</td>\n",
       "      <td>...</td>\n",
       "      <td>...</td>\n",
       "      <td>...</td>\n",
       "      <td>...</td>\n",
       "      <td>...</td>\n",
       "      <td>...</td>\n",
       "      <td>...</td>\n",
       "    </tr>\n",
       "    <tr>\n",
       "      <th>68786</th>\n",
       "      <td>2020-21</td>\n",
       "      <td>Aston Villa</td>\n",
       "      <td>Man Utd</td>\n",
       "      <td>3</td>\n",
       "      <td>GK</td>\n",
       "      <td>35</td>\n",
       "      <td>True</td>\n",
       "      <td>rjan nyland</td>\n",
       "      <td>-0.184964</td>\n",
       "      <td>-0.215403</td>\n",
       "      <td>...</td>\n",
       "      <td>-0.048352</td>\n",
       "      <td>-0.093734</td>\n",
       "      <td>-0.177503</td>\n",
       "      <td>0.287310</td>\n",
       "      <td>0.665207</td>\n",
       "      <td>0.386784</td>\n",
       "      <td>-0.529878</td>\n",
       "      <td>-0.752585</td>\n",
       "      <td>-0.680404</td>\n",
       "      <td>-0.430582</td>\n",
       "    </tr>\n",
       "    <tr>\n",
       "      <th>68787</th>\n",
       "      <td>2020-21</td>\n",
       "      <td>Aston Villa</td>\n",
       "      <td>Everton</td>\n",
       "      <td>2</td>\n",
       "      <td>GK</td>\n",
       "      <td>35</td>\n",
       "      <td>True</td>\n",
       "      <td>rjan nyland</td>\n",
       "      <td>-0.184964</td>\n",
       "      <td>-0.215403</td>\n",
       "      <td>...</td>\n",
       "      <td>-0.048352</td>\n",
       "      <td>-0.093734</td>\n",
       "      <td>-0.177503</td>\n",
       "      <td>0.281039</td>\n",
       "      <td>0.115539</td>\n",
       "      <td>0.958415</td>\n",
       "      <td>-0.529878</td>\n",
       "      <td>-0.752585</td>\n",
       "      <td>-0.680404</td>\n",
       "      <td>-0.430582</td>\n",
       "    </tr>\n",
       "    <tr>\n",
       "      <th>68788</th>\n",
       "      <td>2020-21</td>\n",
       "      <td>Aston Villa</td>\n",
       "      <td>Crystal Palace</td>\n",
       "      <td>2</td>\n",
       "      <td>GK</td>\n",
       "      <td>36</td>\n",
       "      <td>False</td>\n",
       "      <td>rjan nyland</td>\n",
       "      <td>-0.184964</td>\n",
       "      <td>-0.215403</td>\n",
       "      <td>...</td>\n",
       "      <td>-0.048352</td>\n",
       "      <td>-0.093734</td>\n",
       "      <td>-0.177503</td>\n",
       "      <td>0.276369</td>\n",
       "      <td>-0.159296</td>\n",
       "      <td>0.386784</td>\n",
       "      <td>-0.529878</td>\n",
       "      <td>-0.752585</td>\n",
       "      <td>-0.680404</td>\n",
       "      <td>-0.430582</td>\n",
       "    </tr>\n",
       "    <tr>\n",
       "      <th>68789</th>\n",
       "      <td>2020-21</td>\n",
       "      <td>Aston Villa</td>\n",
       "      <td>Spurs</td>\n",
       "      <td>3</td>\n",
       "      <td>GK</td>\n",
       "      <td>37</td>\n",
       "      <td>False</td>\n",
       "      <td>rjan nyland</td>\n",
       "      <td>-0.184964</td>\n",
       "      <td>-0.215403</td>\n",
       "      <td>...</td>\n",
       "      <td>-0.048352</td>\n",
       "      <td>-0.093734</td>\n",
       "      <td>-0.177503</td>\n",
       "      <td>0.272210</td>\n",
       "      <td>0.115539</td>\n",
       "      <td>0.672600</td>\n",
       "      <td>-0.529878</td>\n",
       "      <td>-0.752585</td>\n",
       "      <td>-0.680404</td>\n",
       "      <td>-0.430582</td>\n",
       "    </tr>\n",
       "    <tr>\n",
       "      <th>68790</th>\n",
       "      <td>2020-21</td>\n",
       "      <td>Aston Villa</td>\n",
       "      <td>Chelsea</td>\n",
       "      <td>3</td>\n",
       "      <td>GK</td>\n",
       "      <td>38</td>\n",
       "      <td>True</td>\n",
       "      <td>rjan nyland</td>\n",
       "      <td>-0.184964</td>\n",
       "      <td>-0.215403</td>\n",
       "      <td>...</td>\n",
       "      <td>-0.048352</td>\n",
       "      <td>-0.093734</td>\n",
       "      <td>-0.177503</td>\n",
       "      <td>0.268574</td>\n",
       "      <td>0.115539</td>\n",
       "      <td>0.386784</td>\n",
       "      <td>-0.529878</td>\n",
       "      <td>-0.752585</td>\n",
       "      <td>-0.680404</td>\n",
       "      <td>-0.430582</td>\n",
       "    </tr>\n",
       "  </tbody>\n",
       "</table>\n",
       "<p>68791 rows × 74 columns</p>\n",
       "</div>"
      ],
      "text/plain": [
       "        season player_team_name   opp_team_name  opp_diff_ind position  GW  \\\n",
       "0      2018-19         West Ham       Liverpool             4      DEF   1   \n",
       "1      2018-19         West Ham     Bournemouth             1      DEF   2   \n",
       "2      2018-19         West Ham         Arsenal             4      DEF   3   \n",
       "3      2018-19         West Ham          Wolves             2      DEF   4   \n",
       "4      2018-19         West Ham         Everton             2      DEF   5   \n",
       "...        ...              ...             ...           ...      ...  ..   \n",
       "68786  2020-21      Aston Villa         Man Utd             3       GK  35   \n",
       "68787  2020-21      Aston Villa         Everton             2       GK  35   \n",
       "68788  2020-21      Aston Villa  Crystal Palace             2       GK  36   \n",
       "68789  2020-21      Aston Villa           Spurs             3       GK  37   \n",
       "68790  2020-21      Aston Villa         Chelsea             3       GK  38   \n",
       "\n",
       "       was_home  name_normalized  assists_lag_1  bonus_lag_1  ...  \\\n",
       "0         False  aaron cresswell      -0.184964    -0.215403  ...   \n",
       "1          True  aaron cresswell      -0.184964    -0.215403  ...   \n",
       "2         False  aaron cresswell      -0.184964    -0.215403  ...   \n",
       "3          True  aaron cresswell      -0.184964    -0.215403  ...   \n",
       "4         False  aaron cresswell      -0.184964    -0.215403  ...   \n",
       "...         ...              ...            ...          ...  ...   \n",
       "68786      True      rjan nyland      -0.184964    -0.215403  ...   \n",
       "68787      True      rjan nyland      -0.184964    -0.215403  ...   \n",
       "68788     False      rjan nyland      -0.184964    -0.215403  ...   \n",
       "68789     False      rjan nyland      -0.184964    -0.215403  ...   \n",
       "68790      True      rjan nyland      -0.184964    -0.215403  ...   \n",
       "\n",
       "       penalties_saved_lag_5  red_cards_lag_5  saves_lag_5  selected_lag_5  \\\n",
       "0                  -0.048352        -0.093734    -0.177503       -0.409936   \n",
       "1                  -0.048352        -0.093734    -0.177503       -0.155985   \n",
       "2                  -0.048352        -0.093734    -0.177503       -0.170799   \n",
       "3                  -0.048352        -0.093734    -0.177503       -0.193770   \n",
       "4                  -0.048352        -0.093734    -0.177503       -0.212392   \n",
       "...                      ...              ...          ...             ...   \n",
       "68786              -0.048352        -0.093734    -0.177503        0.287310   \n",
       "68787              -0.048352        -0.093734    -0.177503        0.281039   \n",
       "68788              -0.048352        -0.093734    -0.177503        0.276369   \n",
       "68789              -0.048352        -0.093734    -0.177503        0.272210   \n",
       "68790              -0.048352        -0.093734    -0.177503        0.268574   \n",
       "\n",
       "       player_team_score_lag_5  opp_team_score_lag_5  threat_lag_5  \\\n",
       "0                    -1.808301             -1.899736     -0.529878   \n",
       "1                    -1.808301              3.816565     -0.529878   \n",
       "2                    -1.121215              2.387490     -0.529878   \n",
       "3                    -0.892187              2.387490     -0.529878   \n",
       "4                    -1.121215              1.672952     -0.529878   \n",
       "...                        ...                   ...           ...   \n",
       "68786                 0.665207              0.386784     -0.529878   \n",
       "68787                 0.115539              0.958415     -0.529878   \n",
       "68788                -0.159296              0.386784     -0.529878   \n",
       "68789                 0.115539              0.672600     -0.529878   \n",
       "68790                 0.115539              0.386784     -0.529878   \n",
       "\n",
       "       total_points_lag_5  value_lag_5  yellow_cards_lag_5  \n",
       "0               -0.752585    -3.373454           -0.430582  \n",
       "1               -0.752585     0.329490           -0.430582  \n",
       "2               -0.752585     0.329490           -0.430582  \n",
       "3               -0.752585     0.307048           -0.430582  \n",
       "4               -0.611039     0.278995            1.677694  \n",
       "...                   ...          ...                 ...  \n",
       "68786           -0.752585    -0.680404           -0.430582  \n",
       "68787           -0.752585    -0.680404           -0.430582  \n",
       "68788           -0.752585    -0.680404           -0.430582  \n",
       "68789           -0.752585    -0.680404           -0.430582  \n",
       "68790           -0.752585    -0.680404           -0.430582  \n",
       "\n",
       "[68791 rows x 74 columns]"
      ]
     },
     "execution_count": 69,
     "metadata": {},
     "output_type": "execute_result"
    }
   ],
   "source": [
    "x_train"
   ]
  },
  {
   "cell_type": "code",
   "execution_count": null,
   "id": "90090971-96cf-4a3d-bdcb-adbb0f6830e8",
   "metadata": {},
   "outputs": [],
   "source": [
    "x_all = pd.concat([x_train, x_val, x_test])\n",
    "cat_columns = ['season', 'player_team_name', 'opp_team_name', 'opp_diff_ind', 'position', 'GW', 'was_home', 'name_normalized']\n",
    "x_all_encoded = pd.get_dummies(x_all, columns = cat_columns)"
   ]
  },
  {
   "cell_type": "markdown",
   "id": "32fea73b-3d54-401b-941c-dc766f2a55b6",
   "metadata": {},
   "source": [
    "#### read in data\n",
    "data1 directory has dense one-hot encodings <br>\n",
    "data2 directory has sparse one-hot encodings <br>\n",
    "data3 directory is same as data2 but with player name <br>\n",
    "data4 directory has just X and Y so that we can split train/val/test by different seasons"
   ]
  },
  {
   "cell_type": "code",
   "execution_count": 2,
   "id": "cf2b9814-4499-42ad-a1b0-c57ec024f2d0",
   "metadata": {},
   "outputs": [],
   "source": [
    "# read in data\n",
    "x_train = pd.read_csv(\"data2/X_train.csv\").drop(columns=['Unnamed: 0'])\n",
    "y_train = pd.read_csv(\"data2/Y_train.csv\").drop(columns=['Unnamed: 0'])\n",
    "x_val = pd.read_csv(\"data2/X_val.csv\").drop(columns=['Unnamed: 0'])\n",
    "y_val = pd.read_csv(\"data2/Y_val.csv\").drop(columns=['Unnamed: 0'])\n",
    "x_test = pd.read_csv(\"data2/X_test.csv\").drop(columns=['Unnamed: 0'])\n",
    "y_test = pd.read_csv(\"data2/Y_test.csv\").drop(columns=['Unnamed: 0'])"
   ]
  },
  {
   "cell_type": "code",
   "execution_count": 66,
   "id": "89f574d7-0894-450f-b88c-60b198b1e413",
   "metadata": {},
   "outputs": [
    {
     "data": {
      "text/plain": [
       "(120743, 73)"
      ]
     },
     "execution_count": 66,
     "metadata": {},
     "output_type": "execute_result"
    }
   ],
   "source": [
    "x_all = pd.concat([x_train, x_val, x_test])\n",
    "cat_columns = ['season', 'player_team_name', 'opp_team_name', 'opp_diff_ind', 'position', 'GW', 'was_home']\n",
    "x_all_encoded = pd.get_dummies(x_all, columns = cat_columns)"
   ]
  },
  {
   "cell_type": "markdown",
   "id": "5211fc58-fbb7-4839-ba57-054decf272da",
   "metadata": {},
   "source": [
    "#### Baseline"
   ]
  },
  {
   "cell_type": "code",
   "execution_count": 3,
   "id": "475b8385-d817-4d26-b338-ae7e535f4977",
   "metadata": {},
   "outputs": [
    {
     "name": "stdout",
     "output_type": "stream",
     "text": [
      "train MSE: 6.302880420704537\n",
      "test MSE: 5.573325945935219\n"
     ]
    }
   ],
   "source": [
    "# calculate baseline\n",
    "baseline = y_train.total_points.mean()\n",
    "\n",
    "# compute RMSE of baseline on test and train data\n",
    "mse_train = np.square(np.subtract(y_train.total_points , baseline)).mean()\n",
    "mse_test = np.square(np.subtract(y_test.total_points , baseline)).mean()\n",
    "\n",
    "print(f\"train MSE: {mse_train}\")\n",
    "print(f\"test MSE: {mse_test}\")"
   ]
  },
  {
   "cell_type": "markdown",
   "id": "380c8f22-2af7-468f-98bf-24ebdc4b927a",
   "metadata": {},
   "source": [
    "#### KNN Model"
   ]
  },
  {
   "cell_type": "code",
   "execution_count": 11,
   "id": "038b374a-4fcb-4427-807e-492e9d6c0bdc",
   "metadata": {},
   "outputs": [],
   "source": [
    "# Column combination possibilities\n",
    "\n",
    "all_cols = x_train.columns\n",
    "\n",
    "lag_1 = ['assists_lag_1', 'bonus_lag_1', 'bps_lag_1', 'clean_sheets_lag_1',\n",
    "       'creativity_lag_1', 'goals_conceded_lag_1', 'goals_scored_lag_1',\n",
    "       'ict_index_lag_1', 'influence_lag_1', 'minutes_lag_1',\n",
    "       'own_goals_lag_1', 'penalties_missed_lag_1', 'penalties_saved_lag_1',\n",
    "       'red_cards_lag_1', 'saves_lag_1', 'selected_lag_1',\n",
    "       'player_team_score_lag_1', 'opp_team_score_lag_1', 'threat_lag_1',\n",
    "       'total_points_lag_1', 'value_lag_1', 'yellow_cards_lag_1']\n",
    "\n",
    "lag_3 = ['assists_lag_3', 'bonus_lag_3', 'bps_lag_3', 'clean_sheets_lag_3',\n",
    "       'creativity_lag_3', 'goals_conceded_lag_3', 'goals_scored_lag_3',\n",
    "       'ict_index_lag_3', 'influence_lag_3', 'minutes_lag_3',\n",
    "       'own_goals_lag_3', 'penalties_missed_lag_3', 'penalties_saved_lag_3',\n",
    "       'red_cards_lag_3', 'saves_lag_3', 'selected_lag_3',\n",
    "       'player_team_score_lag_3', 'opp_team_score_lag_3', 'threat_lag_3',\n",
    "       'total_points_lag_3', 'value_lag_3', 'yellow_cards_lag_3']\n",
    "\n",
    "lag_5 = ['assists_lag_5', 'bonus_lag_5', 'bps_lag_5', 'clean_sheets_lag_5',\n",
    "       'creativity_lag_5', 'goals_conceded_lag_5', 'goals_scored_lag_5',\n",
    "       'ict_index_lag_5', 'influence_lag_5', 'minutes_lag_5',\n",
    "       'own_goals_lag_5', 'penalties_missed_lag_5', 'penalties_saved_lag_5',\n",
    "       'red_cards_lag_5', 'saves_lag_5', 'selected_lag_5',\n",
    "       'player_team_score_lag_5', 'opp_team_score_lag_5', 'threat_lag_5',\n",
    "       'total_points_lag_5', 'value_lag_5', 'yellow_cards_lag_5']\n",
    "\n",
    "cat = ['season', 'player_team_name', 'opp_team_name',\n",
    "       'opp_diff_ind', 'position', 'GW', 'was_home']\n",
    "\n",
    "judgmental_imp = ['player_team_name_mapping', 'opp_team_name_mapping',\n",
    "       'opp_diff_ind_mapping', 'position_mapping', 'was_home_mapping',\n",
    "       'assists_lag_3', 'bonus_lag_3', 'goals_scored_lag_3', 'ict_index_lag_3',\n",
    "       'minutes_lag_3', 'red_cards_lag_3', 'selected_lag_3', 'player_team_score_lag_3',\n",
    "       'opp_team_score_lag_3', 'total_points_lag_3', 'value_lag_3', 'yellow_cards_lag_3'] # Uses lag 3 as a default"
   ]
  },
  {
   "cell_type": "code",
   "execution_count": null,
   "id": "ce0b182c-7e86-43d6-97d4-5ba4bf902e88",
   "metadata": {},
   "outputs": [],
   "source": [
    "cat_columns = ['season', 'player_team_name', 'opp_team_name',\n",
    "       'opp_diff_ind', 'position', 'GW', 'was_home']\n",
    "df_encoded = pd.get_dummies(x_train, columns = cat_columns)"
   ]
  },
  {
   "cell_type": "markdown",
   "id": "9f2713a4-6172-4bec-84d0-a922bdadc1b4",
   "metadata": {},
   "source": [
    "#### run KNN model using CV to choose best K"
   ]
  },
  {
   "cell_type": "code",
   "execution_count": 56,
   "id": "bab0f77d-1a8d-4a2f-8adc-cf0be5b62d0e",
   "metadata": {},
   "outputs": [],
   "source": [
    "def run_knn(df_x_train, df_x_test, cv=10):\n",
    "    \n",
    "    # running for different K values to know which yields the max accuracy.\n",
    "    scores=[]\n",
    "    for K in range(20):   \n",
    "        K = K+1\n",
    "        clf = KNeighborsRegressor(n_neighbors = K)\n",
    "        clf.fit(df_x_train, y_train)\n",
    "        score = cross_val_score(clf, df_x_train, y_train, cv=10)\n",
    "        scores.append(score.mean())\n",
    "    \n",
    "    mse = [1-x for x in scores]\n",
    "    optimal_k = mse.index(min(mse)) + 1\n",
    "    print(\"Optimal K: \", optimal_k)\n",
    "    \n",
    "    # Training the model on Optimal K.\n",
    "    clf_optimal = KNeighborsRegressor(n_neighbors = optimal_k)\n",
    "    clf_optimal.fit(df_x_train, y_train)\n",
    "    y_pred = clf_optimal.predict(df_x_test)\n",
    "    print(\"MSE Error: \", mean_squared_error(y_test, y_pred))"
   ]
  },
  {
   "cell_type": "markdown",
   "id": "6ff5d6fe-e807-4a50-b5b8-6fc15dbf6fb5",
   "metadata": {},
   "source": [
    "#### this is ideal model, adding lagged variables with the categorical variables\n",
    "however, right now, it's throwing an error because there's categorical variables in the test data that aren't seen in the training data..."
   ]
  },
  {
   "cell_type": "code",
   "execution_count": null,
   "id": "158b0917-eb96-42ee-a9b3-1d0dca8e860a",
   "metadata": {},
   "outputs": [],
   "source": [
    "cat_columns = ['season', 'player_team_name', 'opp_team_name',\n",
    "       'opp_diff_ind', 'position', 'GW', 'was_home']\n",
    "\n",
    "df_xtrain_1 = x_train[lag_1 + cat]\n",
    "df_xtest_1 = x_test[lag_1 + cat]\n",
    "df_xtrain_1_encoded = pd.get_dummies(df_xtrain_1, columns = cat_columns)\n",
    "df_xtest_1_encoded = pd.get_dummies(df_xtest_1, columns = cat_columns)\n",
    "run_knn(df_xtrain_1, df_xtest_1, cv=10)"
   ]
  },
  {
   "cell_type": "markdown",
   "id": "d0ebf975-18e2-4a23-844a-8ac028a8c451",
   "metadata": {},
   "source": [
    "#### lag1 model"
   ]
  },
  {
   "cell_type": "code",
   "execution_count": 52,
   "id": "7560d261-0d0c-48c4-9b0f-028908915d86",
   "metadata": {},
   "outputs": [
    {
     "name": "stdout",
     "output_type": "stream",
     "text": [
      "Optimal K:  19\n",
      "RMS Error:  4.155893859988786\n"
     ]
    }
   ],
   "source": [
    "df_xtrain_1 = x_train[lag_1]\n",
    "df_xtest_1 = x_test[lag_1]\n",
    "run_knn(df_xtrain_1, df_xtest_1, cv=10)"
   ]
  },
  {
   "cell_type": "markdown",
   "id": "ea46677b-f78b-426f-8ac4-c147b4289e73",
   "metadata": {},
   "source": [
    "#### lag3 model"
   ]
  },
  {
   "cell_type": "code",
   "execution_count": 53,
   "id": "d008c7a7-f125-4ed1-8adc-a6d2083d80eb",
   "metadata": {},
   "outputs": [
    {
     "name": "stdout",
     "output_type": "stream",
     "text": [
      "Optimal K:  19\n",
      "RMS Error:  4.136794970478052\n"
     ]
    }
   ],
   "source": [
    "df_xtrain_3 = x_train[lag_3]\n",
    "df_xtest_3 = x_test[lag_3]\n",
    "run_knn(df_xtrain_3, df_xtest_3, cv=10)"
   ]
  },
  {
   "cell_type": "markdown",
   "id": "0a5fcea0-b646-4e0b-8e6f-72fe46d3e0c6",
   "metadata": {},
   "source": [
    "#### lag5 model"
   ]
  },
  {
   "cell_type": "code",
   "execution_count": 54,
   "id": "7a3506dd-e93d-4894-a999-b56f5915e347",
   "metadata": {},
   "outputs": [
    {
     "name": "stdout",
     "output_type": "stream",
     "text": [
      "Optimal K:  19\n",
      "RMS Error:  4.247562342546564\n"
     ]
    }
   ],
   "source": [
    "df_xtrain_5 = x_train[lag_5]\n",
    "df_xtest_5 = x_test[lag_5]\n",
    "run_knn(df_xtrain_5, df_xtest_5, cv=10)"
   ]
  },
  {
   "cell_type": "markdown",
   "id": "0b27f5fd-bdb6-47c1-8e58-8ae78585dfb5",
   "metadata": {},
   "source": [
    "#### all the data"
   ]
  },
  {
   "cell_type": "code",
   "execution_count": 58,
   "id": "78397f86-3b9c-4036-b008-92b58edce2be",
   "metadata": {},
   "outputs": [
    {
     "name": "stdout",
     "output_type": "stream",
     "text": [
      "Optimal K:  20\n",
      "MSE Error:  4.072635068854933\n"
     ]
    }
   ],
   "source": [
    "df_xtrain_all = x_train[lag_1 + lag_3 + lag_5]\n",
    "df_xtest_all = x_test[lag_1 + lag_3 + lag_5]\n",
    "run_knn(df_xtrain_all, df_xtest_all, cv=10)"
   ]
  },
  {
   "cell_type": "markdown",
   "id": "425c5812-ac5b-4e4e-aafa-34562e7f05a3",
   "metadata": {},
   "source": [
    "#### OLD: run KNN model for lag3 data "
   ]
  },
  {
   "cell_type": "code",
   "execution_count": null,
   "id": "238c1304-37e2-41de-9738-a6fe318b0ad7",
   "metadata": {},
   "outputs": [],
   "source": [
    "mse_val = [] #to store mse values for different k\n",
    "for K in range(20):\n",
    "    K = K+1\n",
    "    model = KNeighborsRegressor(n_neighbors = K)\n",
    "    model.fit(x_train, y_train)  #fit the model\n",
    "    pred=model.predict(x_test) #make prediction on test set\n",
    "    error = mean_squared_error(y_test,pred) #calculate rmse\n",
    "    mse_val.append(error) #store mse values\n",
    "    \n",
    "min_mse_index = mse_val.index(min(mse_val))\n",
    "min_mse = min(mse_val)\n",
    "print('Min mse: k=', min_mse_index , 'is:', min_mse)"
   ]
  },
  {
   "cell_type": "code",
   "execution_count": null,
   "id": "5fceb685-6b38-43c3-b8bf-b2d9eac11d91",
   "metadata": {},
   "outputs": [],
   "source": []
  }
 ],
 "metadata": {
  "kernelspec": {
   "display_name": "Python 3 (ipykernel)",
   "language": "python",
   "name": "python3"
  },
  "language_info": {
   "codemirror_mode": {
    "name": "ipython",
    "version": 3
   },
   "file_extension": ".py",
   "mimetype": "text/x-python",
   "name": "python",
   "nbconvert_exporter": "python",
   "pygments_lexer": "ipython3",
   "version": "3.9.18"
  }
 },
 "nbformat": 4,
 "nbformat_minor": 5
}
