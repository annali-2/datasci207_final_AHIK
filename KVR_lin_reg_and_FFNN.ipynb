{
 "cells": [
  {
   "cell_type": "code",
   "execution_count": 107,
   "metadata": {
    "id": "zOFdxeNMRUVm"
   },
   "outputs": [],
   "source": [
    "# References\n",
    "\n",
    "# week11 - Demo_async (functional vs sequential API)\n",
    "# week06 - FFNN_DiabeticRetinopathy (building a FFNN)\n",
    "# week05 - imbalanced_data (standardization)\n",
    "# week03 - linear_regression (keras linear regression model)"
   ]
  },
  {
   "cell_type": "markdown",
   "metadata": {},
   "source": [
    "# Data Preparation"
   ]
  },
  {
   "cell_type": "markdown",
   "metadata": {
    "id": "h7f83S3UV2DH"
   },
   "source": [
    "## Import Packages and Data"
   ]
  },
  {
   "cell_type": "code",
   "execution_count": 1,
   "metadata": {
    "id": "xqhLIiDoVxHO"
   },
   "outputs": [
    {
     "name": "stderr",
     "output_type": "stream",
     "text": [
      "2023-12-09 18:55:40.926128: I tensorflow/core/platform/cpu_feature_guard.cc:182] This TensorFlow binary is optimized to use available CPU instructions in performance-critical operations.\n",
      "To enable the following instructions: SSE4.1 SSE4.2, in other operations, rebuild TensorFlow with the appropriate compiler flags.\n"
     ]
    }
   ],
   "source": [
    "# Standard\n",
    "import pandas as pd\n",
    "import numpy as np\n",
    "import random\n",
    "import os\n",
    "import math\n",
    "\n",
    "# TF and Keras\n",
    "import tensorflow as tf\n",
    "from tensorflow.keras.preprocessing.image import ImageDataGenerator, array_to_img, img_to_array, load_img\n",
    "from keras import models\n",
    "from keras import layers\n",
    "from keras import metrics\n",
    "from keras import losses\n",
    "from keras import regularizers\n",
    "from tqdm.keras import TqdmCallback \n",
    "\n",
    "# Plots and images\n",
    "import seaborn as sns\n",
    "import matplotlib.pyplot as plt\n",
    "from IPython.display import Image\n",
    "%matplotlib inline\n",
    "\n",
    "# Silence TF\n",
    "os.environ['TF_CPP_MIN_LOG_LEVEL'] = '3'\n",
    "\n",
    "# Setting random seeds\n",
    "random.seed(0)\n",
    "np.random.seed(0)\n",
    "tf.random.set_seed(0)"
   ]
  },
  {
   "cell_type": "code",
   "execution_count": 2,
   "metadata": {},
   "outputs": [],
   "source": [
    "# Reading in the CSVs\n",
    "X_train = pd.read_csv('X_train.csv')\n",
    "Y_train = pd.read_csv('Y_train.csv')\n",
    "X_val = pd.read_csv('X_val.csv')\n",
    "Y_val = pd.read_csv('Y_val.csv')\n",
    "X_test = pd.read_csv('X_test.csv')\n",
    "Y_test = pd.read_csv('Y_test.csv')"
   ]
  },
  {
   "cell_type": "code",
   "execution_count": 3,
   "metadata": {
    "id": "Qqk2h0YKlybU"
   },
   "outputs": [],
   "source": [
    "# Drop unecessary columns added to the beginning of each DF\n",
    "for df in [X_train, Y_train, X_val, Y_val, X_test, Y_test]:\n",
    "    df.drop(columns=['Unnamed: 0'], inplace=True)"
   ]
  },
  {
   "cell_type": "markdown",
   "metadata": {},
   "source": [
    "## Making One-Hot Encodings and Tensors for Categorical Variables"
   ]
  },
  {
   "cell_type": "code",
   "execution_count": 4,
   "metadata": {},
   "outputs": [],
   "source": [
    "# Merging train, val, and test sets into one DF to perform the encodings in one batch\n",
    "X = pd.concat([X_train, X_val, X_test])\n",
    "\n",
    "# Making the numerical categorical variables into strings - necessary to make the one-hot encodings\n",
    "X[['opp_diff_ind', 'GW','was_home']] = X[['opp_diff_ind', 'GW','was_home']].astype(str)"
   ]
  },
  {
   "cell_type": "code",
   "execution_count": 5,
   "metadata": {},
   "outputs": [],
   "source": [
    "# Making categorical variables into sparse one-hot encodings\n",
    "season_tf = tf.keras.layers.StringLookup(vocabulary=X.season.unique(), output_mode='one_hot')(X.season)\n",
    "\n",
    "player_team_name_tf = tf.keras.layers.StringLookup(vocabulary=X.player_team_name.unique(), \n",
    "                                                         output_mode='one_hot')(X.player_team_name)\n",
    "\n",
    "opp_team_name_tf = tf.keras.layers.StringLookup(vocabulary=X.opp_team_name.unique(), \n",
    "                                                      output_mode='one_hot')(X.opp_team_name)\n",
    "\n",
    "opp_diff_ind_tf = tf.keras.layers.StringLookup(vocabulary=X.opp_diff_ind.unique(), \n",
    "                                                      output_mode='one_hot')(X.opp_diff_ind)\n",
    "\n",
    "position_tf = tf.keras.layers.StringLookup(vocabulary=X.position.unique(), output_mode='one_hot')(X.position)\n",
    "\n",
    "gw_tf = tf.keras.layers.StringLookup(vocabulary=X.GW.unique(), output_mode='one_hot')(X.GW)\n",
    "\n",
    "was_home_tf = tf.keras.layers.StringLookup(vocabulary=X.was_home.unique(), output_mode='one_hot')(X.was_home)"
   ]
  },
  {
   "cell_type": "code",
   "execution_count": 6,
   "metadata": {},
   "outputs": [],
   "source": [
    "# Getting the correct split sizes to split the tensors into train, val, and test again\n",
    "split_one = X_train.shape[0]\n",
    "split_two = X_val.shape[0]\n",
    "split_three = X_test.shape[0]\n",
    "\n",
    "# Splitting the encoded tensors into train, val, and test tensors\n",
    "season_train, season_val, season_test = tf.split(season_tf, [split_one, split_two, split_three], 0)\n",
    "\n",
    "player_team_name_train, player_team_name_val, player_team_name_test = tf.split(player_team_name_tf, [split_one, split_two, split_three], 0)\n",
    "\n",
    "opp_team_name_train, opp_team_name_val, opp_team_name_test = tf.split(opp_team_name_tf, [split_one, split_two, split_three], 0)\n",
    "\n",
    "opp_diff_ind_train, opp_diff_ind_val, opp_diff_ind_test = tf.split(opp_diff_ind_tf, [split_one, split_two, split_three], 0)\n",
    "\n",
    "position_train, position_val, position_test = tf.split(position_tf, [split_one, split_two, split_three], 0)\n",
    "\n",
    "gw_train, gw_val, gw_test = tf.split(gw_tf, [split_one, split_two, split_three], 0)\n",
    "\n",
    "was_home_train, was_home_val, was_home_test = tf.split(was_home_tf, [split_one, split_two, split_three], 0)"
   ]
  },
  {
   "cell_type": "markdown",
   "metadata": {},
   "source": [
    "## Turning Continuous Variables into Tensors"
   ]
  },
  {
   "cell_type": "code",
   "execution_count": 7,
   "metadata": {},
   "outputs": [],
   "source": [
    "# Grabbing only the continuous columns we want\n",
    "# Note: hyperparameter tuning found that lag_3 was the optimal choice between 1, 3, and 5, so we use it here\n",
    "cols = ['assists_lag_5', 'bonus_lag_5', 'bps_lag_5', 'clean_sheets_lag_5',\n",
    "        'creativity_lag_5', 'goals_conceded_lag_5', 'goals_scored_lag_5',\n",
    "        'ict_index_lag_5', 'influence_lag_5', 'minutes_lag_5',\n",
    "        'own_goals_lag_5', 'penalties_missed_lag_5', 'penalties_saved_lag_5',\n",
    "        'red_cards_lag_5', 'saves_lag_5', 'selected_lag_5',\n",
    "        'player_team_score_lag_5', 'opp_team_score_lag_5', 'threat_lag_5',\n",
    "        'total_points_lag_5', 'value_lag_5', 'yellow_cards_lag_5']"
   ]
  },
  {
   "cell_type": "code",
   "execution_count": 8,
   "metadata": {},
   "outputs": [],
   "source": [
    "# Making continuous variable tensors\n",
    "# Naming convention: \"contin\" stands for \"continuous\" and tf signifies that these are tensors\n",
    "X_train_contin_tf = tf.convert_to_tensor(X_train[cols])\n",
    "X_val_contin_tf = tf.convert_to_tensor(X_val[cols])\n",
    "X_test_contin_tf = tf.convert_to_tensor(X_test[cols])"
   ]
  },
  {
   "cell_type": "markdown",
   "metadata": {},
   "source": [
    "## Making Final X and Y input Tensors"
   ]
  },
  {
   "cell_type": "code",
   "execution_count": 9,
   "metadata": {},
   "outputs": [],
   "source": [
    "# Making lists of train, val, and test tensors to combine\n",
    "# Note: using this method (rather than pytorch) because pytorch kept crashing my kernel\n",
    "X_train_tensor_list = [season_train, player_team_name_train, opp_team_name_train, opp_diff_ind_train, \n",
    "                       position_train, gw_train, was_home_train, X_train_contin_tf]\n",
    "\n",
    "X_val_tensor_list = [season_val, player_team_name_val, opp_team_name_val, opp_diff_ind_val, \n",
    "                     position_val, gw_val, was_home_val, X_val_contin_tf]\n",
    "\n",
    "X_test_tensor_list = [season_test, player_team_name_test, opp_team_name_test, opp_diff_ind_test, \n",
    "                      position_test, gw_test, was_home_test, X_test_contin_tf]"
   ]
  },
  {
   "cell_type": "code",
   "execution_count": 10,
   "metadata": {},
   "outputs": [],
   "source": [
    "# Concatenating input tensors\n",
    "X_train_tf = tf.keras.layers.Concatenate(axis=1)(X_train_tensor_list)\n",
    "X_val_tf = tf.keras.layers.Concatenate(axis=1)(X_val_tensor_list)\n",
    "X_test_tf = tf.keras.layers.Concatenate(axis=1)(X_test_tensor_list)"
   ]
  },
  {
   "cell_type": "code",
   "execution_count": 11,
   "metadata": {},
   "outputs": [],
   "source": [
    "# Making target tensors\n",
    "Y_train_tf = tf.convert_to_tensor(Y_train)\n",
    "Y_val_tf = tf.convert_to_tensor(Y_val)\n",
    "Y_test_tf = tf.convert_to_tensor(Y_test)"
   ]
  },
  {
   "cell_type": "markdown",
   "metadata": {},
   "source": [
    "## Defining Plotting Function"
   ]
  },
  {
   "cell_type": "code",
   "execution_count": 12,
   "metadata": {},
   "outputs": [],
   "source": [
    "def mse_mae_plots(history):\n",
    "    '''\n",
    "    Takes in history from model fitting and plots loss and MAE by epoch for both train and val\n",
    "    '''\n",
    "    hist = history.history\n",
    "    x_arr = np.arange(len(hist['loss'])) + 1\n",
    "    \n",
    "    fig = plt.figure(figsize=(12, 4))\n",
    "    ax = fig.add_subplot(1, 2, 1)\n",
    "    ax.plot(x_arr, hist['loss'], '-o', color='darkturquoise', label='Train loss')\n",
    "    ax.plot(x_arr, hist['val_loss'], '-s', color='mediumvioletred', label='Validation loss')\n",
    "    plt.axhline(y = MSE(true, pred), color = 'limegreen', linestyle = '-') # Adding a horizontal line for baseline MSE\n",
    "    ax.legend(fontsize=12)\n",
    "    ax.set_xlabel('Epoch', size=12)\n",
    "    ax.set_ylabel('Mean Squared Error (MSE)', size=12)\n",
    "    ax.set_title('MSE by Epoch')\n",
    "\n",
    "    ax = fig.add_subplot(1, 2, 2)\n",
    "    ax.plot(x_arr, hist['mean_absolute_error'], '-o', color='darkturquoise', label='Train MAE')\n",
    "    ax.plot(x_arr, hist['val_mean_absolute_error'], '-s', color='mediumvioletred', label='Validation MAE')\n",
    "    plt.axhline(y = MAE(true, pred), color = 'limegreen', linestyle = '-') # Adding a horizontal line for baseline MAE\n",
    "    ax.legend(fontsize=12)\n",
    "    ax.set_xlabel('Epoch', size=12)\n",
    "    ax.set_ylabel('Mean Absolute Error (MAE)', size=12)\n",
    "    ax.set_title('MAE by Epoch')"
   ]
  },
  {
   "cell_type": "markdown",
   "metadata": {},
   "source": [
    "# Making a Baseline"
   ]
  },
  {
   "cell_type": "code",
   "execution_count": 13,
   "metadata": {},
   "outputs": [],
   "source": [
    "# Setting up necessary functions\n",
    "\n",
    "# Making a vector of predictions as long as the actuals\n",
    "def pred_vect(true_values, prediction=2):\n",
    "    predictions = []\n",
    "    count = 0\n",
    "    pred = prediction # Can pass baseline or 2\n",
    "    while count < len(true_values):\n",
    "        predictions.append(pred)\n",
    "        count += 1\n",
    "        \n",
    "    return predictions\n",
    "\n",
    "# Defining loss functions\n",
    "def MSE(true_values, predicted_values):\n",
    "    \"\"\"Return the MSE between true_values and predicted values.\"\"\"\n",
    "    tot = 0\n",
    "    count = 0\n",
    "    \n",
    "    # Calculating the SE for each data point\n",
    "    while count < len(true_values):\n",
    "        tot += (true_values[count] - predicted_values[count])**2\n",
    "        count += 1\n",
    "    \n",
    "    # Returning the MSE\n",
    "    return tot / len(true_values)\n",
    "\n",
    "def RMSE(true_values, predicted_values):\n",
    "    \"\"\"Return the RMSE between true_values and predicted values.\"\"\"\n",
    "    tot = 0\n",
    "    count = 0\n",
    "    \n",
    "    # Calculating the SE for each data point\n",
    "    while count < len(true_values):\n",
    "        tot += (true_values[count] - predicted_values[count])**2\n",
    "        count += 1\n",
    "    \n",
    "    # Returning the RMSE\n",
    "    return math.sqrt(tot / len(true_values))\n",
    "\n",
    "def MAE(true_values, predicted_values):\n",
    "    \"\"\"Return the MAE between true_values and predicted values.\"\"\"\n",
    "    tot = 0\n",
    "    count = 0\n",
    "    \n",
    "    # Calculating the SE for each data point\n",
    "    while count < len(true_values):\n",
    "        tot += abs(true_values[count] - predicted_values[count])\n",
    "        count += 1\n",
    "    \n",
    "    # Returning the MAE\n",
    "    return tot / len(true_values)"
   ]
  },
  {
   "cell_type": "code",
   "execution_count": 14,
   "metadata": {},
   "outputs": [],
   "source": [
    "# Creating a baseline with the average value\n",
    "baseline = Y_train['total_points'].mean()"
   ]
  },
  {
   "cell_type": "code",
   "execution_count": 15,
   "metadata": {},
   "outputs": [
    {
     "name": "stdout",
     "output_type": "stream",
     "text": [
      "MSE is 5.573\n",
      "RMSE is 2.361\n",
      "MAE is 1.595\n"
     ]
    }
   ],
   "source": [
    "true = np.array(Y_test['total_points'])\n",
    "pred = np.array(pred_vect(Y_test['total_points'],baseline))\n",
    "\n",
    "print(f'MSE is {round(MSE(true, pred),3)}')\n",
    "print(f'RMSE is {round(RMSE(true, pred),3)}')\n",
    "print(f'MAE is {round(MAE(true, pred),3)}')"
   ]
  },
  {
   "cell_type": "markdown",
   "metadata": {
    "id": "fVyClQxWXtX-"
   },
   "source": [
    "# Making a linear regression model"
   ]
  },
  {
   "cell_type": "code",
   "execution_count": 16,
   "metadata": {
    "id": "Lg-I4TfLViAA"
   },
   "outputs": [],
   "source": [
    "# Defining a function to create linear regression models\n",
    "def make_lin_reg_model(epoch_count=20, learning_rate=0.0005, optimizer='Adam', decay_steps=10000, decay_rate=0.95, lr_sched='yes'):\n",
    "\n",
    "    ############################################################################################## 1\n",
    "    # Preparing the data\n",
    "    num_features = X_train_tf.shape[1]\n",
    "\n",
    "    ############################################################################################## 2\n",
    "    # Building the model\n",
    "    tf.keras.backend.clear_session()\n",
    "    model = tf.keras.Sequential()\n",
    "    \n",
    "    # Create input layer\n",
    "    model.add(tf.keras.Input(shape=(num_features,), name='Input'\n",
    "              ))\n",
    "    \n",
    "    # Create output layer\n",
    "    model.add(tf.keras.layers.Dense(\n",
    "              activation = None,    # linear activation\n",
    "              units = 1,            \n",
    "              use_bias = True             \n",
    "              ))\n",
    "    \n",
    "    # Set a learning rate schedule\n",
    "    if lr_sched == 'yes':\n",
    "        lr_schedule = tf.keras.optimizers.schedules.ExponentialDecay(\n",
    "            initial_learning_rate=learning_rate,\n",
    "            decay_steps=decay_steps,\n",
    "            decay_rate=decay_rate)\n",
    "    else:\n",
    "        lr_schedule = learning_rate\n",
    "    \n",
    "    # Set optimizer\n",
    "    if optimizer == 'SGD':\n",
    "      opt = tf.keras.optimizers.SGD(learning_rate=lr_schedule)\n",
    "    elif optimizer == 'Adam':\n",
    "      opt = tf.keras.optimizers.Adam(learning_rate=lr_schedule)\n",
    "    else:\n",
    "      raise 'Unsupported optimizer: %s' %optimizer\n",
    "\n",
    "    ############################################################################################## 3\n",
    "    # Compiling the model\n",
    "    model.compile(\n",
    "        optimizer=opt,\n",
    "        loss=losses.MeanSquaredError(),\n",
    "        metrics=[metrics.mse,\n",
    "                 metrics.RootMeanSquaredError(),\n",
    "                 metrics.mae]\n",
    "        )\n",
    "\n",
    "    ############################################################################################## 4\n",
    "    # Fitting the model\n",
    "    history = model.fit(\n",
    "        x = X_train_tf,\n",
    "        y = Y_train_tf,\n",
    "        epochs = epoch_count,\n",
    "        validation_data = (X_val_tf, Y_val_tf),\n",
    "        verbose=False,\n",
    "        callbacks=[TqdmCallback()]\n",
    "        )\n",
    "\n",
    "    ############################################################################################## 5\n",
    "    # Plotting the results\n",
    "    mse_mae_plots(history)\n",
    "\n",
    "    ############################################################################################## 6\n",
    "    # Evaluating the model\n",
    "    \n",
    "    results = model.evaluate(X_test_tf, Y_test_tf)\n",
    "    print(f'MSE is {round(results[1],3)}')\n",
    "    print(f'RMSE is {round(results[2],3)}')\n",
    "    print(f'MAE is {round(results[3],3)}')"
   ]
  },
  {
   "cell_type": "code",
   "execution_count": 17,
   "metadata": {},
   "outputs": [
    {
     "data": {
      "application/vnd.jupyter.widget-view+json": {
       "model_id": "0701277dc2624608a6018223fe2c2dc9",
       "version_major": 2,
       "version_minor": 0
      },
      "text/plain": [
       "0epoch [00:00, ?epoch/s]"
      ]
     },
     "metadata": {},
     "output_type": "display_data"
    },
    {
     "data": {
      "application/vnd.jupyter.widget-view+json": {
       "model_id": "",
       "version_major": 2,
       "version_minor": 0
      },
      "text/plain": [
       "0batch [00:00, ?batch/s]"
      ]
     },
     "metadata": {},
     "output_type": "display_data"
    },
    {
     "name": "stdout",
     "output_type": "stream",
     "text": [
      "829/829 [==============================] - 0s 502us/step - loss: 4.1302 - mean_squared_error: 4.1302 - root_mean_squared_error: 2.0323 - mean_absolute_error: 1.0884\n",
      "MSE is 4.13\n",
      "RMSE is 2.032\n",
      "MAE is 1.088\n"
     ]
    },
    {
     "data": {
      "image/png": "[encoded data removed]",
      "text/plain": [
       "<Figure size 1200x400 with 2 Axes>"
      ]
     },
     "metadata": {},
     "output_type": "display_data"
    }
   ],
   "source": [
    "make_lin_reg_model(learning_rate=0.0005, optimizer='Adam', epoch_count=20, lr_sched='yes', decay_steps=10000, decay_rate=0.9)"
   ]
  },
  {
   "cell_type": "markdown",
   "metadata": {},
   "source": [
    "# Making a FFNN"
   ]
  },
  {
   "cell_type": "code",
   "execution_count": 23,
   "metadata": {},
   "outputs": [],
   "source": [
    "# Setup for testing different configurations\n",
    "\n",
    "def create_nn(learning_rate=0.00001, epoch_count=175, hidden_layer_sizes=[150, 75], \n",
    "              hl_act_func='relu', dropout_rate=0.1, oput_act_func='relu', optimizer='Adam', plot_flag=True,\n",
    "              verbosity_flag=False, lr_sched='yes', decay_steps=10000, decay_rate=0.95):\n",
    "    \n",
    "    ############################################################################################## 1\n",
    "    # Getting number of features\n",
    "    num_features = X_train_tf.shape[1]\n",
    "\n",
    "    ############################################################################################## 2\n",
    "    # Building the model\n",
    "    tf.keras.backend.clear_session()\n",
    "    model = tf.keras.Sequential()\n",
    "\n",
    "    # Create input layer\n",
    "    model.add(tf.keras.Input(shape=(num_features,), name='Input'\n",
    "              ))\n",
    "\n",
    "    # Create hidden layers\n",
    "    for i, hidden_layer_size in enumerate(hidden_layer_sizes):\n",
    "      model.add(tf.keras.layers.Dense(units=hidden_layer_size,\n",
    "                                     activation=hl_act_func,\n",
    "                                     name = f'Hidden_{i+1}'))\n",
    "    \n",
    "      # Create dropout after each hidden layer\n",
    "      model.add(tf.keras.layers.Dropout(rate=dropout_rate, name=f'Dropout_{i+1}') # Need to make dropout rate variable\n",
    "              )\n",
    "    \n",
    "    \n",
    "    # Create output layer\n",
    "    model.add(tf.keras.layers.Dense(\n",
    "              activation = oput_act_func, \n",
    "              units = 1,                \n",
    "              use_bias = True\n",
    "              ))\n",
    "\n",
    "    # Set a learning rate schedule\n",
    "    if lr_sched == 'yes':\n",
    "        lr_schedule = tf.keras.optimizers.schedules.ExponentialDecay(\n",
    "            initial_learning_rate=learning_rate,\n",
    "            decay_steps=decay_steps,\n",
    "            decay_rate=decay_rate)\n",
    "    else:\n",
    "        lr_schedule = learning_rate\n",
    "    \n",
    "    # Set optimizer\n",
    "    if optimizer == 'SGD':\n",
    "      opt = tf.keras.optimizers.SGD(learning_rate=lr_schedule)\n",
    "    elif optimizer == 'Adam':\n",
    "      opt = tf.keras.optimizers.Adam(learning_rate=lr_schedule)\n",
    "    else:\n",
    "      raise 'Unsupported optimizer: %s' %optimizer\n",
    "\n",
    "    ############################################################################################## 3\n",
    "    # Compiling the model\n",
    "    model.compile(\n",
    "        optimizer=opt,\n",
    "        loss='mse',\n",
    "        metrics=[metrics.mse,\n",
    "                 metrics.RootMeanSquaredError(),\n",
    "                 metrics.mae]\n",
    "        )\n",
    "\n",
    "    ############################################################################################## 4\n",
    "    # Fitting the model\n",
    "    history = model.fit(\n",
    "        x = X_train_tf,\n",
    "        y = Y_train_tf,\n",
    "        epochs = epoch_count,\n",
    "        validation_data = (X_val_tf, Y_val_tf),\n",
    "        verbose=verbosity_flag,\n",
    "        callbacks=[TqdmCallback()]\n",
    "    )\n",
    "\n",
    "    ############################################################################################## 5\n",
    "    # Displaying learning rates\n",
    "    if plot_flag == True:\n",
    "        mse_mae_plots(history)\n",
    "\n",
    "    return model"
   ]
  },
  {
   "cell_type": "code",
   "execution_count": 24,
   "metadata": {},
   "outputs": [
    {
     "data": {
      "application/vnd.jupyter.widget-view+json": {
       "model_id": "c10976333d334cb7bf5ac98c88e8dd32",
       "version_major": 2,
       "version_minor": 0
      },
      "text/plain": [
       "0epoch [00:00, ?epoch/s]"
      ]
     },
     "metadata": {},
     "output_type": "display_data"
    },
    {
     "data": {
      "application/vnd.jupyter.widget-view+json": {
       "model_id": "",
       "version_major": 2,
       "version_minor": 0
      },
      "text/plain": [
       "0batch [00:00, ?batch/s]"
      ]
     },
     "metadata": {},
     "output_type": "display_data"
    },
    {
     "name": "stdout",
     "output_type": "stream",
     "text": [
      "829/829 [==============================] - 1s 619us/step - loss: 4.0604 - mean_squared_error: 4.0604 - root_mean_squared_error: 2.0150 - mean_absolute_error: 1.0039\n",
      "MSE is 4.06\n",
      "RMSE is 2.015\n",
      "MAE is 1.004\n"
     ]
    },
    {
     "data": {
      "image/png": "[encoded data removed]",
      "text/plain": [
       "<Figure size 1200x400 with 2 Axes>"
      ]
     },
     "metadata": {},
     "output_type": "display_data"
    }
   ],
   "source": [
    "# Creating the model\n",
    "final_model = create_nn()\n",
    "ffnn_results = final_model.evaluate(X_test_tf, Y_test_tf)\n",
    "print(f'MSE is {round(ffnn_results[1],3)}')\n",
    "print(f'RMSE is {round(ffnn_results[2],3)}')\n",
    "print(f'MAE is {round(ffnn_results[3],3)}')"
   ]
  },
  {
   "cell_type": "code",
   "execution_count": null,
   "metadata": {},
   "outputs": [],
   "source": []
  }
 ],
 "metadata": {
  "colab": {
   "provenance": []
  },
  "kernelspec": {
   "display_name": "Python 3 (ipykernel)",
   "language": "python",
   "name": "python3"
  },
  "language_info": {
   "codemirror_mode": {
    "name": "ipython",
    "version": 3
   },
   "file_extension": ".py",
   "mimetype": "text/x-python",
   "name": "python",
   "nbconvert_exporter": "python",
   "pygments_lexer": "ipython3",
   "version": "3.9.18"
  }
 },
 "nbformat": 4,
 "nbformat_minor": 4
}
