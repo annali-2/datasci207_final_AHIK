{
 "cells": [
  {
   "cell_type": "markdown",
   "metadata": {
    "id": "U8Cs8_h8Vx_U"
   },
   "source": [
    "# References"
   ]
  },
  {
   "cell_type": "code",
   "execution_count": 1,
   "metadata": {
    "id": "zOFdxeNMRUVm"
   },
   "outputs": [],
   "source": [
    "# References\n",
    "\n",
    "# week11 - Demo_async (functional vs sequential API)\n",
    "# week06 - FFNN_DiabeticRetinopathy (building a FFNN)\n",
    "# week05 - imbalanced_data (standardization)\n",
    "# week03 - linear_regression (keras linear regression model)"
   ]
  },
  {
   "cell_type": "markdown",
   "metadata": {
    "id": "h7f83S3UV2DH"
   },
   "source": [
    "# Import packages and data"
   ]
  },
  {
   "cell_type": "code",
   "execution_count": 1,
   "metadata": {
    "id": "xqhLIiDoVxHO"
   },
   "outputs": [
    {
     "name": "stderr",
     "output_type": "stream",
     "text": [
      "2023-12-04 20:16:38.395834: I tensorflow/core/platform/cpu_feature_guard.cc:182] This TensorFlow binary is optimized to use available CPU instructions in performance-critical operations.\n",
      "To enable the following instructions: SSE4.1 SSE4.2, in other operations, rebuild TensorFlow with the appropriate compiler flags.\n"
     ]
    }
   ],
   "source": [
    "# Standard\n",
    "import pandas as pd\n",
    "import numpy as np\n",
    "import random\n",
    "import os\n",
    "import math\n",
    "\n",
    "# TF and Keras\n",
    "import tensorflow as tf\n",
    "from tensorflow.keras.preprocessing.image import ImageDataGenerator, array_to_img, img_to_array, load_img\n",
    "from keras import models\n",
    "from keras import layers\n",
    "from keras import metrics\n",
    "from keras import losses\n",
    "from keras import regularizers\n",
    "\n",
    "# Plots and images\n",
    "import seaborn as sns\n",
    "import matplotlib.pyplot as plt\n",
    "from IPython.display import Image\n",
    "%matplotlib inline\n",
    "\n",
    "# Silence TF\n",
    "os.environ['TF_CPP_MIN_LOG_LEVEL'] = '3'\n",
    "\n",
    "# Setting random seeds\n",
    "random.seed(0)\n",
    "np.random.seed(0)\n",
    "tf.random.set_seed(0)"
   ]
  },
  {
   "cell_type": "markdown",
   "metadata": {},
   "source": [
    "## Google Data Import\n",
    "Run to access your drive from google colab"
   ]
  },
  {
   "cell_type": "markdown",
   "metadata": {
    "colab": {
     "base_uri": "https://localhost:8080/"
    },
    "id": "V0KWOovScOBO",
    "outputId": "0bd53fb1-8e00-4e00-dffb-2ac88a207c7f"
   },
   "source": [
    "from google.colab import drive\n",
    "drive.mount('/content/drive', force_remount=False)"
   ]
  },
  {
   "cell_type": "markdown",
   "metadata": {
    "id": "VAaeVcqKcAEr"
   },
   "source": [
    "X_train = pd.read_csv('drive/MyDrive/data/X_train.csv')\n",
    "Y_train = pd.read_csv('drive/MyDrive/data/Y_train.csv')\n",
    "X_val = pd.read_csv('drive/MyDrive/data/X_val.csv')\n",
    "Y_val = pd.read_csv('drive/MyDrive/data/Y_val.csv')"
   ]
  },
  {
   "cell_type": "markdown",
   "metadata": {},
   "source": [
    "## Local Data Import"
   ]
  },
  {
   "cell_type": "code",
   "execution_count": 328,
   "metadata": {},
   "outputs": [],
   "source": [
    "X_train_init = pd.read_csv('X_train.csv')\n",
    "Y_train_init = pd.read_csv('Y_train.csv')\n",
    "X_val_init = pd.read_csv('X_val.csv')\n",
    "Y_val_init = pd.read_csv('Y_val.csv')"
   ]
  },
  {
   "cell_type": "code",
   "execution_count": 329,
   "metadata": {
    "id": "Qqk2h0YKlybU"
   },
   "outputs": [],
   "source": [
    "X_train_init.drop(columns=['Unnamed: 0'], inplace=True)\n",
    "Y_train_init.drop(columns=['Unnamed: 0'], inplace=True)\n",
    "X_val_init.drop(columns=['Unnamed: 0'], inplace=True)\n",
    "Y_val_init.drop(columns=['Unnamed: 0'], inplace=True)"
   ]
  },
  {
   "cell_type": "markdown",
   "metadata": {},
   "source": [
    "# Changing the train-val split"
   ]
  },
  {
   "cell_type": "code",
   "execution_count": 330,
   "metadata": {},
   "outputs": [],
   "source": [
    "X_comb = pd.concat([X_train_init, X_val_init])\n",
    "Y_comb = pd.concat([Y_train_init, Y_val_init])"
   ]
  },
  {
   "cell_type": "code",
   "execution_count": 331,
   "metadata": {},
   "outputs": [],
   "source": [
    "# This notebook uses these seasons\n",
    "X_train = X_comb[X_comb['season'].isin(['2018-19','2019-20'])]\n",
    "X_val = X_comb[X_comb['season'].isin(['2021-22'])]"
   ]
  },
  {
   "cell_type": "code",
   "execution_count": 332,
   "metadata": {},
   "outputs": [],
   "source": [
    "Y_train = Y_comb.iloc[:X_train.shape[0],]\n",
    "Y_val = Y_comb.iloc[-X_val.shape[0]:,]"
   ]
  },
  {
   "cell_type": "markdown",
   "metadata": {},
   "source": [
    "## Making One-Hot Encodings and Tensors for Categorical Variables"
   ]
  },
  {
   "cell_type": "code",
   "execution_count": 333,
   "metadata": {},
   "outputs": [],
   "source": [
    "# Data prep\n",
    "\n",
    "# Merging train and val into one DF to perform the encodings\n",
    "X = pd.concat([X_train, X_val])\n",
    "\n",
    "# Making the numerical categorical variables into strings - necessary to make the one-hot encodings\n",
    "X[['opp_diff_ind', 'GW','was_home']] = X[['opp_diff_ind', 'GW','was_home']].astype(str)"
   ]
  },
  {
   "cell_type": "code",
   "execution_count": 334,
   "metadata": {},
   "outputs": [],
   "source": [
    "# Making categorical variables into sparse one-hot encodings\n",
    "\n",
    "season_tf = tf.keras.layers.StringLookup(vocabulary=X.season.unique(), output_mode='one_hot')(X.season)\n",
    "\n",
    "player_team_name_tf = tf.keras.layers.StringLookup(vocabulary=X.player_team_name.unique(), \n",
    "                                                         output_mode='one_hot')(X.player_team_name)\n",
    "\n",
    "opp_team_name_tf = tf.keras.layers.StringLookup(vocabulary=X.opp_team_name.unique(), \n",
    "                                                      output_mode='one_hot')(X.opp_team_name)\n",
    "\n",
    "opp_diff_ind_tf = tf.keras.layers.StringLookup(vocabulary=X.opp_diff_ind.unique(), \n",
    "                                                      output_mode='one_hot')(X.opp_diff_ind)\n",
    "\n",
    "position_tf = tf.keras.layers.StringLookup(vocabulary=X.position.unique(), output_mode='one_hot')(X.position)\n",
    "\n",
    "gw_tf = tf.keras.layers.StringLookup(vocabulary=X.GW.unique(), output_mode='one_hot')(X.GW)\n",
    "\n",
    "was_home_tf = tf.keras.layers.StringLookup(vocabulary=X.was_home.unique(), output_mode='one_hot')(X.was_home)"
   ]
  },
  {
   "cell_type": "code",
   "execution_count": 335,
   "metadata": {},
   "outputs": [],
   "source": [
    "# Making a tensor with the split sizes\n",
    "split_one = X_train.shape[0]\n",
    "split_two = X_val.shape[0]\n",
    "\n",
    "# Splitting the encoded tensors into train and test\n",
    "season_train, season_val = tf.split(season_tf, [split_one, split_two], 0)\n",
    "\n",
    "player_team_name_train, player_team_name_val = tf.split(player_team_name_tf, [split_one, split_two], 0)\n",
    "\n",
    "opp_team_name_train, opp_team_name_val = tf.split(opp_team_name_tf, [split_one, split_two], 0)\n",
    "\n",
    "opp_diff_ind_train, opp_diff_ind_val = tf.split(opp_diff_ind_tf, [split_one, split_two], 0)\n",
    "\n",
    "position_train, position_val = tf.split(position_tf, [split_one, split_two], 0)\n",
    "\n",
    "gw_train, gw_val = tf.split(gw_tf, [split_one, split_two], 0)\n",
    "\n",
    "was_home_train, was_home_val = tf.split(was_home_tf, [split_one, split_two], 0)"
   ]
  },
  {
   "cell_type": "code",
   "execution_count": 336,
   "metadata": {},
   "outputs": [],
   "source": [
    "# Making lists of train and test categorical tensors to combine\n",
    "\n",
    "train_cat_tf = [season_train, player_team_name_train, opp_team_name_train, opp_diff_ind_train, \n",
    "                position_train, gw_train, was_home_train]\n",
    "\n",
    "val_cat_tf = [season_val, player_team_name_val, opp_team_name_val, opp_diff_ind_val, \n",
    "              position_val, gw_val, was_home_val]"
   ]
  },
  {
   "cell_type": "markdown",
   "metadata": {},
   "source": [
    "## Prepping tensors for continuous variables"
   ]
  },
  {
   "cell_type": "code",
   "execution_count": 337,
   "metadata": {},
   "outputs": [],
   "source": [
    "# Preparing column combination possibilities\n",
    "all_cols = X_train.columns\n",
    "\n",
    "lag_1 = ['assists_lag_1', 'bonus_lag_1', 'bps_lag_1', 'clean_sheets_lag_1',\n",
    "       'creativity_lag_1', 'goals_conceded_lag_1', 'goals_scored_lag_1',\n",
    "       'ict_index_lag_1', 'influence_lag_1', 'minutes_lag_1',\n",
    "       'own_goals_lag_1', 'penalties_missed_lag_1', 'penalties_saved_lag_1',\n",
    "       'red_cards_lag_1', 'saves_lag_1', 'selected_lag_1',\n",
    "       'player_team_score_lag_1', 'opp_team_score_lag_1', 'threat_lag_1',\n",
    "       'total_points_lag_1', 'value_lag_1', 'yellow_cards_lag_1']\n",
    "\n",
    "lag_3 = ['assists_lag_3', 'bonus_lag_3', 'bps_lag_3', 'clean_sheets_lag_3',\n",
    "       'creativity_lag_3', 'goals_conceded_lag_3', 'goals_scored_lag_3',\n",
    "       'ict_index_lag_3', 'influence_lag_3', 'minutes_lag_3',\n",
    "       'own_goals_lag_3', 'penalties_missed_lag_3', 'penalties_saved_lag_3',\n",
    "       'red_cards_lag_3', 'saves_lag_3', 'selected_lag_3',\n",
    "       'player_team_score_lag_3', 'opp_team_score_lag_3', 'threat_lag_3',\n",
    "       'total_points_lag_3', 'value_lag_3', 'yellow_cards_lag_3']\n",
    "\n",
    "lag_5 = ['assists_lag_5', 'bonus_lag_5', 'bps_lag_5', 'clean_sheets_lag_5',\n",
    "       'creativity_lag_5', 'goals_conceded_lag_5', 'goals_scored_lag_5',\n",
    "       'ict_index_lag_5', 'influence_lag_5', 'minutes_lag_5',\n",
    "       'own_goals_lag_5', 'penalties_missed_lag_5', 'penalties_saved_lag_5',\n",
    "       'red_cards_lag_5', 'saves_lag_5', 'selected_lag_5',\n",
    "       'player_team_score_lag_5', 'opp_team_score_lag_5', 'threat_lag_5',\n",
    "       'total_points_lag_5', 'value_lag_5', 'yellow_cards_lag_5']"
   ]
  },
  {
   "cell_type": "code",
   "execution_count": 338,
   "metadata": {},
   "outputs": [],
   "source": [
    "# Making continuous variable tensors\n",
    "X_train_contin1_tf = tf.convert_to_tensor(X_train[lag_1])\n",
    "X_train_contin3_tf = tf.convert_to_tensor(X_train[lag_3])\n",
    "X_train_contin5_tf = tf.convert_to_tensor(X_train[lag_5])\n",
    "\n",
    "X_val_contin1_tf = tf.convert_to_tensor(X_val[lag_1])\n",
    "X_val_contin3_tf = tf.convert_to_tensor(X_val[lag_3])\n",
    "X_val_contin5_tf = tf.convert_to_tensor(X_val[lag_5])"
   ]
  },
  {
   "cell_type": "code",
   "execution_count": 339,
   "metadata": {},
   "outputs": [],
   "source": [
    "# Making label tensors\n",
    "Y_train_tf = tf.convert_to_tensor(Y_train)\n",
    "Y_val_tf = tf.convert_to_tensor(Y_val)"
   ]
  },
  {
   "cell_type": "markdown",
   "metadata": {
    "id": "fVyClQxWXtX-"
   },
   "source": [
    "# Making a linear regression model"
   ]
  },
  {
   "cell_type": "code",
   "execution_count": 340,
   "metadata": {
    "id": "wYifl8qjcBw2"
   },
   "outputs": [],
   "source": [
    "# Specifying the inputs\n",
    "\n",
    "epoch_count = 20\n",
    "\n",
    "# Preparing the train and val tensors. I'll be using all the categorical variables and the lag 3 continuous variables for now\n",
    "train_list = [season_train, player_team_name_train, opp_team_name_train, opp_diff_ind_train, \n",
    "                position_train, gw_train, was_home_train, X_train_contin3_tf]\n",
    "\n",
    "val_list = [season_val, player_team_name_val, opp_team_name_val, opp_diff_ind_val, \n",
    "              position_val, gw_val, was_home_val, X_val_contin3_tf]\n",
    "\n",
    "X_train_input = tf.keras.layers.Concatenate(axis=1)(train_list)\n",
    "X_val_input = tf.keras.layers.Concatenate(axis=1)(val_list)\n",
    "\n",
    "num_features = X_train_input.shape[1]"
   ]
  },
  {
   "cell_type": "code",
   "execution_count": 341,
   "metadata": {
    "id": "Lg-I4TfLViAA"
   },
   "outputs": [],
   "source": [
    "# Building and compiling the model\n",
    "tf.keras.backend.clear_session()\n",
    "model = tf.keras.Sequential()\n",
    "\n",
    "# Create input layer\n",
    "model.add(tf.keras.Input(shape=(num_features,), name='Input'\n",
    "          ))\n",
    "\n",
    "# Create output layer\n",
    "model.add(tf.keras.layers.Dense(\n",
    "          activation = None,    # linear activation is used\n",
    "          units = 1,            # output dim - need to make sure this is correct\n",
    "          use_bias = True             \n",
    "          ))\n",
    "\n",
    "# Select optimizer\n",
    "optimizer = tf.keras.optimizers.Adam(learning_rate=0.001)\n",
    "\n",
    "# Compile the model\n",
    "model.compile(\n",
    "    optimizer=optimizer,\n",
    "    loss=losses.MeanSquaredError(),\n",
    "    metrics=[metrics.mse,\n",
    "             metrics.RootMeanSquaredError(),\n",
    "             metrics.mae]\n",
    "    )"
   ]
  },
  {
   "cell_type": "code",
   "execution_count": 342,
   "metadata": {
    "colab": {
     "base_uri": "https://localhost:8080/"
    },
    "id": "MZE2WS5GjCIO",
    "outputId": "27ddc0c6-d29d-4fff-bf04-e1e56ee7bf33"
   },
   "outputs": [],
   "source": [
    "# Fitting the model\n",
    "history = model.fit(\n",
    "    x = X_train_input,\n",
    "    y = Y_train_tf,\n",
    "    epochs = epoch_count,\n",
    "    validation_data = (X_val_input, Y_val_tf),\n",
    "    verbose=False\n",
    "    )"
   ]
  },
  {
   "cell_type": "code",
   "execution_count": 343,
   "metadata": {
    "colab": {
     "base_uri": "https://localhost:8080/",
     "height": 399
    },
    "id": "Wo270EAhj-0P",
    "outputId": "ab2fd116-4eb7-4a45-ecab-d51356e17a39"
   },
   "outputs": [
    {
     "data": {
      "image/png": "[encoded data removed]",
      "text/plain": [
       "<Figure size 1200x400 with 2 Axes>"
      ]
     },
     "metadata": {},
     "output_type": "display_data"
    }
   ],
   "source": [
    "# Plotting loss and accuracy for training and validation sets\n",
    "hist = history.history\n",
    "x_arr = np.arange(len(hist['loss'])) + 1\n",
    "\n",
    "fig = plt.figure(figsize=(12, 4))\n",
    "ax = fig.add_subplot(1, 2, 1)\n",
    "ax.plot(x_arr, hist['loss'], '-o', label='Train loss')\n",
    "ax.plot(x_arr, hist['val_loss'], '--<', label='Validation loss')\n",
    "ax.legend(fontsize=12)\n",
    "ax.set_xlabel('Epoch', size=12)\n",
    "ax.set_ylabel('Loss', size=12)\n",
    "ax.set_title('MSE by Epoch')\n",
    "\n",
    "ax = fig.add_subplot(1, 2, 2)\n",
    "ax.plot(x_arr, hist['mean_absolute_error'], '-o', label='Train MAE')\n",
    "ax.plot(x_arr, hist['val_mean_absolute_error'], '--<', label='Validation MAE')\n",
    "ax.legend(fontsize=12)\n",
    "ax.set_xlabel('Epoch', size=12)\n",
    "ax.set_ylabel('MAE', size=12)\n",
    "ax.set_title('MAE by Epoch')\n",
    "\n",
    "pass"
   ]
  },
  {
   "cell_type": "markdown",
   "metadata": {},
   "source": [
    "# Making a Baseline"
   ]
  },
  {
   "cell_type": "code",
   "execution_count": 344,
   "metadata": {},
   "outputs": [],
   "source": [
    "# Setting up necessary functions\n",
    "\n",
    "# Making a vector of predictions as long as the actuals\n",
    "def pred_vect(true_values, prediction=2):\n",
    "    predictions = []\n",
    "    count = 0\n",
    "    pred = prediction # Can pass baseline or 2\n",
    "    while count < len(true_values):\n",
    "        predictions.append(pred)\n",
    "        count += 1\n",
    "        \n",
    "    return predictions\n",
    "\n",
    "# Defining an MSE function\n",
    "def MSE(true_values, predicted_values):\n",
    "    \"\"\"Return the MSE between true_values and predicted values.\"\"\"\n",
    "    tot = 0\n",
    "    count = 0\n",
    "    \n",
    "    # Calculating the SE for each data point\n",
    "    while count < len(true_values):\n",
    "        tot += (true_values[count] - predicted_values[count])**2\n",
    "        count += 1\n",
    "    \n",
    "    # Returning the MSE\n",
    "    return tot / len(true_values)\n",
    "\n",
    "def RMSE(true_values, predicted_values):\n",
    "    \"\"\"Return the RMSE between true_values and predicted values.\"\"\"\n",
    "    tot = 0\n",
    "    count = 0\n",
    "    \n",
    "    # Calculating the SE for each data point\n",
    "    while count < len(true_values):\n",
    "        tot += (true_values[count] - predicted_values[count])**2\n",
    "        count += 1\n",
    "    \n",
    "    # Returning the MSE\n",
    "    return math.sqrt(tot / len(true_values))\n",
    "\n",
    "def MAE(true_values, predicted_values):\n",
    "    \"\"\"Return the MAE between true_values and predicted values.\"\"\"\n",
    "    tot = 0\n",
    "    count = 0\n",
    "    \n",
    "    # Calculating the SE for each data point\n",
    "    while count < len(true_values):\n",
    "        tot += abs(true_values[count] - predicted_values[count])\n",
    "        count += 1\n",
    "    \n",
    "    # Returning the MSE\n",
    "    return tot / len(true_values)"
   ]
  },
  {
   "cell_type": "code",
   "execution_count": 345,
   "metadata": {},
   "outputs": [
    {
     "data": {
      "text/plain": [
       "1.3970422725431053"
      ]
     },
     "execution_count": 345,
     "metadata": {},
     "output_type": "execute_result"
    }
   ],
   "source": [
    "# Creating a baseline with the average value\n",
    "baseline = Y_train['total_points'].mean()\n",
    "baseline"
   ]
  },
  {
   "cell_type": "code",
   "execution_count": 346,
   "metadata": {},
   "outputs": [
    {
     "name": "stdout",
     "output_type": "stream",
     "text": [
      "MSE is 6.561\n",
      "MAE is 1.515\n"
     ]
    }
   ],
   "source": [
    "true = np.array(Y_train['total_points'])\n",
    "pred = np.array(pred_vect(Y_train['total_points'],1))\n",
    "\n",
    "#print(f'RMSE is {round(RMSE(true, pred),3)}')\n",
    "print(f'MSE is {round(MSE(true, pred),3)}')\n",
    "print(f'MAE is {round(MAE(true, pred),3)}')"
   ]
  },
  {
   "cell_type": "markdown",
   "metadata": {},
   "source": [
    "# Making a FFNN"
   ]
  },
  {
   "cell_type": "code",
   "execution_count": 347,
   "metadata": {},
   "outputs": [],
   "source": [
    "def loss_mae_plots(history):\n",
    "    '''\n",
    "    Takes in history from model fitting and plots loss and MAE by epoch for both train and val\n",
    "    '''\n",
    "    hist = history.history\n",
    "    x_arr = np.arange(len(hist['loss'])) + 1\n",
    "    \n",
    "    fig = plt.figure(figsize=(12, 4))\n",
    "    ax = fig.add_subplot(1, 2, 1)\n",
    "    ax.plot(x_arr, hist['loss'], '-o', label='Train loss')\n",
    "    ax.plot(x_arr, hist['val_loss'], '--<', label='Validation loss')\n",
    "    ax.legend(fontsize=12)\n",
    "    ax.set_xlabel('Epoch', size=12)\n",
    "    ax.set_ylabel('Loss', size=12)\n",
    "    ax.set_title('Loss by Epoch')\n",
    "\n",
    "    ax = fig.add_subplot(1, 2, 2)\n",
    "    ax.plot(x_arr, hist['mean_absolute_error'], '-o', label='Train MAE')\n",
    "    ax.plot(x_arr, hist['val_mean_absolute_error'], '--<', label='Validation MAE')\n",
    "    ax.legend(fontsize=12)\n",
    "    ax.set_xlabel('Epoch', size=12)\n",
    "    ax.set_ylabel('MAE', size=12)\n",
    "    ax.set_title('MAE by Epoch')"
   ]
  },
  {
   "cell_type": "code",
   "execution_count": 348,
   "metadata": {},
   "outputs": [],
   "source": [
    "# Making a DF in which to store results\n",
    "results = pd.DataFrame(columns=['contin_vars', 'lagged_vars', 'learning_rate', 'epoch_count', 'hidden_layer_count',\n",
    "                                'hidden_layer_size_s','hl_act_func','dropout_rate','oput_act_func','optimizer',\n",
    "                                'train_loss', 'train_mae','val_loss','val_mae'])"
   ]
  },
  {
   "cell_type": "code",
   "execution_count": 349,
   "metadata": {},
   "outputs": [],
   "source": [
    "# Setup for testing different configurations\n",
    "\n",
    "def create_nn(contin_vars='yes', lagged_vars=3, learning_rate=0.01, epoch_count=5, hidden_layer_sizes=[], \n",
    "              hl_act_func='relu', dropout_rate=0.3, oput_act_func=None, optimizer='Adam', plot_flag=True,\n",
    "              verbosity_flag=True):\n",
    "    \n",
    "    ############################################################################################## 1\n",
    "    # Preparing the data\n",
    "\n",
    "    # Note: the user must at least either feed in 'yes' to contin_vars or 1, 3, or 5 to lagged_vars to avoid errors;\n",
    "    # if a user passed 'no' and another number, the code will error out\n",
    "    \n",
    "    # Runs if user wants to include continuous variables\n",
    "    if contin_vars == 'yes':\n",
    "        train_list = train_cat_tf\n",
    "        val_list = val_cat_tf\n",
    "\n",
    "        if lagged_vars == 1:\n",
    "            train_list = [season_train, player_team_name_train, opp_team_name_train, opp_diff_ind_train, \n",
    "                          position_train, gw_train, was_home_train, X_train_contin1_tf]\n",
    "            val_list = [season_val, player_team_name_val, opp_team_name_val, opp_diff_ind_val, \n",
    "                        position_val, gw_val, was_home_val, X_val_contin1_tf]\n",
    "        elif lagged_vars == 3:\n",
    "            train_list = [season_train, player_team_name_train, opp_team_name_train, opp_diff_ind_train, \n",
    "                          position_train, gw_train, was_home_train, X_train_contin3_tf]\n",
    "            val_list = [season_val, player_team_name_val, opp_team_name_val, opp_diff_ind_val, \n",
    "                        position_val, gw_val, was_home_val, X_val_contin3_tf]\n",
    "        elif lagged_vars == 5:\n",
    "            train_list = [season_train, player_team_name_train, opp_team_name_train, opp_diff_ind_train, \n",
    "                          position_train, gw_train, was_home_train, X_train_contin5_tf]\n",
    "            val_list = [season_val, player_team_name_val, opp_team_name_val, opp_diff_ind_val, \n",
    "                        position_val, gw_val, was_home_val, X_val_contin5_tf]\n",
    "        else:\n",
    "            pass # Should do nothing\n",
    "    \n",
    "        X_train_input = tf.keras.layers.Concatenate(axis=1)(train_list)\n",
    "        X_val_input = tf.keras.layers.Concatenate(axis=1)(val_list)\n",
    "\n",
    "    # Runs if user does not want to include continuous variables\n",
    "    elif contin_vars == 'no':\n",
    "        if lagged_vars == 1:\n",
    "            X_train_input = X_train_contin1_tf\n",
    "            X_val_input = X_val_contin1_tf\n",
    "        elif lagged_vars == 3:\n",
    "            X_train_input = X_train_contin3_tf\n",
    "            X_val_input = X_val_contin3_tf\n",
    "        elif lagged_vars == 5:\n",
    "            X_train_input = X_train_contin5_tf\n",
    "            X_val_input = X_val_contin5_tf\n",
    "        else:\n",
    "            raise 'Unsupported lagged_var input: %s' %lagged_vars\n",
    "    \n",
    "    # Getting number of features\n",
    "    num_features = X_train_input.shape[1]\n",
    "\n",
    "    ############################################################################################## 2\n",
    "    # Building the model\n",
    "    tf.keras.backend.clear_session()\n",
    "    model = tf.keras.Sequential()\n",
    "\n",
    "    # Create input layer\n",
    "    model.add(tf.keras.Input(shape=(num_features,), name='Input'\n",
    "              ))\n",
    "\n",
    "    # (Optional) Create hidden layers\n",
    "    for i, hidden_layer_size in enumerate(hidden_layer_sizes):\n",
    "      model.add(tf.keras.layers.Dense(units=hidden_layer_size,\n",
    "                                     activation=hl_act_func,\n",
    "                                     name = f'Hidden_{i+1}'))\n",
    "\n",
    "    # (Optional) Create dropout\n",
    "    model.add(tf.keras.layers.Dropout(rate=dropout_rate, name='Dropout') # Need to make dropout rate variable\n",
    "              )\n",
    "    \n",
    "    # Create output layer\n",
    "    model.add(tf.keras.layers.Dense(\n",
    "              activation = oput_act_func,    # linear activation is used\n",
    "              units = 1,                # output dim - need to make sure this is correct\n",
    "              use_bias = True,\n",
    "              kernel_regularizer=tf.keras.regularizers.L1L2(l1=0.1, l2=0.1) # L1 regularization             \n",
    "              ))\n",
    "    \n",
    "    # Select optimizer\n",
    "    if optimizer == 'SGD':\n",
    "      opt = tf.keras.optimizers.SGD(learning_rate=learning_rate)\n",
    "    elif optimizer == 'Adam':\n",
    "      opt = tf.keras.optimizers.Adam(learning_rate=learning_rate)\n",
    "    else:\n",
    "      raise 'Unsupported optimizer: %s' %optimizer\n",
    "\n",
    "    ############################################################################################## 3\n",
    "    # Compiling the model\n",
    "    model.compile(\n",
    "        optimizer=opt,\n",
    "        loss='mse',\n",
    "        metrics=[metrics.mse,\n",
    "                 metrics.RootMeanSquaredError(),\n",
    "                 metrics.mae]\n",
    "        )\n",
    "\n",
    "    ############################################################################################## 4\n",
    "    # Fitting the model\n",
    "    history = model.fit(\n",
    "        x = X_train_input,\n",
    "        y = Y_train_tf,\n",
    "        epochs = epoch_count,\n",
    "        validation_data = (X_val_input, Y_val_tf),\n",
    "        verbose=verbosity_flag\n",
    "    )\n",
    "\n",
    "    ############################################################################################## 5\n",
    "    # Displaying learning rates\n",
    "    if plot_flag == True:\n",
    "        loss_mae_plots(history)\n",
    "\n",
    "    ############################################################################################## 6\n",
    "    # Appending results to the results DF\n",
    "\n",
    "    # Pulling this in to get loss and accuracy\n",
    "    hist = history.history\n",
    "    \n",
    "    new_row = {'contin_vars': contin_vars, 'lagged_vars': lagged_vars, 'learning_rate': learning_rate, \n",
    "               'epoch_count': epoch_count, 'hidden_layer_count': len(hidden_layer_sizes), 'hidden_layer_size_s': hidden_layer_sizes,\n",
    "               'hl_act_func': hl_act_func, 'dropout_rate':dropout_rate, 'oput_act_func': oput_act_func,'optimizer': optimizer, \n",
    "               'train_loss': hist['loss'][-1], 'train_mae': hist['mean_absolute_error'][-1], 'val_loss': hist['val_loss'][-1], \n",
    "               'val_mae': hist['val_mean_absolute_error'][-1]}\n",
    "    \n",
    "    results.loc[len(results)] = new_row"
   ]
  },
  {
   "cell_type": "code",
   "execution_count": 353,
   "metadata": {},
   "outputs": [
    {
     "data": {
      "image/png": "[encoded data removed]",
      "text/plain": [
       "<Figure size 1200x400 with 2 Axes>"
      ]
     },
     "metadata": {},
     "output_type": "display_data"
    }
   ],
   "source": [
    "create_nn(contin_vars='yes', lagged_vars=3, epoch_count=200, dropout_rate = 0.1, learning_rate=0.00001, hidden_layer_sizes=[50], verbosity_flag=False)"
   ]
  },
  {
   "cell_type": "code",
   "execution_count": 351,
   "metadata": {},
   "outputs": [
    {
     "data": {
      "text/html": [
       "<div>\n",
       "<style scoped>\n",
       "    .dataframe tbody tr th:only-of-type {\n",
       "        vertical-align: middle;\n",
       "    }\n",
       "\n",
       "    .dataframe tbody tr th {\n",
       "        vertical-align: top;\n",
       "    }\n",
       "\n",
       "    .dataframe thead th {\n",
       "        text-align: right;\n",
       "    }\n",
       "</style>\n",
       "<table border=\"1\" class=\"dataframe\">\n",
       "  <thead>\n",
       "    <tr style=\"text-align: right;\">\n",
       "      <th></th>\n",
       "      <th>contin_vars</th>\n",
       "      <th>lagged_vars</th>\n",
       "      <th>learning_rate</th>\n",
       "      <th>epoch_count</th>\n",
       "      <th>hidden_layer_count</th>\n",
       "      <th>hidden_layer_size_s</th>\n",
       "      <th>hl_act_func</th>\n",
       "      <th>dropout_rate</th>\n",
       "      <th>oput_act_func</th>\n",
       "      <th>optimizer</th>\n",
       "      <th>train_loss</th>\n",
       "      <th>train_mae</th>\n",
       "      <th>val_loss</th>\n",
       "      <th>val_mae</th>\n",
       "    </tr>\n",
       "  </thead>\n",
       "  <tbody>\n",
       "    <tr>\n",
       "      <th>0</th>\n",
       "      <td>yes</td>\n",
       "      <td>3</td>\n",
       "      <td>0.00001</td>\n",
       "      <td>20</td>\n",
       "      <td>1</td>\n",
       "      <td>[50]</td>\n",
       "      <td>relu</td>\n",
       "      <td>0.1</td>\n",
       "      <td>None</td>\n",
       "      <td>Adam</td>\n",
       "      <td>5.377512</td>\n",
       "      <td>1.287583</td>\n",
       "      <td>5.108933</td>\n",
       "      <td>1.13409</td>\n",
       "    </tr>\n",
       "  </tbody>\n",
       "</table>\n",
       "</div>"
      ],
      "text/plain": [
       "  contin_vars  lagged_vars  learning_rate  epoch_count  hidden_layer_count  \\\n",
       "0         yes            3        0.00001           20                   1   \n",
       "\n",
       "  hidden_layer_size_s hl_act_func  dropout_rate oput_act_func optimizer  \\\n",
       "0                [50]        relu           0.1          None      Adam   \n",
       "\n",
       "   train_loss  train_mae  val_loss  val_mae  \n",
       "0    5.377512   1.287583  5.108933  1.13409  "
      ]
     },
     "execution_count": 351,
     "metadata": {},
     "output_type": "execute_result"
    }
   ],
   "source": [
    "results"
   ]
  },
  {
   "cell_type": "code",
   "execution_count": null,
   "metadata": {},
   "outputs": [],
   "source": []
  }
 ],
 "metadata": {
  "colab": {
   "provenance": []
  },
  "kernelspec": {
   "display_name": "Python 3 (ipykernel)",
   "language": "python",
   "name": "python3"
  },
  "language_info": {
   "codemirror_mode": {
    "name": "ipython",
    "version": 3
   },
   "file_extension": ".py",
   "mimetype": "text/x-python",
   "name": "python",
   "nbconvert_exporter": "python",
   "pygments_lexer": "ipython3",
   "version": "3.9.18"
  }
 },
 "nbformat": 4,
 "nbformat_minor": 4
}
