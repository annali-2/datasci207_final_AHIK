{
 "cells": [
  {
   "cell_type": "code",
   "execution_count": 1,
   "id": "5421e232-c9c3-455a-8967-0500f1218e1c",
   "metadata": {},
   "outputs": [],
   "source": [
    "# standard\n",
    "import pandas as pd\n",
    "import numpy as np\n",
    "import random\n",
    "import os\n",
    "import math\n",
    "\n",
    "# tf and keras\n",
    "import tensorflow as tf\n",
    "from tensorflow.keras.preprocessing.image import ImageDataGenerator, array_to_img, img_to_array, load_img\n",
    "from keras import models\n",
    "from keras import layers\n",
    "\n",
    "from sklearn.neighbors import KNeighborsRegressor\n",
    "from sklearn.model_selection  import train_test_split, cross_val_score\n",
    "from sklearn.metrics import accuracy_score, mean_squared_error\n",
    "\n",
    "# plots and images\n",
    "import seaborn as sns\n",
    "import matplotlib.pyplot as plt\n",
    "from IPython.display import Image\n",
    "%matplotlib inline\n",
    "\n",
    "#silence TF\n",
    "os.environ['TF_CPP_MIN_LOG_LEVEL'] = '3'\n",
    "\n",
    "# Setting random seeds\n",
    "random.seed(0)\n",
    "np.random.seed(0)\n",
    "tf.keras.backend.clear_session()\n",
    "tf.random.set_seed(0)"
   ]
  },
  {
   "cell_type": "markdown",
   "id": "32fea73b-3d54-401b-941c-dc766f2a55b6",
   "metadata": {},
   "source": [
    "#### read in data\n",
    "data1 directory has dense one-hot encodings <br>\n",
    "data2 directory has sparse one-hot encodings"
   ]
  },
  {
   "cell_type": "code",
   "execution_count": 2,
   "id": "cf2b9814-4499-42ad-a1b0-c57ec024f2d0",
   "metadata": {},
   "outputs": [],
   "source": [
    "# read in data\n",
    "x_train = pd.read_csv(\"data2/X_train.csv\").drop(columns=['Unnamed: 0'])\n",
    "y_train = pd.read_csv(\"data2/Y_train.csv\").drop(columns=['Unnamed: 0'])\n",
    "x_val = pd.read_csv(\"data2/X_val.csv\").drop(columns=['Unnamed: 0'])\n",
    "y_val = pd.read_csv(\"data2/Y_val.csv\").drop(columns=['Unnamed: 0'])\n",
    "x_test = pd.read_csv(\"data2/X_test.csv\").drop(columns=['Unnamed: 0'])\n",
    "y_test = pd.read_csv(\"data2/Y_test.csv\").drop(columns=['Unnamed: 0'])"
   ]
  },
  {
   "cell_type": "markdown",
   "id": "5211fc58-fbb7-4839-ba57-054decf272da",
   "metadata": {},
   "source": [
    "#### Baseline"
   ]
  },
  {
   "cell_type": "code",
   "execution_count": 3,
   "id": "475b8385-d817-4d26-b338-ae7e535f4977",
   "metadata": {},
   "outputs": [
    {
     "name": "stdout",
     "output_type": "stream",
     "text": [
      "train MSE: 6.302880420704537\n",
      "test MSE: 5.573325945935219\n"
     ]
    }
   ],
   "source": [
    "# calculate baseline\n",
    "baseline = y_train.total_points.mean()\n",
    "\n",
    "# compute RMSE of baseline on test and train data\n",
    "mse_train = np.square(np.subtract(y_train.total_points , baseline)).mean()\n",
    "mse_test = np.square(np.subtract(y_test.total_points , baseline)).mean()\n",
    "\n",
    "print(f\"train MSE: {mse_train}\")\n",
    "print(f\"test MSE: {mse_test}\")"
   ]
  },
  {
   "cell_type": "markdown",
   "id": "380c8f22-2af7-468f-98bf-24ebdc4b927a",
   "metadata": {},
   "source": [
    "#### KNN Model"
   ]
  },
  {
   "cell_type": "code",
   "execution_count": 11,
   "id": "038b374a-4fcb-4427-807e-492e9d6c0bdc",
   "metadata": {},
   "outputs": [],
   "source": [
    "# Column combination possibilities\n",
    "\n",
    "all_cols = x_train.columns\n",
    "\n",
    "lag_1 = ['assists_lag_1', 'bonus_lag_1', 'bps_lag_1', 'clean_sheets_lag_1',\n",
    "       'creativity_lag_1', 'goals_conceded_lag_1', 'goals_scored_lag_1',\n",
    "       'ict_index_lag_1', 'influence_lag_1', 'minutes_lag_1',\n",
    "       'own_goals_lag_1', 'penalties_missed_lag_1', 'penalties_saved_lag_1',\n",
    "       'red_cards_lag_1', 'saves_lag_1', 'selected_lag_1',\n",
    "       'player_team_score_lag_1', 'opp_team_score_lag_1', 'threat_lag_1',\n",
    "       'total_points_lag_1', 'value_lag_1', 'yellow_cards_lag_1']\n",
    "\n",
    "lag_3 = ['assists_lag_3', 'bonus_lag_3', 'bps_lag_3', 'clean_sheets_lag_3',\n",
    "       'creativity_lag_3', 'goals_conceded_lag_3', 'goals_scored_lag_3',\n",
    "       'ict_index_lag_3', 'influence_lag_3', 'minutes_lag_3',\n",
    "       'own_goals_lag_3', 'penalties_missed_lag_3', 'penalties_saved_lag_3',\n",
    "       'red_cards_lag_3', 'saves_lag_3', 'selected_lag_3',\n",
    "       'player_team_score_lag_3', 'opp_team_score_lag_3', 'threat_lag_3',\n",
    "       'total_points_lag_3', 'value_lag_3', 'yellow_cards_lag_3']\n",
    "\n",
    "lag_5 = ['assists_lag_5', 'bonus_lag_5', 'bps_lag_5', 'clean_sheets_lag_5',\n",
    "       'creativity_lag_5', 'goals_conceded_lag_5', 'goals_scored_lag_5',\n",
    "       'ict_index_lag_5', 'influence_lag_5', 'minutes_lag_5',\n",
    "       'own_goals_lag_5', 'penalties_missed_lag_5', 'penalties_saved_lag_5',\n",
    "       'red_cards_lag_5', 'saves_lag_5', 'selected_lag_5',\n",
    "       'player_team_score_lag_5', 'opp_team_score_lag_5', 'threat_lag_5',\n",
    "       'total_points_lag_5', 'value_lag_5', 'yellow_cards_lag_5']\n",
    "\n",
    "cat = ['season', 'player_team_name', 'opp_team_name',\n",
    "       'opp_diff_ind', 'position', 'GW', 'was_home']\n",
    "\n",
    "judgmental_imp = ['player_team_name_mapping', 'opp_team_name_mapping',\n",
    "       'opp_diff_ind_mapping', 'position_mapping', 'was_home_mapping',\n",
    "       'assists_lag_3', 'bonus_lag_3', 'goals_scored_lag_3', 'ict_index_lag_3',\n",
    "       'minutes_lag_3', 'red_cards_lag_3', 'selected_lag_3', 'player_team_score_lag_3',\n",
    "       'opp_team_score_lag_3', 'total_points_lag_3', 'value_lag_3', 'yellow_cards_lag_3'] # Uses lag 3 as a default"
   ]
  },
  {
   "cell_type": "code",
   "execution_count": null,
   "id": "ce0b182c-7e86-43d6-97d4-5ba4bf902e88",
   "metadata": {},
   "outputs": [],
   "source": [
    "cat_columns = ['season', 'player_team_name', 'opp_team_name',\n",
    "       'opp_diff_ind', 'position', 'GW', 'was_home']\n",
    "df_encoded = pd.get_dummies(x_train, columns = cat_columns)"
   ]
  },
  {
   "cell_type": "markdown",
   "id": "9f2713a4-6172-4bec-84d0-a922bdadc1b4",
   "metadata": {},
   "source": [
    "#### run KNN model using CV to choose best K"
   ]
  },
  {
   "cell_type": "code",
   "execution_count": 56,
   "id": "bab0f77d-1a8d-4a2f-8adc-cf0be5b62d0e",
   "metadata": {},
   "outputs": [],
   "source": [
    "def run_knn(df_x_train, df_x_test, cv=10):\n",
    "    \n",
    "    # running for different K values to know which yields the max accuracy.\n",
    "    scores=[]\n",
    "    for K in range(20):   \n",
    "        K = K+1\n",
    "        clf = KNeighborsRegressor(n_neighbors = K)\n",
    "        clf.fit(df_x_train, y_train)\n",
    "        score = cross_val_score(clf, df_x_train, y_train, cv=10)\n",
    "        scores.append(score.mean())\n",
    "    \n",
    "    mse = [1-x for x in scores]\n",
    "    optimal_k = mse.index(min(mse)) + 1\n",
    "    print(\"Optimal K: \", optimal_k)\n",
    "    \n",
    "    # Training the model on Optimal K.\n",
    "    clf_optimal = KNeighborsRegressor(n_neighbors = optimal_k)\n",
    "    clf_optimal.fit(df_x_train, y_train)\n",
    "    y_pred = clf_optimal.predict(df_x_test)\n",
    "    print(\"MSE Error: \", mean_squared_error(y_test, y_pred))"
   ]
  },
  {
   "cell_type": "markdown",
   "id": "6ff5d6fe-e807-4a50-b5b8-6fc15dbf6fb5",
   "metadata": {},
   "source": [
    "#### this is ideal model, adding lagged variables with the categorical variables\n",
    "however, right now, it's throwing an error because there's categorical variables in the test data that aren't seen in the training data..."
   ]
  },
  {
   "cell_type": "code",
   "execution_count": null,
   "id": "158b0917-eb96-42ee-a9b3-1d0dca8e860a",
   "metadata": {},
   "outputs": [],
   "source": [
    "cat_columns = ['season', 'player_team_name', 'opp_team_name',\n",
    "       'opp_diff_ind', 'position', 'GW', 'was_home']\n",
    "\n",
    "df_xtrain_1 = x_train[lag_1 + cat]\n",
    "df_xtest_1 = x_test[lag_1 + cat]\n",
    "df_xtrain_1_encoded = pd.get_dummies(df_xtrain_1, columns = cat_columns)\n",
    "df_xtest_1_encoded = pd.get_dummies(df_xtest_1, columns = cat_columns)\n",
    "run_knn(df_xtrain_1, df_xtest_1, cv=10)"
   ]
  },
  {
   "cell_type": "markdown",
   "id": "d0ebf975-18e2-4a23-844a-8ac028a8c451",
   "metadata": {},
   "source": [
    "#### lag1 model"
   ]
  },
  {
   "cell_type": "code",
   "execution_count": 52,
   "id": "7560d261-0d0c-48c4-9b0f-028908915d86",
   "metadata": {},
   "outputs": [
    {
     "name": "stdout",
     "output_type": "stream",
     "text": [
      "Optimal K:  19\n",
      "RMS Error:  4.155893859988786\n"
     ]
    }
   ],
   "source": [
    "df_xtrain_1 = x_train[lag_1]\n",
    "df_xtest_1 = x_test[lag_1]\n",
    "run_knn(df_xtrain_1, df_xtest_1, cv=10)"
   ]
  },
  {
   "cell_type": "markdown",
   "id": "ea46677b-f78b-426f-8ac4-c147b4289e73",
   "metadata": {},
   "source": [
    "#### lag3 model"
   ]
  },
  {
   "cell_type": "code",
   "execution_count": 53,
   "id": "d008c7a7-f125-4ed1-8adc-a6d2083d80eb",
   "metadata": {},
   "outputs": [
    {
     "name": "stdout",
     "output_type": "stream",
     "text": [
      "Optimal K:  19\n",
      "RMS Error:  4.136794970478052\n"
     ]
    }
   ],
   "source": [
    "df_xtrain_3 = x_train[lag_3]\n",
    "df_xtest_3 = x_test[lag_3]\n",
    "run_knn(df_xtrain_3, df_xtest_3, cv=10)"
   ]
  },
  {
   "cell_type": "markdown",
   "id": "0a5fcea0-b646-4e0b-8e6f-72fe46d3e0c6",
   "metadata": {},
   "source": [
    "#### lag5 model"
   ]
  },
  {
   "cell_type": "code",
   "execution_count": 54,
   "id": "7a3506dd-e93d-4894-a999-b56f5915e347",
   "metadata": {},
   "outputs": [
    {
     "name": "stdout",
     "output_type": "stream",
     "text": [
      "Optimal K:  19\n",
      "RMS Error:  4.247562342546564\n"
     ]
    }
   ],
   "source": [
    "df_xtrain_5 = x_train[lag_5]\n",
    "df_xtest_5 = x_test[lag_5]\n",
    "run_knn(df_xtrain_5, df_xtest_5, cv=10)"
   ]
  },
  {
   "cell_type": "markdown",
   "id": "0b27f5fd-bdb6-47c1-8e58-8ae78585dfb5",
   "metadata": {},
   "source": [
    "#### all the data"
   ]
  },
  {
   "cell_type": "code",
   "execution_count": 58,
   "id": "78397f86-3b9c-4036-b008-92b58edce2be",
   "metadata": {},
   "outputs": [
    {
     "name": "stdout",
     "output_type": "stream",
     "text": [
      "Optimal K:  20\n",
      "MSE Error:  4.072635068854933\n"
     ]
    }
   ],
   "source": [
    "df_xtrain_all = x_train[lag_1 + lag_3 + lag_5]\n",
    "df_xtest_all = x_test[lag_1 + lag_3 + lag_5]\n",
    "run_knn(df_xtrain_all, df_xtest_all, cv=10)"
   ]
  },
  {
   "cell_type": "markdown",
   "id": "425c5812-ac5b-4e4e-aafa-34562e7f05a3",
   "metadata": {},
   "source": [
    "#### OLD: run KNN model for lag3 data "
   ]
  },
  {
   "cell_type": "code",
   "execution_count": null,
   "id": "238c1304-37e2-41de-9738-a6fe318b0ad7",
   "metadata": {},
   "outputs": [],
   "source": [
    "mse_val = [] #to store mse values for different k\n",
    "for K in range(20):\n",
    "    K = K+1\n",
    "    model = KNeighborsRegressor(n_neighbors = K)\n",
    "    model.fit(x_train, y_train)  #fit the model\n",
    "    pred=model.predict(x_test) #make prediction on test set\n",
    "    error = mean_squared_error(y_test,pred) #calculate rmse\n",
    "    mse_val.append(error) #store mse values\n",
    "    \n",
    "min_mse_index = mse_val.index(min(mse_val))\n",
    "min_mse = min(mse_val)\n",
    "print('Min mse: k=', min_mse_index , 'is:', min_mse)"
   ]
  },
  {
   "cell_type": "code",
   "execution_count": null,
   "id": "e3e336b6-a71c-437b-997f-0c454c4bbc5e",
   "metadata": {},
   "outputs": [],
   "source": []
  }
 ],
 "metadata": {
  "kernelspec": {
   "display_name": "Python 3 (ipykernel)",
   "language": "python",
   "name": "python3"
  },
  "language_info": {
   "codemirror_mode": {
    "name": "ipython",
    "version": 3
   },
   "file_extension": ".py",
   "mimetype": "text/x-python",
   "name": "python",
   "nbconvert_exporter": "python",
   "pygments_lexer": "ipython3",
   "version": "3.9.18"
  }
 },
 "nbformat": 4,
 "nbformat_minor": 5
}
