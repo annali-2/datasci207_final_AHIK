{
 "cells": [
  {
   "cell_type": "markdown",
   "metadata": {
    "id": "H2Jqf2DCij1I"
   },
   "source": [
    "# Importing Packages and Data"
   ]
  },
  {
   "cell_type": "code",
   "execution_count": 1,
   "metadata": {
    "id": "Z5UDXk0oBkAB"
   },
   "outputs": [],
   "source": [
    "import pandas as pd\n",
    "import os\n",
    "import matplotlib.pyplot as plt\n",
    "import seaborn as sns\n",
    "import numpy as np\n",
    "import copy\n",
    "import tensorflow as tf\n",
    "from sklearn import preprocessing\n",
    "from sklearn.preprocessing import StandardScaler"
   ]
  },
  {
   "cell_type": "code",
   "execution_count": 2,
   "metadata": {
    "colab": {
     "base_uri": "https://localhost:8080/"
    },
    "id": "hMQ_OtLFF8Ho",
    "outputId": "09a09892-4d8d-44b5-b9f3-4abb86bea0f6"
   },
   "outputs": [
    {
     "name": "stderr",
     "output_type": "stream",
     "text": [
      "/var/folders/yc/p4crn8cj0tz82_rx5_032qvw0000gn/T/ipykernel_41066/2267868378.py:2: DtypeWarning: Columns (3) have mixed types. Specify dtype option on import or set low_memory=False.\n",
      "  prem_league_data = pd.read_csv('data/cleaned_merged_seasons.csv')\n"
     ]
    }
   ],
   "source": [
    "# Importing the main data\n",
    "prem_league_data = pd.read_csv('data/cleaned_merged_seasons.csv')"
   ]
  },
  {
   "cell_type": "markdown",
   "metadata": {
    "id": "ezDKnkfhDn_q"
   },
   "source": [
    "# Merging in 2018-19 and 2019-20 seasons"
   ]
  },
  {
   "cell_type": "code",
   "execution_count": 3,
   "metadata": {
    "id": "Qe_AlZp3DAO0"
   },
   "outputs": [],
   "source": [
    "merged_2018_19 = pd.read_csv('data/2018-19/gws/merged_gw.csv', encoding='iso-8859-1')\n",
    "merged_2019_20 = pd.read_csv('data/2019-20/gws/merged_gw.csv', encoding='iso-8859-1')"
   ]
  },
  {
   "cell_type": "code",
   "execution_count": 4,
   "metadata": {
    "id": "JSLGcJl9DTqx"
   },
   "outputs": [],
   "source": [
    "df_19 = merged_2018_19[['name', 'assists', 'bonus', 'bps', 'clean_sheets',\n",
    "                        'creativity', 'element', 'fixture', 'goals_conceded', 'goals_scored', 'ict_index',\n",
    "                        'influence', 'kickoff_time', 'minutes', 'opponent_team', 'own_goals', 'penalties_missed',\n",
    "                        'penalties_saved', 'red_cards', 'round', 'saves', 'selected', 'team_a_score', 'team_h_score',\n",
    "                        'threat', 'total_points', 'transfers_balance', 'transfers_in', 'transfers_out', 'value', 'was_home',\n",
    "                        'yellow_cards', 'GW']].copy()\n",
    "df_19['season_x'] = '2018-19'\n",
    "df_19['team_x'] = np.nan\n",
    "df_19['position'] = np.nan\n",
    "\n",
    "df_19['name'] = df_19['name'].apply(lambda x: x[:x.rfind('_')].replace('_', ' '))"
   ]
  },
  {
   "cell_type": "code",
   "execution_count": 5,
   "metadata": {
    "id": "7ISX-LcmDhMK"
   },
   "outputs": [],
   "source": [
    "df_20 = merged_2019_20[['name', 'assists', 'bonus', 'bps', 'clean_sheets',\n",
    "                        'creativity', 'element', 'fixture', 'goals_conceded', 'goals_scored', 'ict_index',\n",
    "                        'influence', 'kickoff_time', 'minutes', 'opponent_team', 'own_goals', 'penalties_missed',\n",
    "                        'penalties_saved', 'red_cards', 'round', 'saves', 'selected', 'team_a_score', 'team_h_score',\n",
    "                        'threat', 'total_points', 'transfers_balance', 'transfers_in', 'transfers_out', 'value', 'was_home',\n",
    "                        'yellow_cards', 'GW']].copy()\n",
    "df_20['season_x'] = '2019-20'\n",
    "df_20['team_x'] = np.nan\n",
    "df_20['position'] = np.nan\n",
    "df_20['name'] = df_20['name'].apply(lambda x: x[:x.rfind('_')].replace('_', ' '))"
   ]
  },
  {
   "cell_type": "code",
   "execution_count": 6,
   "metadata": {
    "id": "mO3Bt1c0Eqj6"
   },
   "outputs": [],
   "source": [
    "overall_df = pd.concat([prem_league_data, df_19, df_20])"
   ]
  },
  {
   "cell_type": "markdown",
   "metadata": {
    "id": "aA2Q0XDE25jQ"
   },
   "source": [
    "# Fixing special characters in names in the 2019-20 season"
   ]
  },
  {
   "cell_type": "code",
   "execution_count": 7,
   "metadata": {
    "id": "n19hihaKvoXq"
   },
   "outputs": [],
   "source": [
    "# Mapping special characters\n",
    "spec_char_dict = {\n",
    "  'Ã¡':'á',\n",
    "  'Ã\\x81':'Á',\n",
    "  'Ã©':'é',\n",
    "  'Ã\\xad':'í',\n",
    "  'Ã³':'ó',\n",
    "  'Ãº':'ú',\n",
    "  'Ã¤':'ä',\n",
    "  'Ã«':'ë',\n",
    "  'Ã¯':'ï',\n",
    "  'Ã¶':'ö',\n",
    "  'Ã\\x96':'Ö',\n",
    "  'Ã¼':'ü',\n",
    "  'Ã£':'ã',\n",
    "  'Ã\\x9f':'ß',\n",
    "  'Ã§':'ç',\n",
    "  'Ä\\x87':'ć',\n",
    "  'Ã\\x87':'Ç',\n",
    "  'Ã±':'ñ',\n",
    "  'Ã¸':'ø',\n",
    "  'Ã\\x98':'Ø',\n",
    "  'Å¡':'š'\n",
    "}"
   ]
  },
  {
   "cell_type": "code",
   "execution_count": 8,
   "metadata": {
    "id": "spOunrNS3a_0"
   },
   "outputs": [],
   "source": [
    "# Pulling a list of all the names with special characters to fix\n",
    "# spec_char_names = df['name'][(df['season_x'] == '2019-20') & (df['team_x'].isnull())].unique()\n",
    "# The line above only works if you run it after getting the missing team info. I want to run the fix before joining on team info that way the join will work and I don't have to repeat it\n",
    "# Because of this, I'm hard coding the fix\n",
    "\n",
    "spec_char_names = ['Abdoulaye DoucourÃ©', 'Adama TraorÃ©',\n",
    "       'AdriÃ¡n San Miguel del Castillo', 'Alexis SÃ¡nchez',\n",
    "       'AndrÃ© Filipe Tavares Gomes', 'Antonio RÃ¼diger', 'Ayoze PÃ©rez',\n",
    "       'Bernard AnÃ\\xadcio Caldeira Duarte', 'Carlos SÃ¡nchez',\n",
    "       'Cheikhou KouyatÃ©', 'CÃ©dric Soares', 'CÃ©sar Azpilicueta',\n",
    "       'Daniel Ceballos FernÃ¡ndez', 'Davinson SÃ¡nchez', 'Davy PrÃ¶pper',\n",
    "       'Djibril SidibÃ©', 'Emiliano BuendÃ\\xada', 'Emiliano MartÃ\\xadnez',\n",
    "       'Fabian SchÃ¤r', 'FabiÃ¡n Balbuena', 'Federico FernÃ¡ndez',\n",
    "       'Francisco FemenÃ\\xada Far', 'FrÃ©dÃ©ric Guilbert', 'GaÃ«tan Bong',\n",
    "       'Georges-KÃ©vin Nkoudou', 'HÃ©ctor BellerÃ\\xadn', 'HÃ©lder Costa',\n",
    "       'Ilkay GÃ¼ndogan', 'IsmaÃ¯la Sarr', 'Javier HernÃ¡ndez BalcÃ¡zar',\n",
    "       'JesÃºs Vallejo LÃ¡zaro', 'Joelinton CÃ¡ssio ApolinÃ¡rio de Lira',\n",
    "       'Jonas LÃ¶ssl', 'Jose Luis Mato SanmartÃ\\xadn',\n",
    "       'JosÃ© Diogo Dalot Teixeira', 'JosÃ© Heriberto Izquierdo Mena',\n",
    "       'JosÃ© Ignacio Peleteiro Romallo',\n",
    "       'JosÃ© Ã\\x81ngel EsmorÃ\\xads Tasende', 'JosÃ© Holebas',\n",
    "       'JoÃ£o Filipe Iria Santos Moutinho', 'JoÃ£o Pedro Cavaco Cancelo',\n",
    "       'JÃ¼rgen Locadia', 'Leroy SanÃ©', 'MartÃ\\xadn Montoya',\n",
    "       'Mesut Ã\\x96zil', 'Miguel AlmirÃ³n', 'Muhamed BeÅ¡iÄ\\x87',\n",
    "       \"N'Golo KantÃ©\", 'Nathan AkÃ©', 'Nicolas PÃ©pÃ©',\n",
    "       'NicolÃ¡s Otamendi', 'Onel HernÃ¡ndez', 'Pascal GroÃ\\x9f',\n",
    "       'Pedro RodrÃ\\xadguez Ledesma', 'Pierre-Emile HÃ¸jbjerg',\n",
    "       'RaÃºl JimÃ©nez', 'Romain SaÃ¯ss',\n",
    "       'Rui Pedro dos Santos PatrÃ\\xadcio', 'RÃºben Diogo da Silva Neves',\n",
    "       'RÃºben GonÃ§alo Silva Nascimento Vinagre', 'Sadio ManÃ©',\n",
    "       'Sebastian PrÃ¶dl', 'Sergio AgÃ¼ero', 'SÃ©bastien Haller',\n",
    "       'Victor LindelÃ¶f', 'VÃ\\xadctor Camarasa', 'Ã\\x87aglar SÃ¶yÃ¼ncÃ¼',\n",
    "       'Ã\\x98rjan Nyland', 'JoÃ£o Pedro Junqueira de Jesus',\n",
    "       'GonÃ§alo Bento Soares Cardoso', 'Bruno AndrÃ© Cavaco Jordao',\n",
    "       'JosÃ© Reina', 'Pablo MarÃ\\xad', 'Borja GonzÃ¡lez TomÃ¡s',\n",
    "       'JoÃ£o Manuel Neves VirgÃ\\xadnia', 'Adalberto PeÃ±aranda']"
   ]
  },
  {
   "cell_type": "code",
   "execution_count": 9,
   "metadata": {
    "id": "AOuBlC5C7bfC"
   },
   "outputs": [],
   "source": [
    "# Fixing special characters\n",
    "fixed_names = []\n",
    "\n",
    "for name in spec_char_names:\n",
    "  for key, value in spec_char_dict.items():\n",
    "      name = name.replace(key, value)\n",
    "  fixed_names.append(name)"
   ]
  },
  {
   "cell_type": "code",
   "execution_count": 10,
   "metadata": {
    "id": "UF_A6tPk7twD"
   },
   "outputs": [],
   "source": [
    "# Making a dictionary of corrected names\n",
    "corrected_name_dict = {spec_char_names[i]: fixed_names[i] for i in range(len(spec_char_names))}"
   ]
  },
  {
   "cell_type": "code",
   "execution_count": 11,
   "metadata": {
    "id": "UflLByH-79pI"
   },
   "outputs": [],
   "source": [
    "# Replacing all special character names in overall_df with the corrected names\n",
    "overall_df['name'] = overall_df['name'].replace(corrected_name_dict)"
   ]
  },
  {
   "cell_type": "markdown",
   "metadata": {
    "id": "stlflysXkDzf"
   },
   "source": [
    "# Get missing team data for 2016-17, 2017-18, 2018-19, and 2019-20 seasons"
   ]
  },
  {
   "cell_type": "code",
   "execution_count": 12,
   "metadata": {
    "id": "WkfUXRSJGZsx"
   },
   "outputs": [],
   "source": [
    "# Get list of teams by season\n",
    "teams = pd.read_csv('data/master_team_list.csv')\n",
    "teams_2016 = teams[teams.season=='2016-17']\n",
    "teams_2017 = teams[teams.season=='2017-18']\n",
    "teams_2018 = teams[teams.season=='2018-19']\n",
    "teams_2019 = teams[teams.season=='2019-20']\n",
    "\n",
    "# Get 2016 players and team data\n",
    "players_2016 = pd.read_csv('data/2016-17/players_raw.csv')\n",
    "players_2016['name'] = players_2016.first_name + ' ' + players_2016.second_name\n",
    "players_2016 = players_2016[['name', 'team']]\n",
    "players_2016_merged = players_2016.merge(teams_2016, how='left', on='team')\n",
    "\n",
    "df = overall_df.merge(players_2016_merged, how='left', left_on=['season_x', 'name'], right_on=['season', 'name'])\n",
    "df['team_x'] = np.where(~df['team_name'].isnull(),df['team_name'],df['team_x'])\n",
    "df.drop(columns=['team', 'season', 'team_name'], inplace=True)\n",
    "\n",
    "# Get 2017 players and team data\n",
    "players_2017 = pd.read_csv('data/2017-18/players_raw.csv')\n",
    "players_2017['name'] = players_2017.first_name + ' ' + players_2017.second_name\n",
    "players_2017 = players_2017[['name', 'team']]\n",
    "players_2017_merged = players_2017.merge(teams_2017, how='left', on='team')\n",
    "\n",
    "df = df.merge(players_2017_merged, how='left', left_on=['season_x', 'name'], right_on=['season', 'name'])\n",
    "df['team_x'] = np.where(~df['team_name'].isnull(),df['team_name'], df['team_x'])\n",
    "df.drop(columns=['team', 'season', 'team_name'], inplace=True)\n",
    "\n",
    "# Get 2018 players and team data\n",
    "players_2018 = pd.read_csv('data/2018-19/players_raw.csv')\n",
    "players_2018['name'] = players_2018.first_name + ' ' + players_2018.second_name\n",
    "players_2018 = players_2018[['name', 'team']]\n",
    "players_2018_merged = players_2018.merge(teams_2018, how='left', on='team')\n",
    "\n",
    "df = df.merge(players_2018_merged, how='left', left_on=['season_x', 'name'], right_on=['season', 'name'])\n",
    "df['team_x'] = np.where(~df['team_name'].isnull(),df['team_name'], df['team_x'])\n",
    "df.drop(columns=['team', 'season', 'team_name'], inplace=True)\n",
    "\n",
    "# Get 2019 players and team data\n",
    "players_2019 = pd.read_csv('data/2019-20/players_raw.csv')\n",
    "players_2019['name'] = players_2019.first_name + ' ' + players_2019.second_name\n",
    "players_2019 = players_2019[['name', 'team']]\n",
    "players_2019_merged = players_2019.merge(teams_2019, how='left', on='team')\n",
    "\n",
    "df = df.merge(players_2019_merged, how='left', left_on=['season_x', 'name'], right_on=['season', 'name'])\n",
    "df['team_x'] = np.where(~df['team_name'].isnull(),df['team_name'], df['team_x'])\n",
    "df.drop(columns=['team', 'season', 'team_name'], inplace=True)\n",
    "\n",
    "# Fixing missing team info for David de Gea and Caglar Söyüncü manually\n",
    "mask = ((df.season_x == '2017-18') | (df.season_x == '2018-19')) & ((df.name==\"David de Gea\") | (df.name==\"David De Gea\"))\n",
    "df.loc[mask, 'team_x'] = 'Man Utd'\n",
    "\n",
    "mask = (df.season_x == '2018-19') & (df.name==\"Caglar Söyüncü\")\n",
    "df.loc[mask, 'team_x'] = 'Leicester'"
   ]
  },
  {
   "cell_type": "markdown",
   "metadata": {
    "id": "U7TF6pynOivO"
   },
   "source": [
    "# Fill Missing Position Data"
   ]
  },
  {
   "cell_type": "code",
   "execution_count": 13,
   "metadata": {
    "id": "JyHMK6hEy-OF"
   },
   "outputs": [],
   "source": [
    "fill_pos = pd.read_csv('data/mpos.csv')\n",
    "fill_pos.columns = ['dirty_name', 'clean_name', 'scrape_position']"
   ]
  },
  {
   "cell_type": "code",
   "execution_count": 14,
   "metadata": {
    "id": "wH0G8X57sBrw"
   },
   "outputs": [],
   "source": [
    "# clean names again\n",
    "df['name'] = df['name'].replace(corrected_name_dict)\n",
    "import pandas as pd\n",
    "import unicodedata\n",
    "\n",
    "def normalize_string(text):\n",
    "    # Strip leading/trailing whitespace\n",
    "    text = text.strip()\n",
    "    # Convert to lowercase\n",
    "    text = text.lower()\n",
    "    # Replace multiple spaces with a single space\n",
    "    text = ' '.join(text.split())\n",
    "    # Normalize unicode characters to the closest ASCII representation\n",
    "    text = unicodedata.normalize('NFKD', text).encode('ascii', 'ignore').decode('ascii')\n",
    "    return text\n",
    "\n",
    "# Normalizing names, easier than removing special chars, suggest we use the normalized name col\n",
    "df['name_normalized'] = df['name'].apply(normalize_string)\n",
    "fill_pos['name_normalized'] = fill_pos['clean_name'].apply(normalize_string)"
   ]
  },
  {
   "cell_type": "code",
   "execution_count": 15,
   "metadata": {
    "id": "hbG1C_HPI6W-"
   },
   "outputs": [],
   "source": [
    "# Create a dictionary to use for filling in missing names\n",
    "fill_pos[['name_normalized', 'scrape_position']].to_dict()\n",
    "pos_dict = pd.Series(fill_pos['scrape_position'].values, index=fill_pos['name_normalized']).to_dict()\n",
    "# Katherine note - why are these here?\n",
    "pos_dict.update({\n",
    "    'greg cunninghamm': 'DEF',\n",
    "    'muhamed besic': 'MID',\n",
    "    'zeze steven sessegnon': 'DEF',\n",
    "  }\n",
    ")"
   ]
  },
  {
   "cell_type": "code",
   "execution_count": 16,
   "metadata": {
    "id": "irIhfMuDwYb7"
   },
   "outputs": [],
   "source": [
    "# Filling nulls with a \"missing position\" tag\n",
    "df['position'] = df['position'].fillna('no_pos')\n",
    "\n",
    "# Filling missing positions using the dictionary created above\n",
    "def fill_missing_position(row):\n",
    "  if row['position'] == 'no_pos':\n",
    "    row['position'] = pos_dict.get(row['name_normalized'], \"no_position\")\n",
    "  return row\n",
    "\n",
    "df = df.apply(fill_missing_position, axis=1)"
   ]
  },
  {
   "cell_type": "code",
   "execution_count": 17,
   "metadata": {
    "colab": {
     "base_uri": "https://localhost:8080/",
     "height": 99
    },
    "id": "FzrC62JVKHio",
    "outputId": "fb64cc0f-9591-4fac-9299-1e91fffd2aa6"
   },
   "outputs": [
    {
     "data": {
      "text/html": [
       "<div>\n",
       "<style scoped>\n",
       "    .dataframe tbody tr th:only-of-type {\n",
       "        vertical-align: middle;\n",
       "    }\n",
       "\n",
       "    .dataframe tbody tr th {\n",
       "        vertical-align: top;\n",
       "    }\n",
       "\n",
       "    .dataframe thead th {\n",
       "        text-align: right;\n",
       "    }\n",
       "</style>\n",
       "<table border=\"1\" class=\"dataframe\">\n",
       "  <thead>\n",
       "    <tr style=\"text-align: right;\">\n",
       "      <th></th>\n",
       "      <th>season_x</th>\n",
       "      <th>name</th>\n",
       "      <th>position</th>\n",
       "      <th>team_x</th>\n",
       "      <th>assists</th>\n",
       "      <th>bonus</th>\n",
       "      <th>bps</th>\n",
       "      <th>clean_sheets</th>\n",
       "      <th>creativity</th>\n",
       "      <th>element</th>\n",
       "      <th>...</th>\n",
       "      <th>threat</th>\n",
       "      <th>total_points</th>\n",
       "      <th>transfers_balance</th>\n",
       "      <th>transfers_in</th>\n",
       "      <th>transfers_out</th>\n",
       "      <th>value</th>\n",
       "      <th>was_home</th>\n",
       "      <th>yellow_cards</th>\n",
       "      <th>GW</th>\n",
       "      <th>name_normalized</th>\n",
       "    </tr>\n",
       "  </thead>\n",
       "  <tbody>\n",
       "  </tbody>\n",
       "</table>\n",
       "<p>0 rows × 38 columns</p>\n",
       "</div>"
      ],
      "text/plain": [
       "Empty DataFrame\n",
       "Columns: [season_x, name, position, team_x, assists, bonus, bps, clean_sheets, creativity, element, fixture, goals_conceded, goals_scored, ict_index, influence, kickoff_time, minutes, opponent_team, opp_team_name, own_goals, penalties_missed, penalties_saved, red_cards, round, saves, selected, team_a_score, team_h_score, threat, total_points, transfers_balance, transfers_in, transfers_out, value, was_home, yellow_cards, GW, name_normalized]\n",
       "Index: []\n",
       "\n",
       "[0 rows x 38 columns]"
      ]
     },
     "execution_count": 17,
     "metadata": {},
     "output_type": "execute_result"
    }
   ],
   "source": [
    "# Validating that all players have position data - remove at the end\n",
    "df[df.position == 'no_position']"
   ]
  },
  {
   "cell_type": "markdown",
   "metadata": {},
   "source": [
    "# Cleaning GK Data"
   ]
  },
  {
   "cell_type": "code",
   "execution_count": 18,
   "metadata": {},
   "outputs": [
    {
     "data": {
      "text/html": [
       "<div>\n",
       "<style scoped>\n",
       "    .dataframe tbody tr th:only-of-type {\n",
       "        vertical-align: middle;\n",
       "    }\n",
       "\n",
       "    .dataframe tbody tr th {\n",
       "        vertical-align: top;\n",
       "    }\n",
       "\n",
       "    .dataframe thead th {\n",
       "        text-align: right;\n",
       "    }\n",
       "</style>\n",
       "<table border=\"1\" class=\"dataframe\">\n",
       "  <thead>\n",
       "    <tr style=\"text-align: right;\">\n",
       "      <th></th>\n",
       "      <th>season_x</th>\n",
       "      <th>name</th>\n",
       "      <th>position</th>\n",
       "      <th>team_x</th>\n",
       "      <th>assists</th>\n",
       "      <th>bonus</th>\n",
       "      <th>bps</th>\n",
       "      <th>clean_sheets</th>\n",
       "      <th>creativity</th>\n",
       "      <th>element</th>\n",
       "      <th>...</th>\n",
       "      <th>threat</th>\n",
       "      <th>total_points</th>\n",
       "      <th>transfers_balance</th>\n",
       "      <th>transfers_in</th>\n",
       "      <th>transfers_out</th>\n",
       "      <th>value</th>\n",
       "      <th>was_home</th>\n",
       "      <th>yellow_cards</th>\n",
       "      <th>GW</th>\n",
       "      <th>name_normalized</th>\n",
       "    </tr>\n",
       "  </thead>\n",
       "  <tbody>\n",
       "  </tbody>\n",
       "</table>\n",
       "<p>0 rows × 38 columns</p>\n",
       "</div>"
      ],
      "text/plain": [
       "Empty DataFrame\n",
       "Columns: [season_x, name, position, team_x, assists, bonus, bps, clean_sheets, creativity, element, fixture, goals_conceded, goals_scored, ict_index, influence, kickoff_time, minutes, opponent_team, opp_team_name, own_goals, penalties_missed, penalties_saved, red_cards, round, saves, selected, team_a_score, team_h_score, threat, total_points, transfers_balance, transfers_in, transfers_out, value, was_home, yellow_cards, GW, name_normalized]\n",
       "Index: []\n",
       "\n",
       "[0 rows x 38 columns]"
      ]
     },
     "execution_count": 18,
     "metadata": {},
     "output_type": "execute_result"
    }
   ],
   "source": [
    "# Cleaning up GK positions\n",
    "df.loc[ df['position'] == 'GKP', 'position'] = 'GK'\n",
    "df[df.position == 'GKP']"
   ]
  },
  {
   "cell_type": "code",
   "execution_count": 19,
   "metadata": {},
   "outputs": [
    {
     "data": {
      "text/plain": [
       "Index(['season_x', 'name', 'position', 'team_x', 'assists', 'bonus', 'bps',\n",
       "       'clean_sheets', 'creativity', 'element', 'fixture', 'goals_conceded',\n",
       "       'goals_scored', 'ict_index', 'influence', 'kickoff_time', 'minutes',\n",
       "       'opponent_team', 'opp_team_name', 'own_goals', 'penalties_missed',\n",
       "       'penalties_saved', 'red_cards', 'round', 'saves', 'selected',\n",
       "       'team_a_score', 'team_h_score', 'threat', 'total_points',\n",
       "       'transfers_balance', 'transfers_in', 'transfers_out', 'value',\n",
       "       'was_home', 'yellow_cards', 'GW', 'name_normalized'],\n",
       "      dtype='object')"
      ]
     },
     "execution_count": 19,
     "metadata": {},
     "output_type": "execute_result"
    }
   ],
   "source": [
    "df.columns"
   ]
  },
  {
   "cell_type": "markdown",
   "metadata": {
    "id": "7weZdn3nEAnQ"
   },
   "source": [
    "# Renaming messy variables"
   ]
  },
  {
   "cell_type": "code",
   "execution_count": 20,
   "metadata": {
    "id": "a543AdOsEABc"
   },
   "outputs": [],
   "source": [
    "df.rename(columns={\"season_x\": \"season\", \"name\": \"player_name\", \"team_x\": \"player_team_name\", \"opponent_team\": \"opp_team_id\", 'position_x':'position'}, inplace=True)"
   ]
  },
  {
   "cell_type": "markdown",
   "metadata": {
    "id": "Mm5Rzwx-nyHI"
   },
   "source": [
    "# Adding missing opponent team names"
   ]
  },
  {
   "cell_type": "code",
   "execution_count": 21,
   "metadata": {
    "id": "N2AnbiuM358_"
   },
   "outputs": [],
   "source": [
    "# Merging in team info - joins opponent team name (team_name) based on opp_team_id, which is populated in the seasons missing opponent team name\n",
    "df = df.merge(teams, how='left', left_on=['season','opp_team_id'], right_on=['season','team'])\n",
    "\n",
    "# Dropping unnecessary columns\n",
    "df.drop(columns=['team','opp_team_name'], inplace=True)\n",
    "\n",
    "# Renaming opponent team name column\n",
    "df.rename(columns={\"team_name\": \"opp_team_name\"}, inplace=True)"
   ]
  },
  {
   "cell_type": "markdown",
   "metadata": {
    "id": "8V44HsrqBkqZ"
   },
   "source": [
    "# Adding opponent difficulty column"
   ]
  },
  {
   "cell_type": "code",
   "execution_count": 22,
   "metadata": {
    "id": "eUUTosdaBhKB"
   },
   "outputs": [],
   "source": [
    "# Importing difficulty data\n",
    "difficulty_data = pd.read_csv('data/team_difficulty_ind.csv')"
   ]
  },
  {
   "cell_type": "code",
   "execution_count": 23,
   "metadata": {
    "id": "8TqwrCHr7V9y"
   },
   "outputs": [],
   "source": [
    "# Joining difficulty data to ours\n",
    "df = df.merge(difficulty_data, how='left', left_on='opp_team_name', right_on='team_name').drop(columns = ['team_name'])\n",
    "\n",
    "# Renaming the opponent difficulty column\n",
    "df.rename(columns={\"FDI\": \"opp_diff_ind\"}, inplace=True)"
   ]
  },
  {
   "cell_type": "markdown",
   "metadata": {
    "id": "e77TYgwnpY9k"
   },
   "source": [
    "# Dropping columns we don't plan to use"
   ]
  },
  {
   "cell_type": "code",
   "execution_count": 24,
   "metadata": {
    "id": "kaXwD13MpYJc"
   },
   "outputs": [],
   "source": [
    "df.drop(columns=['element', 'fixture', 'transfers_balance','transfers_in' ,'transfers_out'], inplace=True)"
   ]
  },
  {
   "cell_type": "markdown",
   "metadata": {
    "id": "YnjsCtrxFvd2"
   },
   "source": [
    "# Transforming the \"away and home team score\" columns into a more usable form (player team and opponent team score)"
   ]
  },
  {
   "cell_type": "code",
   "execution_count": 25,
   "metadata": {
    "id": "1CgsSoNLFuqk"
   },
   "outputs": [],
   "source": [
    "# Need two new columns: player_team_score and opp_team_score. Populated from team_a_score and team_h_score based on was_home flag\n",
    "df['player_team_score'] = np.where(df['was_home'] == True, df['team_h_score'], df['team_a_score'])\n",
    "df['opp_team_score'] = np.where(df['was_home'] == True, df['team_a_score'], df['team_h_score'])\n",
    "\n",
    "# Drop team_a_score and team_h_score once we have these two columns\n",
    "df.drop(columns=['team_a_score','team_h_score'], inplace=True)"
   ]
  },
  {
   "cell_type": "markdown",
   "metadata": {},
   "source": [
    "# Clean Data from Covid Affected Season"
   ]
  },
  {
   "cell_type": "code",
   "execution_count": 26,
   "metadata": {},
   "outputs": [],
   "source": [
    "# Adjust GW 2019-20 for COVID affected Gameweeks (GW 30+) to convert to 38 GW season\n",
    "\n",
    "# Update the GW values for the 2019-20 season\n",
    "df.loc[(df['season'] == '2019-20') & (df['GW'].isin(range(39, 48))), 'GW'] = df['GW'] - 9"
   ]
  },
  {
   "cell_type": "code",
   "execution_count": 27,
   "metadata": {
    "colab": {
     "base_uri": "https://localhost:8080/",
     "height": 245
    },
    "id": "u-4KU5YGgzSC",
    "outputId": "d709f500-dca4-4351-aa4b-706badbd6d12"
   },
   "outputs": [
    {
     "data": {
      "text/html": [
       "<div>\n",
       "<style scoped>\n",
       "    .dataframe tbody tr th:only-of-type {\n",
       "        vertical-align: middle;\n",
       "    }\n",
       "\n",
       "    .dataframe tbody tr th {\n",
       "        vertical-align: top;\n",
       "    }\n",
       "\n",
       "    .dataframe thead th {\n",
       "        text-align: right;\n",
       "    }\n",
       "</style>\n",
       "<table border=\"1\" class=\"dataframe\">\n",
       "  <thead>\n",
       "    <tr style=\"text-align: right;\">\n",
       "      <th></th>\n",
       "      <th>season</th>\n",
       "      <th>player_name</th>\n",
       "      <th>position</th>\n",
       "      <th>player_team_name</th>\n",
       "      <th>assists</th>\n",
       "      <th>bonus</th>\n",
       "      <th>bps</th>\n",
       "      <th>clean_sheets</th>\n",
       "      <th>creativity</th>\n",
       "      <th>goals_conceded</th>\n",
       "      <th>...</th>\n",
       "      <th>total_points</th>\n",
       "      <th>value</th>\n",
       "      <th>was_home</th>\n",
       "      <th>yellow_cards</th>\n",
       "      <th>GW</th>\n",
       "      <th>name_normalized</th>\n",
       "      <th>opp_team_name</th>\n",
       "      <th>opp_diff_ind</th>\n",
       "      <th>player_team_score</th>\n",
       "      <th>opp_team_score</th>\n",
       "    </tr>\n",
       "  </thead>\n",
       "  <tbody>\n",
       "    <tr>\n",
       "      <th>70237</th>\n",
       "      <td>2022-23</td>\n",
       "      <td>Nathan Redmond</td>\n",
       "      <td>MID</td>\n",
       "      <td>Southampton</td>\n",
       "      <td>0</td>\n",
       "      <td>0</td>\n",
       "      <td>0</td>\n",
       "      <td>0</td>\n",
       "      <td>0.0</td>\n",
       "      <td>0</td>\n",
       "      <td>...</td>\n",
       "      <td>0</td>\n",
       "      <td>55</td>\n",
       "      <td>True</td>\n",
       "      <td>0</td>\n",
       "      <td>2</td>\n",
       "      <td>nathan redmond</td>\n",
       "      <td>Leeds</td>\n",
       "      <td>1</td>\n",
       "      <td>2.0</td>\n",
       "      <td>2.0</td>\n",
       "    </tr>\n",
       "    <tr>\n",
       "      <th>70238</th>\n",
       "      <td>2022-23</td>\n",
       "      <td>Junior Stanislas</td>\n",
       "      <td>MID</td>\n",
       "      <td>Bournemouth</td>\n",
       "      <td>0</td>\n",
       "      <td>0</td>\n",
       "      <td>2</td>\n",
       "      <td>0</td>\n",
       "      <td>0.3</td>\n",
       "      <td>1</td>\n",
       "      <td>...</td>\n",
       "      <td>1</td>\n",
       "      <td>50</td>\n",
       "      <td>False</td>\n",
       "      <td>0</td>\n",
       "      <td>2</td>\n",
       "      <td>junior stanislas</td>\n",
       "      <td>Man City</td>\n",
       "      <td>4</td>\n",
       "      <td>0.0</td>\n",
       "      <td>4.0</td>\n",
       "    </tr>\n",
       "    <tr>\n",
       "      <th>70239</th>\n",
       "      <td>2022-23</td>\n",
       "      <td>Armando Broja</td>\n",
       "      <td>FWD</td>\n",
       "      <td>Chelsea</td>\n",
       "      <td>0</td>\n",
       "      <td>0</td>\n",
       "      <td>3</td>\n",
       "      <td>0</td>\n",
       "      <td>0.0</td>\n",
       "      <td>1</td>\n",
       "      <td>...</td>\n",
       "      <td>1</td>\n",
       "      <td>55</td>\n",
       "      <td>True</td>\n",
       "      <td>0</td>\n",
       "      <td>2</td>\n",
       "      <td>armando broja</td>\n",
       "      <td>Spurs</td>\n",
       "      <td>3</td>\n",
       "      <td>2.0</td>\n",
       "      <td>2.0</td>\n",
       "    </tr>\n",
       "  </tbody>\n",
       "</table>\n",
       "<p>3 rows × 34 columns</p>\n",
       "</div>"
      ],
      "text/plain": [
       "        season       player_name position player_team_name  assists  bonus  \\\n",
       "70237  2022-23    Nathan Redmond      MID      Southampton        0      0   \n",
       "70238  2022-23  Junior Stanislas      MID      Bournemouth        0      0   \n",
       "70239  2022-23     Armando Broja      FWD          Chelsea        0      0   \n",
       "\n",
       "       bps  clean_sheets  creativity  goals_conceded  ...  total_points  \\\n",
       "70237    0             0         0.0               0  ...             0   \n",
       "70238    2             0         0.3               1  ...             1   \n",
       "70239    3             0         0.0               1  ...             1   \n",
       "\n",
       "       value  was_home yellow_cards  GW   name_normalized  opp_team_name  \\\n",
       "70237     55      True            0   2    nathan redmond          Leeds   \n",
       "70238     50     False            0   2  junior stanislas       Man City   \n",
       "70239     55      True            0   2     armando broja          Spurs   \n",
       "\n",
       "       opp_diff_ind  player_team_score  opp_team_score  \n",
       "70237             1                2.0             2.0  \n",
       "70238             4                0.0             4.0  \n",
       "70239             3                2.0             2.0  \n",
       "\n",
       "[3 rows x 34 columns]"
      ]
     },
     "execution_count": 27,
     "metadata": {},
     "output_type": "execute_result"
    }
   ],
   "source": [
    "# Random testing of season/gw sequencing - remove at the end\n",
    "df.loc[(df.season == '2022-23') & (df.GW == 2)].head(3)"
   ]
  },
  {
   "cell_type": "code",
   "execution_count": 28,
   "metadata": {
    "colab": {
     "base_uri": "https://localhost:8080/",
     "height": 245
    },
    "id": "D4_BGLTfTNVX",
    "outputId": "e10eda87-e3b1-469c-d485-30c12e2bfad0"
   },
   "outputs": [
    {
     "data": {
      "text/html": [
       "<div>\n",
       "<style scoped>\n",
       "    .dataframe tbody tr th:only-of-type {\n",
       "        vertical-align: middle;\n",
       "    }\n",
       "\n",
       "    .dataframe tbody tr th {\n",
       "        vertical-align: top;\n",
       "    }\n",
       "\n",
       "    .dataframe thead th {\n",
       "        text-align: right;\n",
       "    }\n",
       "</style>\n",
       "<table border=\"1\" class=\"dataframe\">\n",
       "  <thead>\n",
       "    <tr style=\"text-align: right;\">\n",
       "      <th></th>\n",
       "      <th>season</th>\n",
       "      <th>player_name</th>\n",
       "      <th>position</th>\n",
       "      <th>player_team_name</th>\n",
       "      <th>assists</th>\n",
       "      <th>bonus</th>\n",
       "      <th>bps</th>\n",
       "      <th>clean_sheets</th>\n",
       "      <th>creativity</th>\n",
       "      <th>goals_conceded</th>\n",
       "      <th>...</th>\n",
       "      <th>total_points</th>\n",
       "      <th>value</th>\n",
       "      <th>was_home</th>\n",
       "      <th>yellow_cards</th>\n",
       "      <th>GW</th>\n",
       "      <th>name_normalized</th>\n",
       "      <th>opp_team_name</th>\n",
       "      <th>opp_diff_ind</th>\n",
       "      <th>player_team_score</th>\n",
       "      <th>opp_team_score</th>\n",
       "    </tr>\n",
       "  </thead>\n",
       "  <tbody>\n",
       "    <tr>\n",
       "      <th>113049</th>\n",
       "      <td>2018-19</td>\n",
       "      <td>Zeze Steven Sessegnon</td>\n",
       "      <td>DEF</td>\n",
       "      <td>Fulham</td>\n",
       "      <td>0</td>\n",
       "      <td>0</td>\n",
       "      <td>0</td>\n",
       "      <td>0</td>\n",
       "      <td>0.0</td>\n",
       "      <td>0</td>\n",
       "      <td>...</td>\n",
       "      <td>0</td>\n",
       "      <td>40</td>\n",
       "      <td>False</td>\n",
       "      <td>0</td>\n",
       "      <td>30</td>\n",
       "      <td>zeze steven sessegnon</td>\n",
       "      <td>Leicester</td>\n",
       "      <td>2</td>\n",
       "      <td>1.0</td>\n",
       "      <td>3.0</td>\n",
       "    </tr>\n",
       "    <tr>\n",
       "      <th>113050</th>\n",
       "      <td>2018-19</td>\n",
       "      <td>Álvaro Morata</td>\n",
       "      <td>FWD</td>\n",
       "      <td>Chelsea</td>\n",
       "      <td>0</td>\n",
       "      <td>0</td>\n",
       "      <td>0</td>\n",
       "      <td>0</td>\n",
       "      <td>0.0</td>\n",
       "      <td>0</td>\n",
       "      <td>...</td>\n",
       "      <td>0</td>\n",
       "      <td>84</td>\n",
       "      <td>True</td>\n",
       "      <td>0</td>\n",
       "      <td>30</td>\n",
       "      <td>alvaro morata</td>\n",
       "      <td>Wolves</td>\n",
       "      <td>2</td>\n",
       "      <td>1.0</td>\n",
       "      <td>1.0</td>\n",
       "    </tr>\n",
       "    <tr>\n",
       "      <th>113051</th>\n",
       "      <td>2018-19</td>\n",
       "      <td>Çaglar Söyüncü</td>\n",
       "      <td>DEF</td>\n",
       "      <td>Leicester</td>\n",
       "      <td>0</td>\n",
       "      <td>0</td>\n",
       "      <td>0</td>\n",
       "      <td>0</td>\n",
       "      <td>0.0</td>\n",
       "      <td>0</td>\n",
       "      <td>...</td>\n",
       "      <td>0</td>\n",
       "      <td>49</td>\n",
       "      <td>True</td>\n",
       "      <td>0</td>\n",
       "      <td>30</td>\n",
       "      <td>caglar soyuncu</td>\n",
       "      <td>Fulham</td>\n",
       "      <td>1</td>\n",
       "      <td>3.0</td>\n",
       "      <td>1.0</td>\n",
       "    </tr>\n",
       "  </tbody>\n",
       "</table>\n",
       "<p>3 rows × 34 columns</p>\n",
       "</div>"
      ],
      "text/plain": [
       "         season            player_name position player_team_name  assists  \\\n",
       "113049  2018-19  Zeze Steven Sessegnon      DEF           Fulham        0   \n",
       "113050  2018-19          Álvaro Morata      FWD          Chelsea        0   \n",
       "113051  2018-19         Çaglar Söyüncü      DEF        Leicester        0   \n",
       "\n",
       "        bonus  bps  clean_sheets  creativity  goals_conceded  ...  \\\n",
       "113049      0    0             0         0.0               0  ...   \n",
       "113050      0    0             0         0.0               0  ...   \n",
       "113051      0    0             0         0.0               0  ...   \n",
       "\n",
       "        total_points  value  was_home yellow_cards  GW        name_normalized  \\\n",
       "113049             0     40     False            0  30  zeze steven sessegnon   \n",
       "113050             0     84      True            0  30          alvaro morata   \n",
       "113051             0     49      True            0  30         caglar soyuncu   \n",
       "\n",
       "        opp_team_name  opp_diff_ind  player_team_score  opp_team_score  \n",
       "113049      Leicester             2                1.0             3.0  \n",
       "113050         Wolves             2                1.0             1.0  \n",
       "113051         Fulham             1                3.0             1.0  \n",
       "\n",
       "[3 rows x 34 columns]"
      ]
     },
     "execution_count": 28,
     "metadata": {},
     "output_type": "execute_result"
    }
   ],
   "source": [
    "df.loc[(df.season == '2018-19') & (df.GW == 30)].tail(3) # Remove at the end"
   ]
  },
  {
   "cell_type": "markdown",
   "metadata": {
    "id": "TIg0-oewBjq7"
   },
   "source": [
    "# Making lagged average columns"
   ]
  },
  {
   "cell_type": "code",
   "execution_count": 29,
   "metadata": {
    "id": "Pga6mB6YBg0p"
   },
   "outputs": [],
   "source": [
    "# Function to make a DF with lagged features; can input features to lag and number of weeks to lag them\n",
    "def create_lagged_features(df, lag_columns, lag_weeks=3):\n",
    "    # Function to calculate lagged features for a given player and season\n",
    "    def calculate_lags(player_df):\n",
    "        player_df = player_df.sort_values('GW')\n",
    "        for col in lag_columns:\n",
    "            player_df[f'{col}_lag_{lag_weeks}'] = player_df[col].rolling(window=lag_weeks, min_periods=1).mean().shift()\n",
    "        return player_df\n",
    "\n",
    "    lagged_df = df.groupby(['season', 'player_name']).apply(calculate_lags).reset_index(drop=True)\n",
    "\n",
    "    return lagged_df"
   ]
  },
  {
   "cell_type": "code",
   "execution_count": 30,
   "metadata": {
    "id": "F1VxUInZDe6U"
   },
   "outputs": [],
   "source": [
    "# Columns that we want to lag\n",
    "lag_columns = ['assists', 'bonus', 'bps', 'clean_sheets', 'creativity',\n",
    "               'goals_conceded','goals_scored', 'ict_index', 'influence',\n",
    "               'minutes', 'own_goals', 'penalties_missed', 'penalties_saved',\n",
    "               'red_cards', 'saves', 'selected','player_team_score', 'opp_team_score',\n",
    "               'threat', 'total_points', 'value', 'yellow_cards']\n",
    "\n",
    "# Excluding was_home and opp_diff_ind as these are categorical"
   ]
  },
  {
   "cell_type": "code",
   "execution_count": 31,
   "metadata": {
    "id": "d0sHQpgUq6DM"
   },
   "outputs": [],
   "source": [
    "# Creating one week lag - will take ~1 minute\n",
    "lagged_df = create_lagged_features(df, lag_columns, lag_weeks = 1)\n",
    "lagged_df = lagged_df.fillna(0)\n",
    "\n",
    "# Replacing current DF with the lagged DF since it includes all of our columns and more\n",
    "df = lagged_df"
   ]
  },
  {
   "cell_type": "code",
   "execution_count": 32,
   "metadata": {
    "id": "N8fVthqlqNPd"
   },
   "outputs": [],
   "source": [
    "# Creating three week lag - will take ~1 minute\n",
    "lagged_df_three_wk = create_lagged_features(df, lag_columns, lag_weeks = 3)\n",
    "lagged_df_three_wk = lagged_df_three_wk.fillna(0)\n",
    "\n",
    "# Replacing current DF with the lagged DF since it includes all of our columns and more\n",
    "df = lagged_df_three_wk"
   ]
  },
  {
   "cell_type": "code",
   "execution_count": 33,
   "metadata": {
    "id": "5Fe4uOCsxGiw"
   },
   "outputs": [],
   "source": [
    "# Creating five week lag - will take ~1 minute\n",
    "lagged_df_five_wk = create_lagged_features(df, lag_columns, lag_weeks = 5)\n",
    "lagged_df_five_wk = lagged_df_five_wk.fillna(0)\n",
    "\n",
    "# Replacing current DF with the lagged DF since it includes all of our columns and more\n",
    "df = lagged_df_five_wk"
   ]
  },
  {
   "cell_type": "markdown",
   "metadata": {
    "id": "WQu27rZqfGRC"
   },
   "source": [
    "# Sequence data by season + game week"
   ]
  },
  {
   "cell_type": "code",
   "execution_count": 34,
   "metadata": {
    "colab": {
     "base_uri": "https://localhost:8080/"
    },
    "id": "Q2fjPTnk8kNE",
    "outputId": "e8ae54f6-ffa6-40d4-a037-2cad46375067"
   },
   "outputs": [
    {
     "data": {
      "text/html": [
       "<div>\n",
       "<style scoped>\n",
       "    .dataframe tbody tr th:only-of-type {\n",
       "        vertical-align: middle;\n",
       "    }\n",
       "\n",
       "    .dataframe tbody tr th {\n",
       "        vertical-align: top;\n",
       "    }\n",
       "\n",
       "    .dataframe thead th {\n",
       "        text-align: right;\n",
       "    }\n",
       "</style>\n",
       "<table border=\"1\" class=\"dataframe\">\n",
       "  <thead>\n",
       "    <tr style=\"text-align: right;\">\n",
       "      <th></th>\n",
       "      <th>season</th>\n",
       "      <th>player_name</th>\n",
       "      <th>position</th>\n",
       "      <th>player_team_name</th>\n",
       "      <th>assists</th>\n",
       "      <th>bonus</th>\n",
       "      <th>bps</th>\n",
       "      <th>clean_sheets</th>\n",
       "      <th>creativity</th>\n",
       "      <th>goals_conceded</th>\n",
       "      <th>...</th>\n",
       "      <th>penalties_saved_lag_5</th>\n",
       "      <th>red_cards_lag_5</th>\n",
       "      <th>saves_lag_5</th>\n",
       "      <th>selected_lag_5</th>\n",
       "      <th>player_team_score_lag_5</th>\n",
       "      <th>opp_team_score_lag_5</th>\n",
       "      <th>threat_lag_5</th>\n",
       "      <th>total_points_lag_5</th>\n",
       "      <th>value_lag_5</th>\n",
       "      <th>yellow_cards_lag_5</th>\n",
       "    </tr>\n",
       "  </thead>\n",
       "  <tbody>\n",
       "    <tr>\n",
       "      <th>0</th>\n",
       "      <td>2016-17</td>\n",
       "      <td>Aaron Cresswell</td>\n",
       "      <td>DEF</td>\n",
       "      <td>West Ham</td>\n",
       "      <td>0</td>\n",
       "      <td>0</td>\n",
       "      <td>0</td>\n",
       "      <td>0</td>\n",
       "      <td>0.0</td>\n",
       "      <td>0</td>\n",
       "      <td>...</td>\n",
       "      <td>0.0</td>\n",
       "      <td>0.0</td>\n",
       "      <td>0.0</td>\n",
       "      <td>0.000000</td>\n",
       "      <td>0.00</td>\n",
       "      <td>0.000000</td>\n",
       "      <td>0.0</td>\n",
       "      <td>0.0</td>\n",
       "      <td>0.000000</td>\n",
       "      <td>0.0</td>\n",
       "    </tr>\n",
       "    <tr>\n",
       "      <th>1</th>\n",
       "      <td>2016-17</td>\n",
       "      <td>Aaron Cresswell</td>\n",
       "      <td>DEF</td>\n",
       "      <td>West Ham</td>\n",
       "      <td>0</td>\n",
       "      <td>0</td>\n",
       "      <td>0</td>\n",
       "      <td>0</td>\n",
       "      <td>0.0</td>\n",
       "      <td>0</td>\n",
       "      <td>...</td>\n",
       "      <td>0.0</td>\n",
       "      <td>0.0</td>\n",
       "      <td>0.0</td>\n",
       "      <td>14023.000000</td>\n",
       "      <td>1.00</td>\n",
       "      <td>2.000000</td>\n",
       "      <td>0.0</td>\n",
       "      <td>0.0</td>\n",
       "      <td>55.000000</td>\n",
       "      <td>0.0</td>\n",
       "    </tr>\n",
       "    <tr>\n",
       "      <th>2</th>\n",
       "      <td>2016-17</td>\n",
       "      <td>Aaron Cresswell</td>\n",
       "      <td>DEF</td>\n",
       "      <td>West Ham</td>\n",
       "      <td>0</td>\n",
       "      <td>0</td>\n",
       "      <td>0</td>\n",
       "      <td>0</td>\n",
       "      <td>0.0</td>\n",
       "      <td>0</td>\n",
       "      <td>...</td>\n",
       "      <td>0.0</td>\n",
       "      <td>0.0</td>\n",
       "      <td>0.0</td>\n",
       "      <td>12777.000000</td>\n",
       "      <td>1.00</td>\n",
       "      <td>1.000000</td>\n",
       "      <td>0.0</td>\n",
       "      <td>0.0</td>\n",
       "      <td>55.000000</td>\n",
       "      <td>0.0</td>\n",
       "    </tr>\n",
       "    <tr>\n",
       "      <th>3</th>\n",
       "      <td>2016-17</td>\n",
       "      <td>Aaron Cresswell</td>\n",
       "      <td>DEF</td>\n",
       "      <td>West Ham</td>\n",
       "      <td>0</td>\n",
       "      <td>0</td>\n",
       "      <td>0</td>\n",
       "      <td>0</td>\n",
       "      <td>0.0</td>\n",
       "      <td>0</td>\n",
       "      <td>...</td>\n",
       "      <td>0.0</td>\n",
       "      <td>0.0</td>\n",
       "      <td>0.0</td>\n",
       "      <td>11713.666667</td>\n",
       "      <td>1.00</td>\n",
       "      <td>1.666667</td>\n",
       "      <td>0.0</td>\n",
       "      <td>0.0</td>\n",
       "      <td>54.666667</td>\n",
       "      <td>0.0</td>\n",
       "    </tr>\n",
       "    <tr>\n",
       "      <th>4</th>\n",
       "      <td>2016-17</td>\n",
       "      <td>Aaron Cresswell</td>\n",
       "      <td>DEF</td>\n",
       "      <td>West Ham</td>\n",
       "      <td>0</td>\n",
       "      <td>0</td>\n",
       "      <td>0</td>\n",
       "      <td>0</td>\n",
       "      <td>0.0</td>\n",
       "      <td>0</td>\n",
       "      <td>...</td>\n",
       "      <td>0.0</td>\n",
       "      <td>0.0</td>\n",
       "      <td>0.0</td>\n",
       "      <td>10892.000000</td>\n",
       "      <td>1.25</td>\n",
       "      <td>2.250000</td>\n",
       "      <td>0.0</td>\n",
       "      <td>0.0</td>\n",
       "      <td>54.500000</td>\n",
       "      <td>0.0</td>\n",
       "    </tr>\n",
       "  </tbody>\n",
       "</table>\n",
       "<p>5 rows × 100 columns</p>\n",
       "</div>"
      ],
      "text/plain": [
       "    season      player_name position player_team_name  assists  bonus  bps  \\\n",
       "0  2016-17  Aaron Cresswell      DEF         West Ham        0      0    0   \n",
       "1  2016-17  Aaron Cresswell      DEF         West Ham        0      0    0   \n",
       "2  2016-17  Aaron Cresswell      DEF         West Ham        0      0    0   \n",
       "3  2016-17  Aaron Cresswell      DEF         West Ham        0      0    0   \n",
       "4  2016-17  Aaron Cresswell      DEF         West Ham        0      0    0   \n",
       "\n",
       "   clean_sheets  creativity  goals_conceded  ...  penalties_saved_lag_5  \\\n",
       "0             0         0.0               0  ...                    0.0   \n",
       "1             0         0.0               0  ...                    0.0   \n",
       "2             0         0.0               0  ...                    0.0   \n",
       "3             0         0.0               0  ...                    0.0   \n",
       "4             0         0.0               0  ...                    0.0   \n",
       "\n",
       "   red_cards_lag_5  saves_lag_5 selected_lag_5  player_team_score_lag_5  \\\n",
       "0              0.0          0.0       0.000000                     0.00   \n",
       "1              0.0          0.0   14023.000000                     1.00   \n",
       "2              0.0          0.0   12777.000000                     1.00   \n",
       "3              0.0          0.0   11713.666667                     1.00   \n",
       "4              0.0          0.0   10892.000000                     1.25   \n",
       "\n",
       "   opp_team_score_lag_5  threat_lag_5  total_points_lag_5  value_lag_5  \\\n",
       "0              0.000000           0.0                 0.0     0.000000   \n",
       "1              2.000000           0.0                 0.0    55.000000   \n",
       "2              1.000000           0.0                 0.0    55.000000   \n",
       "3              1.666667           0.0                 0.0    54.666667   \n",
       "4              2.250000           0.0                 0.0    54.500000   \n",
       "\n",
       "   yellow_cards_lag_5  \n",
       "0                 0.0  \n",
       "1                 0.0  \n",
       "2                 0.0  \n",
       "3                 0.0  \n",
       "4                 0.0  \n",
       "\n",
       "[5 rows x 100 columns]"
      ]
     },
     "execution_count": 34,
     "metadata": {},
     "output_type": "execute_result"
    }
   ],
   "source": [
    "df.head()"
   ]
  },
  {
   "cell_type": "code",
   "execution_count": 35,
   "metadata": {
    "id": "sn2QTJTMfGfz"
   },
   "outputs": [],
   "source": [
    "df = df.sort_values(['season','player_name','GW'])"
   ]
  },
  {
   "cell_type": "markdown",
   "metadata": {},
   "source": [
    "# Create two test teams for analysis of models"
   ]
  },
  {
   "cell_type": "code",
   "execution_count": 36,
   "metadata": {},
   "outputs": [
    {
     "data": {
      "text/plain": [
       "array(['West Ham', 'Everton', 'Bournemouth', 'Arsenal', 'Crystal Palace',\n",
       "       'Watford', 'Middlesbrough', 'Liverpool', 'Southampton', 'Swansea',\n",
       "       'Burnley', 'Man Utd', 'Hull', 'Man City', 'Spurs', 'West Brom',\n",
       "       'Leicester', 'Chelsea', 'Stoke', 'Sunderland', 'Huddersfield',\n",
       "       'Brighton', 'Newcastle', 'Fulham', 'Wolves', 'Cardiff', 'Norwich',\n",
       "       'Aston Villa', 'Sheffield Utd', 'Leeds', 'Brentford',\n",
       "       \"Nott'm Forest\"], dtype=object)"
      ]
     },
     "execution_count": 36,
     "metadata": {},
     "output_type": "execute_result"
    }
   ],
   "source": [
    "df['player_team_name'].unique()"
   ]
  },
  {
   "cell_type": "code",
   "execution_count": 37,
   "metadata": {
    "id": "Nl5RJRkvX8fe"
   },
   "outputs": [],
   "source": [
    "df_man_city = df[(df['season'] == '2022-23') & (df['player_team_name'] == 'Man City')]\n",
    "df_brighton = df[(df['season'] == '2022-23') & (df['player_team_name'] == 'Brighton')]"
   ]
  },
  {
   "cell_type": "markdown",
   "metadata": {
    "id": "j_8ySN7rezxs"
   },
   "source": [
    "# Splitting into minutes DF and overall DF"
   ]
  },
  {
   "cell_type": "code",
   "execution_count": 38,
   "metadata": {
    "id": "gfUmODMEezxt"
   },
   "outputs": [],
   "source": [
    "# Katherine note - commenting this out for now in case we want to do this in the modeling notebooks, but it's easy to add back in\n",
    "\n",
    "# minutes = df[df['minutes'] > 0]\n",
    "# After this, minutes is a DF with only players who played and df is a DF with all players (regardless of minutes)"
   ]
  },
  {
   "cell_type": "markdown",
   "metadata": {
    "id": "ZhqroJAI5CUd"
   },
   "source": [
    "# Dropping columns we won't use"
   ]
  },
  {
   "cell_type": "code",
   "execution_count": 39,
   "metadata": {
    "id": "ARnVeAwpLjOV"
   },
   "outputs": [],
   "source": [
    "# We don't have to do this; could do it in modeling notebooks. But I (Katherine) think this'll be cleaner\n",
    "\n",
    "# Dropping columns that aren't useful\n",
    "df.drop(columns=['player_name', 'kickoff_time', 'opp_team_id', 'round'], inplace=True) # Sequence is coming from Hisham's code - if we drop that section, we need to remove the column from this line"
   ]
  },
  {
   "cell_type": "code",
   "execution_count": 40,
   "metadata": {
    "id": "nhmnxEtn5CbL"
   },
   "outputs": [],
   "source": [
    "# Dropping all unlagged continuous columns except the target\n",
    "lag_columns.remove('total_points')\n",
    "\n",
    "df.drop(columns=lag_columns, inplace=True)"
   ]
  },
  {
   "cell_type": "markdown",
   "metadata": {},
   "source": [
    "# Update two test use cases "
   ]
  },
  {
   "cell_type": "code",
   "execution_count": 41,
   "metadata": {},
   "outputs": [
    {
     "name": "stderr",
     "output_type": "stream",
     "text": [
      "/var/folders/yc/p4crn8cj0tz82_rx5_032qvw0000gn/T/ipykernel_41066/279572912.py:1: SettingWithCopyWarning: \n",
      "A value is trying to be set on a copy of a slice from a DataFrame\n",
      "\n",
      "See the caveats in the documentation: https://pandas.pydata.org/pandas-docs/stable/user_guide/indexing.html#returning-a-view-versus-a-copy\n",
      "  df_brighton.drop(columns=['kickoff_time', 'opp_team_id', 'round'], inplace=True)\n",
      "/var/folders/yc/p4crn8cj0tz82_rx5_032qvw0000gn/T/ipykernel_41066/279572912.py:2: SettingWithCopyWarning: \n",
      "A value is trying to be set on a copy of a slice from a DataFrame\n",
      "\n",
      "See the caveats in the documentation: https://pandas.pydata.org/pandas-docs/stable/user_guide/indexing.html#returning-a-view-versus-a-copy\n",
      "  df_man_city.drop(columns=['kickoff_time', 'opp_team_id', 'round'], inplace=True)\n",
      "/var/folders/yc/p4crn8cj0tz82_rx5_032qvw0000gn/T/ipykernel_41066/279572912.py:3: SettingWithCopyWarning: \n",
      "A value is trying to be set on a copy of a slice from a DataFrame\n",
      "\n",
      "See the caveats in the documentation: https://pandas.pydata.org/pandas-docs/stable/user_guide/indexing.html#returning-a-view-versus-a-copy\n",
      "  df_brighton.drop(columns=lag_columns, inplace=True)\n",
      "/var/folders/yc/p4crn8cj0tz82_rx5_032qvw0000gn/T/ipykernel_41066/279572912.py:4: SettingWithCopyWarning: \n",
      "A value is trying to be set on a copy of a slice from a DataFrame\n",
      "\n",
      "See the caveats in the documentation: https://pandas.pydata.org/pandas-docs/stable/user_guide/indexing.html#returning-a-view-versus-a-copy\n",
      "  df_man_city.drop(columns=lag_columns, inplace=True)\n"
     ]
    }
   ],
   "source": [
    "df_brighton.drop(columns=['kickoff_time', 'opp_team_id', 'round'], inplace=True)\n",
    "df_man_city.drop(columns=['kickoff_time', 'opp_team_id', 'round'], inplace=True)\n",
    "df_brighton.drop(columns=lag_columns, inplace=True)\n",
    "df_man_city.drop(columns=lag_columns, inplace=True)"
   ]
  },
  {
   "cell_type": "markdown",
   "metadata": {
    "id": "xHh4Jyf1UPxp"
   },
   "source": [
    "# Split data into train/validation/test"
   ]
  },
  {
   "cell_type": "code",
   "execution_count": 42,
   "metadata": {
    "id": "hf-fhf_rUP4w"
   },
   "outputs": [
    {
     "name": "stderr",
     "output_type": "stream",
     "text": [
      "/var/folders/yc/p4crn8cj0tz82_rx5_032qvw0000gn/T/ipykernel_41066/3022688849.py:4: SettingWithCopyWarning: \n",
      "A value is trying to be set on a copy of a slice from a DataFrame\n",
      "\n",
      "See the caveats in the documentation: https://pandas.pydata.org/pandas-docs/stable/user_guide/indexing.html#returning-a-view-versus-a-copy\n",
      "  X_train_init.drop(columns=['total_points'], inplace=True)\n",
      "/var/folders/yc/p4crn8cj0tz82_rx5_032qvw0000gn/T/ipykernel_41066/3022688849.py:10: SettingWithCopyWarning: \n",
      "A value is trying to be set on a copy of a slice from a DataFrame\n",
      "\n",
      "See the caveats in the documentation: https://pandas.pydata.org/pandas-docs/stable/user_guide/indexing.html#returning-a-view-versus-a-copy\n",
      "  X_val_init.drop(columns=['total_points'], inplace=True)\n",
      "/var/folders/yc/p4crn8cj0tz82_rx5_032qvw0000gn/T/ipykernel_41066/3022688849.py:17: SettingWithCopyWarning: \n",
      "A value is trying to be set on a copy of a slice from a DataFrame\n",
      "\n",
      "See the caveats in the documentation: https://pandas.pydata.org/pandas-docs/stable/user_guide/indexing.html#returning-a-view-versus-a-copy\n",
      "  X_test_init.drop(columns=['total_points'], inplace=True)\n"
     ]
    }
   ],
   "source": [
    "# Train\n",
    "X_train_init = df[df['season'].isin(['2018-19','2019-20','2020-21'])]\n",
    "Y_train = X_train_init[['name_normalized', 'total_points']]\n",
    "X_train_init.drop(columns=['total_points'], inplace=True)\n",
    "# Y_train = np.array(X_train_init.pop('total_points'))\n",
    "\n",
    "# Validation\n",
    "X_val_init = df[df['season'].isin(['2021-22'])]\n",
    "Y_val = X_val_init[['name_normalized', 'total_points']]\n",
    "X_val_init.drop(columns=['total_points'], inplace=True)\n",
    "# Y_val = np.array(X_val_init.pop('total_points'))\n",
    "\n",
    "\n",
    "# Test\n",
    "X_test_init = df[df['season'].isin(['2022-23'])]\n",
    "Y_test = X_test_init[['name_normalized', 'total_points']]\n",
    "X_test_init.drop(columns=['total_points'], inplace=True)\n",
    "\n",
    "\n"
   ]
  },
  {
   "cell_type": "code",
   "execution_count": 43,
   "metadata": {
    "colab": {
     "base_uri": "https://localhost:8080/"
    },
    "id": "l4TJUquu6L3P",
    "outputId": "e28d5b4e-2c29-4774-cb97-68be68658f62"
   },
   "outputs": [
    {
     "name": "stdout",
     "output_type": "stream",
     "text": [
      "(68791, 74)\n",
      "(68791, 2)\n",
      "(25447, 74)\n",
      "(25447, 2)\n",
      "(26505, 74)\n",
      "(26505, 2)\n"
     ]
    }
   ],
   "source": [
    "# QCing train/test/val shapes - delete at the end\n",
    "print(X_train_init.shape)\n",
    "print(Y_train.shape)\n",
    "print(X_val_init.shape)\n",
    "print(Y_val.shape)\n",
    "print(X_test_init.shape)\n",
    "print(Y_test.shape)"
   ]
  },
  {
   "cell_type": "code",
   "execution_count": null,
   "metadata": {},
   "outputs": [],
   "source": []
  },
  {
   "cell_type": "code",
   "execution_count": 44,
   "metadata": {},
   "outputs": [
    {
     "data": {
      "text/html": [
       "<div>\n",
       "<style scoped>\n",
       "    .dataframe tbody tr th:only-of-type {\n",
       "        vertical-align: middle;\n",
       "    }\n",
       "\n",
       "    .dataframe tbody tr th {\n",
       "        vertical-align: top;\n",
       "    }\n",
       "\n",
       "    .dataframe thead th {\n",
       "        text-align: right;\n",
       "    }\n",
       "</style>\n",
       "<table border=\"1\" class=\"dataframe\">\n",
       "  <thead>\n",
       "    <tr style=\"text-align: right;\">\n",
       "      <th></th>\n",
       "      <th>season</th>\n",
       "      <th>position</th>\n",
       "      <th>player_team_name</th>\n",
       "      <th>was_home</th>\n",
       "      <th>GW</th>\n",
       "      <th>name_normalized</th>\n",
       "      <th>opp_team_name</th>\n",
       "      <th>opp_diff_ind</th>\n",
       "      <th>assists_lag_1</th>\n",
       "      <th>bonus_lag_1</th>\n",
       "      <th>...</th>\n",
       "      <th>penalties_saved_lag_5</th>\n",
       "      <th>red_cards_lag_5</th>\n",
       "      <th>saves_lag_5</th>\n",
       "      <th>selected_lag_5</th>\n",
       "      <th>player_team_score_lag_5</th>\n",
       "      <th>opp_team_score_lag_5</th>\n",
       "      <th>threat_lag_5</th>\n",
       "      <th>total_points_lag_5</th>\n",
       "      <th>value_lag_5</th>\n",
       "      <th>yellow_cards_lag_5</th>\n",
       "    </tr>\n",
       "  </thead>\n",
       "  <tbody>\n",
       "    <tr>\n",
       "      <th>19852</th>\n",
       "      <td>2018-19</td>\n",
       "      <td>DEF</td>\n",
       "      <td>West Ham</td>\n",
       "      <td>False</td>\n",
       "      <td>1</td>\n",
       "      <td>aaron cresswell</td>\n",
       "      <td>Liverpool</td>\n",
       "      <td>4</td>\n",
       "      <td>0.0</td>\n",
       "      <td>0.0</td>\n",
       "      <td>...</td>\n",
       "      <td>0.0</td>\n",
       "      <td>0.0</td>\n",
       "      <td>0.0</td>\n",
       "      <td>0.000000</td>\n",
       "      <td>0.000000</td>\n",
       "      <td>0.0</td>\n",
       "      <td>0.0</td>\n",
       "      <td>0.00</td>\n",
       "      <td>0.000000</td>\n",
       "      <td>0.00</td>\n",
       "    </tr>\n",
       "    <tr>\n",
       "      <th>19853</th>\n",
       "      <td>2018-19</td>\n",
       "      <td>DEF</td>\n",
       "      <td>West Ham</td>\n",
       "      <td>True</td>\n",
       "      <td>2</td>\n",
       "      <td>aaron cresswell</td>\n",
       "      <td>Bournemouth</td>\n",
       "      <td>1</td>\n",
       "      <td>0.0</td>\n",
       "      <td>0.0</td>\n",
       "      <td>...</td>\n",
       "      <td>0.0</td>\n",
       "      <td>0.0</td>\n",
       "      <td>0.0</td>\n",
       "      <td>103396.000000</td>\n",
       "      <td>0.000000</td>\n",
       "      <td>4.0</td>\n",
       "      <td>0.0</td>\n",
       "      <td>0.00</td>\n",
       "      <td>55.000000</td>\n",
       "      <td>0.00</td>\n",
       "    </tr>\n",
       "    <tr>\n",
       "      <th>19854</th>\n",
       "      <td>2018-19</td>\n",
       "      <td>DEF</td>\n",
       "      <td>West Ham</td>\n",
       "      <td>False</td>\n",
       "      <td>3</td>\n",
       "      <td>aaron cresswell</td>\n",
       "      <td>Arsenal</td>\n",
       "      <td>4</td>\n",
       "      <td>0.0</td>\n",
       "      <td>0.0</td>\n",
       "      <td>...</td>\n",
       "      <td>0.0</td>\n",
       "      <td>0.0</td>\n",
       "      <td>0.0</td>\n",
       "      <td>97364.500000</td>\n",
       "      <td>0.500000</td>\n",
       "      <td>3.0</td>\n",
       "      <td>0.0</td>\n",
       "      <td>0.00</td>\n",
       "      <td>55.000000</td>\n",
       "      <td>0.00</td>\n",
       "    </tr>\n",
       "    <tr>\n",
       "      <th>19855</th>\n",
       "      <td>2018-19</td>\n",
       "      <td>DEF</td>\n",
       "      <td>West Ham</td>\n",
       "      <td>True</td>\n",
       "      <td>4</td>\n",
       "      <td>aaron cresswell</td>\n",
       "      <td>Wolves</td>\n",
       "      <td>2</td>\n",
       "      <td>0.0</td>\n",
       "      <td>0.0</td>\n",
       "      <td>...</td>\n",
       "      <td>0.0</td>\n",
       "      <td>0.0</td>\n",
       "      <td>0.0</td>\n",
       "      <td>88011.666667</td>\n",
       "      <td>0.666667</td>\n",
       "      <td>3.0</td>\n",
       "      <td>0.0</td>\n",
       "      <td>0.00</td>\n",
       "      <td>54.666667</td>\n",
       "      <td>0.00</td>\n",
       "    </tr>\n",
       "    <tr>\n",
       "      <th>19856</th>\n",
       "      <td>2018-19</td>\n",
       "      <td>DEF</td>\n",
       "      <td>West Ham</td>\n",
       "      <td>False</td>\n",
       "      <td>5</td>\n",
       "      <td>aaron cresswell</td>\n",
       "      <td>Everton</td>\n",
       "      <td>2</td>\n",
       "      <td>0.0</td>\n",
       "      <td>0.0</td>\n",
       "      <td>...</td>\n",
       "      <td>0.0</td>\n",
       "      <td>0.0</td>\n",
       "      <td>0.0</td>\n",
       "      <td>80430.000000</td>\n",
       "      <td>0.500000</td>\n",
       "      <td>2.5</td>\n",
       "      <td>0.0</td>\n",
       "      <td>0.25</td>\n",
       "      <td>54.250000</td>\n",
       "      <td>0.25</td>\n",
       "    </tr>\n",
       "    <tr>\n",
       "      <th>...</th>\n",
       "      <td>...</td>\n",
       "      <td>...</td>\n",
       "      <td>...</td>\n",
       "      <td>...</td>\n",
       "      <td>...</td>\n",
       "      <td>...</td>\n",
       "      <td>...</td>\n",
       "      <td>...</td>\n",
       "      <td>...</td>\n",
       "      <td>...</td>\n",
       "      <td>...</td>\n",
       "      <td>...</td>\n",
       "      <td>...</td>\n",
       "      <td>...</td>\n",
       "      <td>...</td>\n",
       "      <td>...</td>\n",
       "      <td>...</td>\n",
       "      <td>...</td>\n",
       "      <td>...</td>\n",
       "      <td>...</td>\n",
       "      <td>...</td>\n",
       "    </tr>\n",
       "    <tr>\n",
       "      <th>88638</th>\n",
       "      <td>2020-21</td>\n",
       "      <td>GK</td>\n",
       "      <td>Aston Villa</td>\n",
       "      <td>True</td>\n",
       "      <td>35</td>\n",
       "      <td>rjan nyland</td>\n",
       "      <td>Man Utd</td>\n",
       "      <td>3</td>\n",
       "      <td>0.0</td>\n",
       "      <td>0.0</td>\n",
       "      <td>...</td>\n",
       "      <td>0.0</td>\n",
       "      <td>0.0</td>\n",
       "      <td>0.0</td>\n",
       "      <td>283883.000000</td>\n",
       "      <td>1.800000</td>\n",
       "      <td>1.6</td>\n",
       "      <td>0.0</td>\n",
       "      <td>0.00</td>\n",
       "      <td>40.000000</td>\n",
       "      <td>0.00</td>\n",
       "    </tr>\n",
       "    <tr>\n",
       "      <th>88639</th>\n",
       "      <td>2020-21</td>\n",
       "      <td>GK</td>\n",
       "      <td>Aston Villa</td>\n",
       "      <td>True</td>\n",
       "      <td>35</td>\n",
       "      <td>rjan nyland</td>\n",
       "      <td>Everton</td>\n",
       "      <td>2</td>\n",
       "      <td>0.0</td>\n",
       "      <td>0.0</td>\n",
       "      <td>...</td>\n",
       "      <td>0.0</td>\n",
       "      <td>0.0</td>\n",
       "      <td>0.0</td>\n",
       "      <td>281329.800000</td>\n",
       "      <td>1.400000</td>\n",
       "      <td>2.0</td>\n",
       "      <td>0.0</td>\n",
       "      <td>0.00</td>\n",
       "      <td>40.000000</td>\n",
       "      <td>0.00</td>\n",
       "    </tr>\n",
       "    <tr>\n",
       "      <th>88640</th>\n",
       "      <td>2020-21</td>\n",
       "      <td>GK</td>\n",
       "      <td>Aston Villa</td>\n",
       "      <td>False</td>\n",
       "      <td>36</td>\n",
       "      <td>rjan nyland</td>\n",
       "      <td>Crystal Palace</td>\n",
       "      <td>2</td>\n",
       "      <td>0.0</td>\n",
       "      <td>0.0</td>\n",
       "      <td>...</td>\n",
       "      <td>0.0</td>\n",
       "      <td>0.0</td>\n",
       "      <td>0.0</td>\n",
       "      <td>279428.600000</td>\n",
       "      <td>1.200000</td>\n",
       "      <td>1.6</td>\n",
       "      <td>0.0</td>\n",
       "      <td>0.00</td>\n",
       "      <td>40.000000</td>\n",
       "      <td>0.00</td>\n",
       "    </tr>\n",
       "    <tr>\n",
       "      <th>88641</th>\n",
       "      <td>2020-21</td>\n",
       "      <td>GK</td>\n",
       "      <td>Aston Villa</td>\n",
       "      <td>False</td>\n",
       "      <td>37</td>\n",
       "      <td>rjan nyland</td>\n",
       "      <td>Spurs</td>\n",
       "      <td>3</td>\n",
       "      <td>0.0</td>\n",
       "      <td>0.0</td>\n",
       "      <td>...</td>\n",
       "      <td>0.0</td>\n",
       "      <td>0.0</td>\n",
       "      <td>0.0</td>\n",
       "      <td>277735.200000</td>\n",
       "      <td>1.400000</td>\n",
       "      <td>1.8</td>\n",
       "      <td>0.0</td>\n",
       "      <td>0.00</td>\n",
       "      <td>40.000000</td>\n",
       "      <td>0.00</td>\n",
       "    </tr>\n",
       "    <tr>\n",
       "      <th>88642</th>\n",
       "      <td>2020-21</td>\n",
       "      <td>GK</td>\n",
       "      <td>Aston Villa</td>\n",
       "      <td>True</td>\n",
       "      <td>38</td>\n",
       "      <td>rjan nyland</td>\n",
       "      <td>Chelsea</td>\n",
       "      <td>3</td>\n",
       "      <td>0.0</td>\n",
       "      <td>0.0</td>\n",
       "      <td>...</td>\n",
       "      <td>0.0</td>\n",
       "      <td>0.0</td>\n",
       "      <td>0.0</td>\n",
       "      <td>276254.800000</td>\n",
       "      <td>1.400000</td>\n",
       "      <td>1.6</td>\n",
       "      <td>0.0</td>\n",
       "      <td>0.00</td>\n",
       "      <td>40.000000</td>\n",
       "      <td>0.00</td>\n",
       "    </tr>\n",
       "  </tbody>\n",
       "</table>\n",
       "<p>68791 rows × 74 columns</p>\n",
       "</div>"
      ],
      "text/plain": [
       "        season position player_team_name  was_home  GW  name_normalized  \\\n",
       "19852  2018-19      DEF         West Ham     False   1  aaron cresswell   \n",
       "19853  2018-19      DEF         West Ham      True   2  aaron cresswell   \n",
       "19854  2018-19      DEF         West Ham     False   3  aaron cresswell   \n",
       "19855  2018-19      DEF         West Ham      True   4  aaron cresswell   \n",
       "19856  2018-19      DEF         West Ham     False   5  aaron cresswell   \n",
       "...        ...      ...              ...       ...  ..              ...   \n",
       "88638  2020-21       GK      Aston Villa      True  35      rjan nyland   \n",
       "88639  2020-21       GK      Aston Villa      True  35      rjan nyland   \n",
       "88640  2020-21       GK      Aston Villa     False  36      rjan nyland   \n",
       "88641  2020-21       GK      Aston Villa     False  37      rjan nyland   \n",
       "88642  2020-21       GK      Aston Villa      True  38      rjan nyland   \n",
       "\n",
       "        opp_team_name  opp_diff_ind  assists_lag_1  bonus_lag_1  ...  \\\n",
       "19852       Liverpool             4            0.0          0.0  ...   \n",
       "19853     Bournemouth             1            0.0          0.0  ...   \n",
       "19854         Arsenal             4            0.0          0.0  ...   \n",
       "19855          Wolves             2            0.0          0.0  ...   \n",
       "19856         Everton             2            0.0          0.0  ...   \n",
       "...               ...           ...            ...          ...  ...   \n",
       "88638         Man Utd             3            0.0          0.0  ...   \n",
       "88639         Everton             2            0.0          0.0  ...   \n",
       "88640  Crystal Palace             2            0.0          0.0  ...   \n",
       "88641           Spurs             3            0.0          0.0  ...   \n",
       "88642         Chelsea             3            0.0          0.0  ...   \n",
       "\n",
       "       penalties_saved_lag_5  red_cards_lag_5  saves_lag_5  selected_lag_5  \\\n",
       "19852                    0.0              0.0          0.0        0.000000   \n",
       "19853                    0.0              0.0          0.0   103396.000000   \n",
       "19854                    0.0              0.0          0.0    97364.500000   \n",
       "19855                    0.0              0.0          0.0    88011.666667   \n",
       "19856                    0.0              0.0          0.0    80430.000000   \n",
       "...                      ...              ...          ...             ...   \n",
       "88638                    0.0              0.0          0.0   283883.000000   \n",
       "88639                    0.0              0.0          0.0   281329.800000   \n",
       "88640                    0.0              0.0          0.0   279428.600000   \n",
       "88641                    0.0              0.0          0.0   277735.200000   \n",
       "88642                    0.0              0.0          0.0   276254.800000   \n",
       "\n",
       "       player_team_score_lag_5  opp_team_score_lag_5  threat_lag_5  \\\n",
       "19852                 0.000000                   0.0           0.0   \n",
       "19853                 0.000000                   4.0           0.0   \n",
       "19854                 0.500000                   3.0           0.0   \n",
       "19855                 0.666667                   3.0           0.0   \n",
       "19856                 0.500000                   2.5           0.0   \n",
       "...                        ...                   ...           ...   \n",
       "88638                 1.800000                   1.6           0.0   \n",
       "88639                 1.400000                   2.0           0.0   \n",
       "88640                 1.200000                   1.6           0.0   \n",
       "88641                 1.400000                   1.8           0.0   \n",
       "88642                 1.400000                   1.6           0.0   \n",
       "\n",
       "       total_points_lag_5  value_lag_5  yellow_cards_lag_5  \n",
       "19852                0.00     0.000000                0.00  \n",
       "19853                0.00    55.000000                0.00  \n",
       "19854                0.00    55.000000                0.00  \n",
       "19855                0.00    54.666667                0.00  \n",
       "19856                0.25    54.250000                0.25  \n",
       "...                   ...          ...                 ...  \n",
       "88638                0.00    40.000000                0.00  \n",
       "88639                0.00    40.000000                0.00  \n",
       "88640                0.00    40.000000                0.00  \n",
       "88641                0.00    40.000000                0.00  \n",
       "88642                0.00    40.000000                0.00  \n",
       "\n",
       "[68791 rows x 74 columns]"
      ]
     },
     "execution_count": 44,
     "metadata": {},
     "output_type": "execute_result"
    }
   ],
   "source": [
    "X_train_init"
   ]
  },
  {
   "cell_type": "code",
   "execution_count": null,
   "metadata": {},
   "outputs": [],
   "source": []
  },
  {
   "cell_type": "code",
   "execution_count": null,
   "metadata": {},
   "outputs": [],
   "source": []
  },
  {
   "cell_type": "code",
   "execution_count": null,
   "metadata": {},
   "outputs": [],
   "source": []
  },
  {
   "cell_type": "markdown",
   "metadata": {
    "id": "h8vh8gqG_NLO"
   },
   "source": [
    "# Standardize lagged features"
   ]
  },
  {
   "cell_type": "code",
   "execution_count": null,
   "metadata": {},
   "outputs": [],
   "source": []
  },
  {
   "cell_type": "code",
   "execution_count": 45,
   "metadata": {
    "id": "IQ9VP4HA6pVJ"
   },
   "outputs": [],
   "source": [
    "# Pulling out only the features to be standardized\n",
    "categorical_vars = ['season','player_team_name','opp_team_name','opp_diff_ind','position','GW','was_home', 'name_normalized']\n",
    "\n",
    "X_train_contin = X_train_init.loc[:, ~X_train_init.columns.isin(categorical_vars)]\n",
    "X_val_contin = X_val_init.loc[:, ~X_val_init.columns.isin(categorical_vars)]\n",
    "X_test_contin = X_test_init.loc[:, ~X_test_init.columns.isin(categorical_vars)]"
   ]
  },
  {
   "cell_type": "code",
   "execution_count": 46,
   "metadata": {},
   "outputs": [
    {
     "data": {
      "text/plain": [
       "Index(['assists_lag_1', 'bonus_lag_1', 'bps_lag_1', 'clean_sheets_lag_1',\n",
       "       'creativity_lag_1', 'goals_conceded_lag_1', 'goals_scored_lag_1',\n",
       "       'ict_index_lag_1', 'influence_lag_1', 'minutes_lag_1',\n",
       "       'own_goals_lag_1', 'penalties_missed_lag_1', 'penalties_saved_lag_1',\n",
       "       'red_cards_lag_1', 'saves_lag_1', 'selected_lag_1',\n",
       "       'player_team_score_lag_1', 'opp_team_score_lag_1', 'threat_lag_1',\n",
       "       'total_points_lag_1', 'value_lag_1', 'yellow_cards_lag_1',\n",
       "       'assists_lag_3', 'bonus_lag_3', 'bps_lag_3', 'clean_sheets_lag_3',\n",
       "       'creativity_lag_3', 'goals_conceded_lag_3', 'goals_scored_lag_3',\n",
       "       'ict_index_lag_3', 'influence_lag_3', 'minutes_lag_3',\n",
       "       'own_goals_lag_3', 'penalties_missed_lag_3', 'penalties_saved_lag_3',\n",
       "       'red_cards_lag_3', 'saves_lag_3', 'selected_lag_3',\n",
       "       'player_team_score_lag_3', 'opp_team_score_lag_3', 'threat_lag_3',\n",
       "       'total_points_lag_3', 'value_lag_3', 'yellow_cards_lag_3',\n",
       "       'assists_lag_5', 'bonus_lag_5', 'bps_lag_5', 'clean_sheets_lag_5',\n",
       "       'creativity_lag_5', 'goals_conceded_lag_5', 'goals_scored_lag_5',\n",
       "       'ict_index_lag_5', 'influence_lag_5', 'minutes_lag_5',\n",
       "       'own_goals_lag_5', 'penalties_missed_lag_5', 'penalties_saved_lag_5',\n",
       "       'red_cards_lag_5', 'saves_lag_5', 'selected_lag_5',\n",
       "       'player_team_score_lag_5', 'opp_team_score_lag_5', 'threat_lag_5',\n",
       "       'total_points_lag_5', 'value_lag_5', 'yellow_cards_lag_5'],\n",
       "      dtype='object')"
      ]
     },
     "execution_count": 46,
     "metadata": {},
     "output_type": "execute_result"
    }
   ],
   "source": [
    "X_test_contin.columns"
   ]
  },
  {
   "cell_type": "code",
   "execution_count": 47,
   "metadata": {},
   "outputs": [],
   "source": [
    "categorical_vars_test = ['player_name','season','player_team_name','opp_team_name','opp_diff_ind','position','GW','was_home',\n",
    "                         'name_normalized','total_points']\n",
    "df_man_city_contin = df_man_city.loc[:, ~df_man_city.columns.isin(categorical_vars_test)]\n",
    "df_brighton_contin = df_brighton.loc[:, ~df_brighton.columns.isin(categorical_vars_test)]"
   ]
  },
  {
   "cell_type": "code",
   "execution_count": 48,
   "metadata": {
    "id": "JhyLTO-pT_q4"
   },
   "outputs": [],
   "source": [
    "# Standardizing the continuous variables\n",
    "scaler = StandardScaler()\n",
    "\n",
    "# Fit and transform the train features\n",
    "train_features = scaler.fit_transform(X_train_contin)\n",
    "\n",
    "# Only transform the validation and test features\n",
    "val_features = scaler.transform(X_val_contin)\n",
    "test_features = scaler.transform(X_test_contin)"
   ]
  },
  {
   "cell_type": "code",
   "execution_count": 49,
   "metadata": {},
   "outputs": [],
   "source": [
    "# Standardize test team features\n",
    "df_man_city_feat = scaler.transform(df_man_city_contin)\n",
    "df_brighton_feat = scaler.transform(df_brighton_contin)"
   ]
  },
  {
   "cell_type": "code",
   "execution_count": 50,
   "metadata": {
    "colab": {
     "base_uri": "https://localhost:8080/"
    },
    "id": "CKe31UhcyQJI",
    "outputId": "c3bfed24-8f00-47a7-9fbc-13b6ef8dd37a"
   },
   "outputs": [
    {
     "name": "stdout",
     "output_type": "stream",
     "text": [
      "(25447, 66)\n",
      "(25447, 66)\n"
     ]
    }
   ],
   "source": [
    "print(X_val_contin.shape)\n",
    "print(val_features.shape)"
   ]
  },
  {
   "cell_type": "code",
   "execution_count": 51,
   "metadata": {
    "id": "ouwxQ-LR-Hm8"
   },
   "outputs": [],
   "source": [
    "# Turn the standardized arrays back into DFs and add the column names back in\n",
    "X_train_temp = pd.DataFrame(train_features, columns=X_train_contin.columns)\n",
    "X_val_temp = pd.DataFrame(val_features, columns=X_val_contin.columns)\n",
    "X_test_temp = pd.DataFrame(test_features, columns=X_test_contin.columns)"
   ]
  },
  {
   "cell_type": "code",
   "execution_count": 52,
   "metadata": {},
   "outputs": [],
   "source": [
    "# Turn the standardized arrays back into DFs and add the column names back in (for two test teams)\n",
    "df_man_city_temp = pd.DataFrame(df_man_city_feat, columns=df_man_city_contin.columns)\n",
    "df_brighton_temp = pd.DataFrame(df_brighton_feat, columns=df_brighton_contin.columns)"
   ]
  },
  {
   "cell_type": "code",
   "execution_count": 54,
   "metadata": {},
   "outputs": [
    {
     "name": "stdout",
     "output_type": "stream",
     "text": [
      "<class 'pandas.core.frame.DataFrame'>\n",
      "Index: 68791 entries, 19852 to 88642\n",
      "Data columns (total 74 columns):\n",
      " #   Column                   Non-Null Count  Dtype  \n",
      "---  ------                   --------------  -----  \n",
      " 0   season                   68791 non-null  object \n",
      " 1   position                 68791 non-null  object \n",
      " 2   player_team_name         68791 non-null  object \n",
      " 3   was_home                 68791 non-null  bool   \n",
      " 4   GW                       68791 non-null  int64  \n",
      " 5   name_normalized          68791 non-null  object \n",
      " 6   opp_team_name            68791 non-null  object \n",
      " 7   opp_diff_ind             68791 non-null  int64  \n",
      " 8   assists_lag_1            68791 non-null  float64\n",
      " 9   bonus_lag_1              68791 non-null  float64\n",
      " 10  bps_lag_1                68791 non-null  float64\n",
      " 11  clean_sheets_lag_1       68791 non-null  float64\n",
      " 12  creativity_lag_1         68791 non-null  float64\n",
      " 13  goals_conceded_lag_1     68791 non-null  float64\n",
      " 14  goals_scored_lag_1       68791 non-null  float64\n",
      " 15  ict_index_lag_1          68791 non-null  float64\n",
      " 16  influence_lag_1          68791 non-null  float64\n",
      " 17  minutes_lag_1            68791 non-null  float64\n",
      " 18  own_goals_lag_1          68791 non-null  float64\n",
      " 19  penalties_missed_lag_1   68791 non-null  float64\n",
      " 20  penalties_saved_lag_1    68791 non-null  float64\n",
      " 21  red_cards_lag_1          68791 non-null  float64\n",
      " 22  saves_lag_1              68791 non-null  float64\n",
      " 23  selected_lag_1           68791 non-null  float64\n",
      " 24  player_team_score_lag_1  68791 non-null  float64\n",
      " 25  opp_team_score_lag_1     68791 non-null  float64\n",
      " 26  threat_lag_1             68791 non-null  float64\n",
      " 27  total_points_lag_1       68791 non-null  float64\n",
      " 28  value_lag_1              68791 non-null  float64\n",
      " 29  yellow_cards_lag_1       68791 non-null  float64\n",
      " 30  assists_lag_3            68791 non-null  float64\n",
      " 31  bonus_lag_3              68791 non-null  float64\n",
      " 32  bps_lag_3                68791 non-null  float64\n",
      " 33  clean_sheets_lag_3       68791 non-null  float64\n",
      " 34  creativity_lag_3         68791 non-null  float64\n",
      " 35  goals_conceded_lag_3     68791 non-null  float64\n",
      " 36  goals_scored_lag_3       68791 non-null  float64\n",
      " 37  ict_index_lag_3          68791 non-null  float64\n",
      " 38  influence_lag_3          68791 non-null  float64\n",
      " 39  minutes_lag_3            68791 non-null  float64\n",
      " 40  own_goals_lag_3          68791 non-null  float64\n",
      " 41  penalties_missed_lag_3   68791 non-null  float64\n",
      " 42  penalties_saved_lag_3    68791 non-null  float64\n",
      " 43  red_cards_lag_3          68791 non-null  float64\n",
      " 44  saves_lag_3              68791 non-null  float64\n",
      " 45  selected_lag_3           68791 non-null  float64\n",
      " 46  player_team_score_lag_3  68791 non-null  float64\n",
      " 47  opp_team_score_lag_3     68791 non-null  float64\n",
      " 48  threat_lag_3             68791 non-null  float64\n",
      " 49  total_points_lag_3       68791 non-null  float64\n",
      " 50  value_lag_3              68791 non-null  float64\n",
      " 51  yellow_cards_lag_3       68791 non-null  float64\n",
      " 52  assists_lag_5            68791 non-null  float64\n",
      " 53  bonus_lag_5              68791 non-null  float64\n",
      " 54  bps_lag_5                68791 non-null  float64\n",
      " 55  clean_sheets_lag_5       68791 non-null  float64\n",
      " 56  creativity_lag_5         68791 non-null  float64\n",
      " 57  goals_conceded_lag_5     68791 non-null  float64\n",
      " 58  goals_scored_lag_5       68791 non-null  float64\n",
      " 59  ict_index_lag_5          68791 non-null  float64\n",
      " 60  influence_lag_5          68791 non-null  float64\n",
      " 61  minutes_lag_5            68791 non-null  float64\n",
      " 62  own_goals_lag_5          68791 non-null  float64\n",
      " 63  penalties_missed_lag_5   68791 non-null  float64\n",
      " 64  penalties_saved_lag_5    68791 non-null  float64\n",
      " 65  red_cards_lag_5          68791 non-null  float64\n",
      " 66  saves_lag_5              68791 non-null  float64\n",
      " 67  selected_lag_5           68791 non-null  float64\n",
      " 68  player_team_score_lag_5  68791 non-null  float64\n",
      " 69  opp_team_score_lag_5     68791 non-null  float64\n",
      " 70  threat_lag_5             68791 non-null  float64\n",
      " 71  total_points_lag_5       68791 non-null  float64\n",
      " 72  value_lag_5              68791 non-null  float64\n",
      " 73  yellow_cards_lag_5       68791 non-null  float64\n",
      "dtypes: bool(1), float64(66), int64(2), object(5)\n",
      "memory usage: 38.9+ MB\n"
     ]
    }
   ],
   "source": [
    "X_train_init.info()"
   ]
  },
  {
   "cell_type": "code",
   "execution_count": 57,
   "metadata": {
    "id": "73brhBfuAXdB"
   },
   "outputs": [],
   "source": [
    "# Join the categorical variables back\n",
    "X_train_ = pd.concat([X_train_init[categorical_vars].reset_index(drop=True),X_train_temp], axis=1)\n",
    "X_val_ = pd.concat([X_val_init[categorical_vars].reset_index(drop=True),X_val_temp], axis=1)\n",
    "X_test_ = pd.concat([X_test_init[categorical_vars].reset_index(drop=True),X_test_temp], axis=1)"
   ]
  },
  {
   "cell_type": "code",
   "execution_count": null,
   "metadata": {},
   "outputs": [],
   "source": []
  },
  {
   "cell_type": "code",
   "execution_count": 60,
   "metadata": {},
   "outputs": [],
   "source": [
    "# Join the categorical variables back (for two test teams)\n",
    "df_man_city = pd.concat([df_man_city[categorical_vars_test].reset_index(drop=True),df_man_city_temp], axis=1)\n",
    "df_brighton = pd.concat([df_brighton[categorical_vars_test].reset_index(drop=True),df_brighton_temp], axis=1)"
   ]
  },
  {
   "cell_type": "code",
   "execution_count": 61,
   "metadata": {
    "colab": {
     "base_uri": "https://localhost:8080/"
    },
    "id": "ks014O12GqzI",
    "outputId": "c40a139a-faef-44a6-8eae-aa2c94263b49"
   },
   "outputs": [
    {
     "name": "stdout",
     "output_type": "stream",
     "text": [
      "(68791, 74)\n",
      "(68791, 74)\n",
      "(68791, 2)\n",
      "(25447, 74)\n",
      "(25447, 74)\n",
      "(25447, 2)\n",
      "(26505, 74)\n",
      "(26505, 74)\n",
      "(26505, 2)\n"
     ]
    }
   ],
   "source": [
    "# QCing train/test/val shapes post-standardization - delete at the end\n",
    "print(X_train_init.shape)\n",
    "print(X_train_.shape)\n",
    "print(Y_train.shape)\n",
    "print(X_val_init.shape)\n",
    "print(X_val_.shape)\n",
    "print(Y_val.shape)\n",
    "print(X_test_init.shape)\n",
    "print(X_test_.shape)\n",
    "print(Y_test.shape)"
   ]
  },
  {
   "cell_type": "code",
   "execution_count": null,
   "metadata": {},
   "outputs": [],
   "source": []
  },
  {
   "cell_type": "markdown",
   "metadata": {
    "id": "tKOKuir02Gua"
   },
   "source": [
    "# Exporting CSVs"
   ]
  },
  {
   "cell_type": "code",
   "execution_count": 103,
   "metadata": {
    "id": "GrHjxmSeMzuo"
   },
   "outputs": [],
   "source": [
    "# Turning labels into DFs so we can export them\n",
    "# Y_train = pd.DataFrame(Y_train, columns=['total_points'])\n",
    "# Y_val = pd.DataFrame(Y_val, columns=['total_points'])\n",
    "# Y_test = pd.DataFrame(Y_test, columns=['total_points'])"
   ]
  },
  {
   "cell_type": "code",
   "execution_count": 62,
   "metadata": {
    "id": "Xe_WJHN8fTyB"
   },
   "outputs": [],
   "source": [
    "X_train_.to_csv('data/X_train.csv', encoding='utf-8')\n",
    "Y_train.to_csv('data/Y_train.csv', encoding='utf-8')\n",
    "X_val_.to_csv('data/X_val.csv', encoding='utf-8')\n",
    "Y_val.to_csv('data/Y_val.csv', encoding='utf-8')\n",
    "X_test_.to_csv('data/X_test.csv', encoding='utf-8')\n",
    "Y_test.to_csv('data/Y_test.csv', encoding='utf-8')"
   ]
  },
  {
   "cell_type": "code",
   "execution_count": 63,
   "metadata": {
    "id": "YUU4gC0qMgtu"
   },
   "outputs": [],
   "source": [
    "# Two test teams\n",
    "df_man_city.to_csv('data/df_man_city.csv', encoding='utf-8')\n",
    "df_brighton.to_csv('data/df_brighton.csv', encoding='utf-8')"
   ]
  },
  {
   "cell_type": "code",
   "execution_count": null,
   "metadata": {},
   "outputs": [],
   "source": []
  }
 ],
 "metadata": {
  "colab": {
   "provenance": []
  },
  "kernelspec": {
   "display_name": "Python 3 (ipykernel)",
   "language": "python",
   "name": "python3"
  },
  "language_info": {
   "codemirror_mode": {
    "name": "ipython",
    "version": 3
   },
   "file_extension": ".py",
   "mimetype": "text/x-python",
   "name": "python",
   "nbconvert_exporter": "python",
   "pygments_lexer": "ipython3",
   "version": "3.9.18"
  }
 },
 "nbformat": 4,
 "nbformat_minor": 4
}
